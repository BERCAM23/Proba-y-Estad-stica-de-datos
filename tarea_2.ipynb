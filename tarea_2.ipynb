{
  "cells": [
    {
      "cell_type": "markdown",
      "metadata": {
        "id": "YPQkPrRE4mIr"
      },
      "source": [
        "1. Lanzas una moneda justa (es decir, la probabilidad de obtener cara es $0.5$ ) tres veces. Suponga que todas las secuencias de resultados de lanzamiento de moneda, de longitud 3, son igualmente probables. Determine la probabilidad de cada uno de los siguientes eventos:\n",
        "\n",
        "    a. $\\{HHH\\}$ $3$ caras.\n",
        "    \n",
        "    b. $\\{HTH\\}$ cara, águila, cara.\n",
        "    \n",
        "    c. Cualquier sucesión con dos caras y un águila (en cualquier orden).\n",
        "    \n",
        "    d. Cualquier sucesión en donde el número de caras sea mayor o igual al número de      águilas."
      ]
    },
    {
      "cell_type": "code",
      "execution_count": null,
      "metadata": {
        "colab": {
          "base_uri": "https://localhost:8080/"
        },
        "id": "G4xnyr7p4mI5",
        "outputId": "d1abd0d0-e4dc-448c-df4f-4b97c43453c1"
      },
      "outputs": [
        {
          "output_type": "stream",
          "name": "stdout",
          "text": [
            "0.125\n",
            "0.125\n",
            "0.375\n",
            "0.5\n"
          ]
        }
      ],
      "source": [
        "from itertools import product\n",
        "from IPython.core.display import display_markdown\n",
        "import pandas as pd\n",
        "Universo = set(product({\"A\", \"S\"}, repeat = 3))\n",
        "Universo\n",
        "tresA = {omega for omega in Universo if omega[0] == \"A\" and omega[1]==\"A\" and omega[2] == \"A\"}\n",
        "tresA\n",
        "a = len(tresA)/len(Universo)\n",
        "incisob = {omega for omega in Universo if omega[0] == \"A\" and omega[1]==\"S\" and omega[2] == \"A\"}\n",
        "b = len(incisob)/len(Universo)\n",
        "incisoc = {omega for omega in Universo if omega.count(\"S\") == 2 and omega.count(\"A\") == 1}\n",
        "c = len(incisoc)/len(Universo)\n",
        "incisod = {omega for omega in Universo if omega.count(\"S\") >= omega.count(\"A\")}\n",
        "d = len(incisod)/len(Universo)\n",
        "print(a)\n",
        "print(b)\n",
        "print(c)\n",
        "print(d)\n"
      ]
    },
    {
      "cell_type": "markdown",
      "metadata": {
        "id": "E11CKMkR4mI_"
      },
      "source": [
        "2. En el ejercicio anterior, calcula las probabilidades dado que sabes que cayó una cara en el primer lanzamiento."
      ]
    },
    {
      "cell_type": "code",
      "execution_count": null,
      "metadata": {
        "id": "2jh4oXpA4mJA",
        "colab": {
          "base_uri": "https://localhost:8080/"
        },
        "outputId": "d4cca2dc-beb2-4d21-f09d-2026fd110795"
      },
      "outputs": [
        {
          "output_type": "execute_result",
          "data": {
            "text/plain": [
              "0.5"
            ]
          },
          "metadata": {},
          "execution_count": 14
        }
      ],
      "source": [
        "# Aquí va tu código\n",
        "respuesta = {omega for omega in Universo if omega[0] == \"S\"}\n",
        "r = len(respuesta)/len(Universo)\n",
        "r\n"
      ]
    },
    {
      "cell_type": "markdown",
      "metadata": {
        "id": "7jbAJL8W4mJB"
      },
      "source": [
        "3. Alicia y Samuel eligen al azar un número real entre cero y uno. Suponemos que el par de números se elige sobre el cuadrado unitario, de modo que la probabilidad de un evento es igual a su área. Definimos los siguientes eventos:\n",
        "\n",
        "    A: la magnitud de la diferencia de los dos números es mayor que $1/3$.\n",
        "\n",
        "    B: Al menos uno de los números es mayor que $1/4$.\n",
        "\n",
        "    C: LA suma de los dos números es $1$.\n",
        "\n",
        "    D: El número de Alicia es mayor que $1/4$\n",
        "\n",
        "Calcula la probabilidad de cada evento."
      ]
    },
    {
      "cell_type": "code",
      "execution_count": null,
      "metadata": {
        "id": "EYy7rJ0E4mJD",
        "colab": {
          "base_uri": "https://localhost:8080/"
        },
        "outputId": "1d04d1b7-2c47-4231-9763-6d75d405a50b"
      },
      "outputs": [
        {
          "output_type": "stream",
          "name": "stdout",
          "text": [
            "Respuesta a: 0.462\n",
            "Respuesta b: 0.933\n",
            "Respuesta c: 0.0\n",
            "Respuesta d: 0.733\n"
          ]
        }
      ],
      "source": [
        "# Aquí va tu código \n",
        "import numpy as np\n",
        "np.random.random(2)\n",
        "conteo = 0\n",
        "loops = 1000\n",
        "\n",
        "for x in range(1,loops):\n",
        "  Alicia = np.random.random()\n",
        "  Samuel = np.random.random()\n",
        "  if abs(Alicia-Samuel) > (1/3):\n",
        "    conteo = conteo + 1\n",
        "\n",
        "a= conteo / loops\n",
        "\n",
        "conteo2 = 0\n",
        "\n",
        "for x in range(1,loops):\n",
        "  Alicia = np.random.random()\n",
        "  Samuel = np.random.random()\n",
        "  if Alicia > 0.25 or Samuel > 0.25:\n",
        "    conteo2 = conteo2 + 1\n",
        "\n",
        "\n",
        "\n",
        "b= conteo2 / loops\n",
        "b\n",
        "\n",
        "conteo3 = 0\n",
        "\n",
        "for x in range(1,loops):\n",
        "  Alicia = np.random.random()\n",
        "  Samuel = np.random.random()\n",
        "  if Alicia + Samuel == 1:\n",
        "    conteo3 = conteo3 + 1\n",
        "\n",
        "c = conteo3/loops\n",
        "\n",
        "conteo4 = 0\n",
        "\n",
        "for x in range(1,loops):\n",
        "  Alicia = np.random.random()\n",
        "  Samuel = np.random.random()\n",
        "  if Alicia > (1/4):\n",
        "    conteo4 = conteo4 + 1\n",
        "\n",
        "d = conteo4/loops\n",
        "\n",
        "print(\"Respuesta a: \" + str(a))\n",
        "print(\"Respuesta b: \" + str(b))\n",
        "print(\"Respuesta c: \" + str(c))\n",
        "print(\"Respuesta d: \" + str(d))\n",
        "\n",
        "\n"
      ]
    },
    {
      "cell_type": "code",
      "source": [
        "# codigo calse\n",
        "\n",
        "from itertools import product\n",
        "\n",
        "!pip install python-intervals==1.4.0\n",
        "\n",
        "import intervals as I\n",
        "\n",
        "U = set(product())"
      ],
      "metadata": {
        "colab": {
          "base_uri": "https://localhost:8080/"
        },
        "id": "058aq_wxt3ln",
        "outputId": "d74482d6-2ba5-4473-95f3-91e7d21761f8"
      },
      "execution_count": null,
      "outputs": [
        {
          "output_type": "stream",
          "name": "stdout",
          "text": [
            "Looking in indexes: https://pypi.org/simple, https://us-python.pkg.dev/colab-wheels/public/simple/\n",
            "Collecting python-intervals==1.4.0\n",
            "  Downloading python_intervals-1.4.0-py2.py3-none-any.whl (10 kB)\n",
            "Installing collected packages: python-intervals\n",
            "Successfully installed python-intervals-1.4.0\n"
          ]
        }
      ]
    },
    {
      "cell_type": "markdown",
      "metadata": {
        "id": "gKZ0iRSv4mJE"
      },
      "source": [
        "4. Simula una sucesión de $5$ volados simultáneos (1 muestreo) con monedas honestas que consista de 100 observaciones. Registra tus datos en un DataFrame de Pandas. "
      ]
    },
    {
      "cell_type": "code",
      "execution_count": null,
      "metadata": {
        "id": "zIdC1mkf4mJG",
        "colab": {
          "base_uri": "https://localhost:8080/",
          "height": 317
        },
        "outputId": "4476992d-0191-4de2-ea55-0064491548f7"
      },
      "outputs": [
        {
          "output_type": "execute_result",
          "data": {
            "text/plain": [
              "   muestra 1  muestra 2  muestra 3  muestra 4  muestra 5  muestra 6  \\\n",
              "0          1          1          0          0          0          1   \n",
              "1          0          1          1          0          1          0   \n",
              "2          1          0          0          1          0          0   \n",
              "3          1          1          1          1          0          1   \n",
              "4          0          1          0          1          1          1   \n",
              "\n",
              "   muestra 7  muestra 8  muestra 9  muestra 10  ...  muestra 91  muestra 92  \\\n",
              "0          1          0          0           1  ...           1           0   \n",
              "1          0          1          0           1  ...           1           1   \n",
              "2          1          1          1           0  ...           1           1   \n",
              "3          1          0          1           1  ...           1           0   \n",
              "4          0          0          1           0  ...           1           0   \n",
              "\n",
              "   muestra 93  muestra 94  muestra 95  muestra 96  muestra 97  muestra 98  \\\n",
              "0           1           1           1           0           1           1   \n",
              "1           1           1           0           1           0           0   \n",
              "2           0           1           1           0           1           0   \n",
              "3           1           1           0           0           1           1   \n",
              "4           0           0           1           1           1           1   \n",
              "\n",
              "   muestra 99  muestra 100  \n",
              "0           0            0  \n",
              "1           1            1  \n",
              "2           1            1  \n",
              "3           0            0  \n",
              "4           0            0  \n",
              "\n",
              "[5 rows x 100 columns]"
            ],
            "text/html": [
              "\n",
              "  <div id=\"df-d8d84d4e-6854-4d13-b77c-4964546d3835\">\n",
              "    <div class=\"colab-df-container\">\n",
              "      <div>\n",
              "<style scoped>\n",
              "    .dataframe tbody tr th:only-of-type {\n",
              "        vertical-align: middle;\n",
              "    }\n",
              "\n",
              "    .dataframe tbody tr th {\n",
              "        vertical-align: top;\n",
              "    }\n",
              "\n",
              "    .dataframe thead th {\n",
              "        text-align: right;\n",
              "    }\n",
              "</style>\n",
              "<table border=\"1\" class=\"dataframe\">\n",
              "  <thead>\n",
              "    <tr style=\"text-align: right;\">\n",
              "      <th></th>\n",
              "      <th>muestra 1</th>\n",
              "      <th>muestra 2</th>\n",
              "      <th>muestra 3</th>\n",
              "      <th>muestra 4</th>\n",
              "      <th>muestra 5</th>\n",
              "      <th>muestra 6</th>\n",
              "      <th>muestra 7</th>\n",
              "      <th>muestra 8</th>\n",
              "      <th>muestra 9</th>\n",
              "      <th>muestra 10</th>\n",
              "      <th>...</th>\n",
              "      <th>muestra 91</th>\n",
              "      <th>muestra 92</th>\n",
              "      <th>muestra 93</th>\n",
              "      <th>muestra 94</th>\n",
              "      <th>muestra 95</th>\n",
              "      <th>muestra 96</th>\n",
              "      <th>muestra 97</th>\n",
              "      <th>muestra 98</th>\n",
              "      <th>muestra 99</th>\n",
              "      <th>muestra 100</th>\n",
              "    </tr>\n",
              "  </thead>\n",
              "  <tbody>\n",
              "    <tr>\n",
              "      <th>0</th>\n",
              "      <td>1</td>\n",
              "      <td>1</td>\n",
              "      <td>0</td>\n",
              "      <td>0</td>\n",
              "      <td>0</td>\n",
              "      <td>1</td>\n",
              "      <td>1</td>\n",
              "      <td>0</td>\n",
              "      <td>0</td>\n",
              "      <td>1</td>\n",
              "      <td>...</td>\n",
              "      <td>1</td>\n",
              "      <td>0</td>\n",
              "      <td>1</td>\n",
              "      <td>1</td>\n",
              "      <td>1</td>\n",
              "      <td>0</td>\n",
              "      <td>1</td>\n",
              "      <td>1</td>\n",
              "      <td>0</td>\n",
              "      <td>0</td>\n",
              "    </tr>\n",
              "    <tr>\n",
              "      <th>1</th>\n",
              "      <td>0</td>\n",
              "      <td>1</td>\n",
              "      <td>1</td>\n",
              "      <td>0</td>\n",
              "      <td>1</td>\n",
              "      <td>0</td>\n",
              "      <td>0</td>\n",
              "      <td>1</td>\n",
              "      <td>0</td>\n",
              "      <td>1</td>\n",
              "      <td>...</td>\n",
              "      <td>1</td>\n",
              "      <td>1</td>\n",
              "      <td>1</td>\n",
              "      <td>1</td>\n",
              "      <td>0</td>\n",
              "      <td>1</td>\n",
              "      <td>0</td>\n",
              "      <td>0</td>\n",
              "      <td>1</td>\n",
              "      <td>1</td>\n",
              "    </tr>\n",
              "    <tr>\n",
              "      <th>2</th>\n",
              "      <td>1</td>\n",
              "      <td>0</td>\n",
              "      <td>0</td>\n",
              "      <td>1</td>\n",
              "      <td>0</td>\n",
              "      <td>0</td>\n",
              "      <td>1</td>\n",
              "      <td>1</td>\n",
              "      <td>1</td>\n",
              "      <td>0</td>\n",
              "      <td>...</td>\n",
              "      <td>1</td>\n",
              "      <td>1</td>\n",
              "      <td>0</td>\n",
              "      <td>1</td>\n",
              "      <td>1</td>\n",
              "      <td>0</td>\n",
              "      <td>1</td>\n",
              "      <td>0</td>\n",
              "      <td>1</td>\n",
              "      <td>1</td>\n",
              "    </tr>\n",
              "    <tr>\n",
              "      <th>3</th>\n",
              "      <td>1</td>\n",
              "      <td>1</td>\n",
              "      <td>1</td>\n",
              "      <td>1</td>\n",
              "      <td>0</td>\n",
              "      <td>1</td>\n",
              "      <td>1</td>\n",
              "      <td>0</td>\n",
              "      <td>1</td>\n",
              "      <td>1</td>\n",
              "      <td>...</td>\n",
              "      <td>1</td>\n",
              "      <td>0</td>\n",
              "      <td>1</td>\n",
              "      <td>1</td>\n",
              "      <td>0</td>\n",
              "      <td>0</td>\n",
              "      <td>1</td>\n",
              "      <td>1</td>\n",
              "      <td>0</td>\n",
              "      <td>0</td>\n",
              "    </tr>\n",
              "    <tr>\n",
              "      <th>4</th>\n",
              "      <td>0</td>\n",
              "      <td>1</td>\n",
              "      <td>0</td>\n",
              "      <td>1</td>\n",
              "      <td>1</td>\n",
              "      <td>1</td>\n",
              "      <td>0</td>\n",
              "      <td>0</td>\n",
              "      <td>1</td>\n",
              "      <td>0</td>\n",
              "      <td>...</td>\n",
              "      <td>1</td>\n",
              "      <td>0</td>\n",
              "      <td>0</td>\n",
              "      <td>0</td>\n",
              "      <td>1</td>\n",
              "      <td>1</td>\n",
              "      <td>1</td>\n",
              "      <td>1</td>\n",
              "      <td>0</td>\n",
              "      <td>0</td>\n",
              "    </tr>\n",
              "  </tbody>\n",
              "</table>\n",
              "<p>5 rows × 100 columns</p>\n",
              "</div>\n",
              "      <button class=\"colab-df-convert\" onclick=\"convertToInteractive('df-d8d84d4e-6854-4d13-b77c-4964546d3835')\"\n",
              "              title=\"Convert this dataframe to an interactive table.\"\n",
              "              style=\"display:none;\">\n",
              "        \n",
              "  <svg xmlns=\"http://www.w3.org/2000/svg\" height=\"24px\"viewBox=\"0 0 24 24\"\n",
              "       width=\"24px\">\n",
              "    <path d=\"M0 0h24v24H0V0z\" fill=\"none\"/>\n",
              "    <path d=\"M18.56 5.44l.94 2.06.94-2.06 2.06-.94-2.06-.94-.94-2.06-.94 2.06-2.06.94zm-11 1L8.5 8.5l.94-2.06 2.06-.94-2.06-.94L8.5 2.5l-.94 2.06-2.06.94zm10 10l.94 2.06.94-2.06 2.06-.94-2.06-.94-.94-2.06-.94 2.06-2.06.94z\"/><path d=\"M17.41 7.96l-1.37-1.37c-.4-.4-.92-.59-1.43-.59-.52 0-1.04.2-1.43.59L10.3 9.45l-7.72 7.72c-.78.78-.78 2.05 0 2.83L4 21.41c.39.39.9.59 1.41.59.51 0 1.02-.2 1.41-.59l7.78-7.78 2.81-2.81c.8-.78.8-2.07 0-2.86zM5.41 20L4 18.59l7.72-7.72 1.47 1.35L5.41 20z\"/>\n",
              "  </svg>\n",
              "      </button>\n",
              "      \n",
              "  <style>\n",
              "    .colab-df-container {\n",
              "      display:flex;\n",
              "      flex-wrap:wrap;\n",
              "      gap: 12px;\n",
              "    }\n",
              "\n",
              "    .colab-df-convert {\n",
              "      background-color: #E8F0FE;\n",
              "      border: none;\n",
              "      border-radius: 50%;\n",
              "      cursor: pointer;\n",
              "      display: none;\n",
              "      fill: #1967D2;\n",
              "      height: 32px;\n",
              "      padding: 0 0 0 0;\n",
              "      width: 32px;\n",
              "    }\n",
              "\n",
              "    .colab-df-convert:hover {\n",
              "      background-color: #E2EBFA;\n",
              "      box-shadow: 0px 1px 2px rgba(60, 64, 67, 0.3), 0px 1px 3px 1px rgba(60, 64, 67, 0.15);\n",
              "      fill: #174EA6;\n",
              "    }\n",
              "\n",
              "    [theme=dark] .colab-df-convert {\n",
              "      background-color: #3B4455;\n",
              "      fill: #D2E3FC;\n",
              "    }\n",
              "\n",
              "    [theme=dark] .colab-df-convert:hover {\n",
              "      background-color: #434B5C;\n",
              "      box-shadow: 0px 1px 3px 1px rgba(0, 0, 0, 0.15);\n",
              "      filter: drop-shadow(0px 1px 2px rgba(0, 0, 0, 0.3));\n",
              "      fill: #FFFFFF;\n",
              "    }\n",
              "  </style>\n",
              "\n",
              "      <script>\n",
              "        const buttonEl =\n",
              "          document.querySelector('#df-d8d84d4e-6854-4d13-b77c-4964546d3835 button.colab-df-convert');\n",
              "        buttonEl.style.display =\n",
              "          google.colab.kernel.accessAllowed ? 'block' : 'none';\n",
              "\n",
              "        async function convertToInteractive(key) {\n",
              "          const element = document.querySelector('#df-d8d84d4e-6854-4d13-b77c-4964546d3835');\n",
              "          const dataTable =\n",
              "            await google.colab.kernel.invokeFunction('convertToInteractive',\n",
              "                                                     [key], {});\n",
              "          if (!dataTable) return;\n",
              "\n",
              "          const docLinkHtml = 'Like what you see? Visit the ' +\n",
              "            '<a target=\"_blank\" href=https://colab.research.google.com/notebooks/data_table.ipynb>data table notebook</a>'\n",
              "            + ' to learn more about interactive tables.';\n",
              "          element.innerHTML = '';\n",
              "          dataTable['output_type'] = 'display_data';\n",
              "          await google.colab.output.renderOutput(dataTable, element);\n",
              "          const docLink = document.createElement('div');\n",
              "          docLink.innerHTML = docLinkHtml;\n",
              "          element.appendChild(docLink);\n",
              "        }\n",
              "      </script>\n",
              "    </div>\n",
              "  </div>\n",
              "  "
            ]
          },
          "metadata": {},
          "execution_count": 35
        }
      ],
      "source": [
        "# Aquí va tu código\n",
        "import numpy as np\n",
        "import pandas as pd\n",
        "df = pd.DataFrame()\n",
        "\n",
        "for i in range(1,101):\n",
        "  volados = np.random.binomial(1,0.5, 5)\n",
        "  columna = f\"muestra {i}\"\n",
        "  df[columna]=volados\n",
        "\n",
        "df"
      ]
    },
    {
      "cell_type": "code",
      "source": [],
      "metadata": {
        "id": "Owhd1bJv_NcC"
      },
      "execution_count": null,
      "outputs": []
    }
  ],
  "metadata": {
    "kernelspec": {
      "display_name": "Python 3",
      "language": "python",
      "name": "python3"
    },
    "language_info": {
      "codemirror_mode": {
        "name": "ipython",
        "version": 3
      },
      "file_extension": ".py",
      "mimetype": "text/x-python",
      "name": "python",
      "nbconvert_exporter": "python",
      "pygments_lexer": "ipython3",
      "version": "3.7.6"
    },
    "colab": {
      "provenance": [],
      "collapsed_sections": []
    }
  },
  "nbformat": 4,
  "nbformat_minor": 0
}