{
  "nbformat": 4,
  "nbformat_minor": 0,
  "metadata": {
    "colab": {
      "provenance": []
    },
    "kernelspec": {
      "name": "python3",
      "display_name": "Python 3"
    },
    "language_info": {
      "name": "python"
    }
  },
  "cells": [
    {
      "cell_type": "code",
      "execution_count": 3,
      "metadata": {
        "id": "MUhm6or6LuKs"
      },
      "outputs": [],
      "source": [
        "import seaborn as sns\n",
        "#Bernardo Camarena"
      ]
    },
    {
      "cell_type": "markdown",
      "source": [
        "Investigación:\n",
        "\n",
        "a. Menciona 5 aplicaciones de la variable aleatoria exponencial.\n",
        "\n",
        "b. ¿Qué aplicaciones de la exponencial podrían ser de utilidad en tu carrera?\n",
        "\n",
        "Crea una muestra aleatoria de 1000 datos tomados a partir de una muestra aleatoria exponencial.\n",
        "\n",
        "Calcula el MLE para tu conjunto de datos."
      ],
      "metadata": {
        "id": "gx0coAMVO0N0"
      }
    },
    {
      "cell_type": "code",
      "source": [],
      "metadata": {
        "id": "ZukW1djfO2Dr"
      },
      "execution_count": 3,
      "outputs": []
    },
    {
      "cell_type": "markdown",
      "source": [
        "a: 1)Bomba atómica, la reacción de cadena\n",
        "\n",
        "2) El crecimiento de un negocio, donde su utilidad la reinvierte en el negocio, lo cual hace que tenga más utilidad y eso lo vuelva a reinvertir lo cual la utilidad sea aun más.\n",
        "\n",
        "3) El crecimiento de una población\n",
        "\n",
        "4) La expansión de una pandemia\n",
        "\n",
        "5) El interes compuesto que se genera en una cuenta de banco si el dinero se deja al rededor de los años."
      ],
      "metadata": {
        "id": "i3xgvYmjO7uD"
      }
    },
    {
      "cell_type": "markdown",
      "source": [
        "b) El crecimiento de una startup de tecnología (relacionado a temas de ML y AI, que son temas de nuestra carrera), donde las utilidades se reinvierten y el hecho de que sea tecnología, su crecimiento es exponencial."
      ],
      "metadata": {
        "id": "rXIEeQ2VQs0p"
      }
    },
    {
      "cell_type": "code",
      "source": [
        "from scipy.stats import bernoulli\n",
        "import numpy as np\n",
        "#calculos formales\n",
        "import sympy\n",
        "from sympy import exp\n",
        "from sympy.abc import x, z, n\n",
        "#importamos las librerías necesitadas"
      ],
      "metadata": {
        "id": "nMGELdRBQkL6"
      },
      "execution_count": 9,
      "outputs": []
    },
    {
      "cell_type": "code",
      "source": [
        "PARAMETRO = 10\n",
        "muestra = np.random.exponential(PARAMETRO,100)\n",
        "#creamos una muestra de numeros randoms y que estén organizados en manera exponencial"
      ],
      "metadata": {
        "id": "U5WNUIOuXsM5"
      },
      "execution_count": 10,
      "outputs": []
    },
    {
      "cell_type": "code",
      "source": [
        "s=sum(muestra) #suma de la muestra"
      ],
      "metadata": {
        "id": "eGBK-xh_ZK7_"
      },
      "execution_count": 11,
      "outputs": []
    },
    {
      "cell_type": "code",
      "source": [
        "l = sympy.symbols(\"l\", positive = True)\n",
        "f = (1/l**100)*exp(-s/l)\n",
        "f\n",
        "#la formula parte de la MLE"
      ],
      "metadata": {
        "colab": {
          "base_uri": "https://localhost:8080/",
          "height": 56
        },
        "id": "SKc6LffvY6vQ",
        "outputId": "2fe0d50d-9e00-4ab9-ee1b-c55ab384cca6"
      },
      "execution_count": 12,
      "outputs": [
        {
          "output_type": "execute_result",
          "data": {
            "text/plain": [
              "exp(-896.788386374945/l)/l**100"
            ],
            "text/latex": "$\\displaystyle \\frac{e^{- \\frac{896.788386374945}{l}}}{l^{100}}$"
          },
          "metadata": {},
          "execution_count": 12
        }
      ]
    },
    {
      "cell_type": "code",
      "source": [
        "suma = sum(muestra)\n",
        "\n",
        "from sympy import exp\n",
        "l = sympy.symbols(\"l\", positive = True)\n",
        "f = (1/l**100)*exp(-s/l)\n",
        "logf = sympy.expand_log(sympy.log(f))\n",
        "lhat = sympy.solve(sympy.diff(logf,l),l)[0]\n",
        "#definimos el lhat que es la solucion de el estimador MLE con las formulas mencionadas arribas.\n",
        "print(\"El estimador MLE es\", lhat)\n"
      ],
      "metadata": {
        "colab": {
          "base_uri": "https://localhost:8080/"
        },
        "id": "8alR8j5OT8nL",
        "outputId": "8d6362dc-2322-48c6-8ea6-68c6f1482378"
      },
      "execution_count": 13,
      "outputs": [
        {
          "output_type": "stream",
          "name": "stdout",
          "text": [
            "El estimador MLE es 8.96788386374945\n"
          ]
        }
      ]
    },
    {
      "cell_type": "markdown",
      "source": [
        "Podemos concluir que el MLE es necesario para graficas exponenciales, como las mencionandas anteriormente, y se puede aplicar ademas a temas financieros, en nuestras inversiones de vida, o ya sea en ventas de nuestra futura empresa, si el crecimiento es lineal o exponencial, entonces enfocarnos en hacer un sistema y esquema donde las vetnas de nuestra empresa sea exponencial, donde haya ingresos recurrentes que crezcan exponencialmente."
      ],
      "metadata": {
        "id": "FTlpf2ZBzE51"
      }
    },
    {
      "cell_type": "code",
      "source": [],
      "metadata": {
        "id": "1hi2-FuzXaFh"
      },
      "execution_count": null,
      "outputs": []
    }
  ]
}