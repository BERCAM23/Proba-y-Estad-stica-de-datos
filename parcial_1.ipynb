{
  "nbformat": 4,
  "nbformat_minor": 0,
  "metadata": {
    "colab": {
      "provenance": [],
      "collapsed_sections": []
    },
    "kernelspec": {
      "name": "python3",
      "display_name": "Python 3"
    },
    "language_info": {
      "name": "python"
    }
  },
  "cells": [
    {
      "cell_type": "code",
      "execution_count": null,
      "metadata": {
        "id": "mYhkOeE0uA4s"
      },
      "outputs": [],
      "source": []
    },
    {
      "cell_type": "markdown",
      "source": [
        "Bernardo Camarena Herrera PARCIAL 1"
      ],
      "metadata": {
        "id": "xCM02MDnuESL"
      }
    },
    {
      "cell_type": "code",
      "source": [],
      "metadata": {
        "id": "FOGvXOOOuGGX"
      },
      "execution_count": null,
      "outputs": []
    },
    {
      "cell_type": "markdown",
      "source": [
        "probabilidad estadistica"
      ],
      "metadata": {
        "id": "7O0-z4vRwH2t"
      }
    },
    {
      "cell_type": "markdown",
      "source": [
        "experimento lanzar una moneda"
      ],
      "metadata": {
        "id": "9nVWcEDIwNBz"
      }
    },
    {
      "cell_type": "code",
      "source": [],
      "metadata": {
        "id": "FD0JzSq4wK_3"
      },
      "execution_count": null,
      "outputs": []
    },
    {
      "cell_type": "markdown",
      "source": [
        "vamos a describir a nuestro espacio muestral"
      ],
      "metadata": {
        "id": "1XC9mcYvwPpr"
      }
    },
    {
      "cell_type": "code",
      "source": [
        "from itertools import product"
      ],
      "metadata": {
        "id": "4oz9zPXRwTY1"
      },
      "execution_count": null,
      "outputs": []
    },
    {
      "cell_type": "code",
      "source": [
        "m = {\"A\" , \"S\"}\n",
        "OMEGA = set(product(m, repeat = 3))\n",
        "OMEGA"
      ],
      "metadata": {
        "colab": {
          "base_uri": "https://localhost:8080/"
        },
        "id": "IYKKx_NYwaAV",
        "outputId": "12cff429-e3fc-49ff-a38f-03da129d6f90"
      },
      "execution_count": null,
      "outputs": [
        {
          "output_type": "execute_result",
          "data": {
            "text/plain": [
              "{('A', 'A', 'A'),\n",
              " ('A', 'A', 'S'),\n",
              " ('A', 'S', 'A'),\n",
              " ('A', 'S', 'S'),\n",
              " ('S', 'A', 'A'),\n",
              " ('S', 'A', 'S'),\n",
              " ('S', 'S', 'A'),\n",
              " ('S', 'S', 'S')}"
            ]
          },
          "metadata": {},
          "execution_count": 2
        }
      ]
    },
    {
      "cell_type": "code",
      "source": [
        "len(OMEGA)"
      ],
      "metadata": {
        "colab": {
          "base_uri": "https://localhost:8080/"
        },
        "id": "e9CQaFubwyzs",
        "outputId": "974279e2-34eb-49d0-b57f-7ab97d5c7274"
      },
      "execution_count": null,
      "outputs": [
        {
          "output_type": "execute_result",
          "data": {
            "text/plain": [
              "8"
            ]
          },
          "metadata": {},
          "execution_count": 3
        }
      ]
    },
    {
      "cell_type": "code",
      "source": [],
      "metadata": {
        "id": "70z9C5Xjw267"
      },
      "execution_count": null,
      "outputs": []
    },
    {
      "cell_type": "markdown",
      "source": [
        "Sea $E$ el evento: caiga águila en las 3 monedas"
      ],
      "metadata": {
        "id": "M8QXvYaFxIXq"
      }
    },
    {
      "cell_type": "code",
      "source": [
        "m"
      ],
      "metadata": {
        "colab": {
          "base_uri": "https://localhost:8080/"
        },
        "id": "uRZrGeOqxTqy",
        "outputId": "fb065281-e9b6-401a-fe64-d060b093a375"
      },
      "execution_count": null,
      "outputs": [
        {
          "output_type": "execute_result",
          "data": {
            "text/plain": [
              "{'A', 'S'}"
            ]
          },
          "metadata": {},
          "execution_count": 4
        }
      ]
    },
    {
      "cell_type": "code",
      "source": [
        "E = {x for x in OMEGA if x[0]== \"A\"}"
      ],
      "metadata": {
        "id": "Ikp8j8C30Jlu"
      },
      "execution_count": null,
      "outputs": []
    },
    {
      "cell_type": "code",
      "source": [
        "E = {x for x in OMEGA if x[1]== \"A\"}"
      ],
      "metadata": {
        "id": "wKSkWYlt0TlZ"
      },
      "execution_count": null,
      "outputs": []
    },
    {
      "cell_type": "code",
      "source": [
        "E = {x for x in OMEGA if x[2]== \"A\"}"
      ],
      "metadata": {
        "id": "NEmCbwsM0fDS"
      },
      "execution_count": null,
      "outputs": []
    },
    {
      "cell_type": "code",
      "source": [
        "E"
      ],
      "metadata": {
        "colab": {
          "base_uri": "https://localhost:8080/"
        },
        "id": "5CCWP2-A0gzZ",
        "outputId": "c47ccbc9-6699-44f3-d63e-169a0625c8b1"
      },
      "execution_count": null,
      "outputs": [
        {
          "output_type": "execute_result",
          "data": {
            "text/plain": [
              "{('A', 'A', 'A'), ('A', 'S', 'A'), ('S', 'A', 'A'), ('S', 'S', 'A')}"
            ]
          },
          "metadata": {},
          "execution_count": 8
        }
      ]
    },
    {
      "cell_type": "code",
      "source": [
        "F = {x for x in OMEGA if x[1]== \"A\"}"
      ],
      "metadata": {
        "id": "mCvK4-H30qWn"
      },
      "execution_count": null,
      "outputs": []
    },
    {
      "cell_type": "code",
      "source": [
        "G = {x for x in OMEGA if x[2]== \"A\"}"
      ],
      "metadata": {
        "id": "NzR49ygl04Eo"
      },
      "execution_count": null,
      "outputs": []
    },
    {
      "cell_type": "code",
      "source": [],
      "metadata": {
        "id": "8USooswQ067P"
      },
      "execution_count": null,
      "outputs": []
    },
    {
      "cell_type": "markdown",
      "source": [
        "eL EVENTO $A$ es la interseccion de los eventos $E$, $F$ y $G$:\n",
        "$$A = E\\cap G\\cap F $$"
      ],
      "metadata": {
        "id": "K6aLLPFM1HHl"
      }
    },
    {
      "cell_type": "code",
      "source": [
        "A = E.intersection(F.intersection(G))"
      ],
      "metadata": {
        "id": "ylR4qdP-3OGN"
      },
      "execution_count": null,
      "outputs": []
    },
    {
      "cell_type": "code",
      "source": [
        "A"
      ],
      "metadata": {
        "colab": {
          "base_uri": "https://localhost:8080/"
        },
        "id": "tJ0qd-cI3W5F",
        "outputId": "34ee026b-2d28-4b3a-a3b9-06bccbfefeb1"
      },
      "execution_count": null,
      "outputs": [
        {
          "output_type": "execute_result",
          "data": {
            "text/plain": [
              "{('A', 'A', 'A'), ('S', 'A', 'A')}"
            ]
          },
          "metadata": {},
          "execution_count": 12
        }
      ]
    },
    {
      "cell_type": "code",
      "source": [
        "E = {x for x in OMEGA if x[0]== \"A\"}"
      ],
      "metadata": {
        "id": "ezBvyv8a3YLc"
      },
      "execution_count": null,
      "outputs": []
    },
    {
      "cell_type": "code",
      "source": [
        "A = E.intersection(F.intersection(G))"
      ],
      "metadata": {
        "id": "1Gx_XfxX3gkN"
      },
      "execution_count": null,
      "outputs": []
    },
    {
      "cell_type": "code",
      "source": [
        "A"
      ],
      "metadata": {
        "colab": {
          "base_uri": "https://localhost:8080/"
        },
        "id": "l8VPeLKJ3iOs",
        "outputId": "00425dd5-651b-40b4-fd74-f023e1d067dc"
      },
      "execution_count": null,
      "outputs": [
        {
          "output_type": "execute_result",
          "data": {
            "text/plain": [
              "{('A', 'A', 'A')}"
            ]
          },
          "metadata": {},
          "execution_count": 15
        }
      ]
    },
    {
      "cell_type": "code",
      "source": [
        "len(A)/len(OMEGA)"
      ],
      "metadata": {
        "colab": {
          "base_uri": "https://localhost:8080/"
        },
        "id": "CaKjW8UE3jPF",
        "outputId": "287d94b2-c663-4ef4-a371-e113898315e0"
      },
      "execution_count": null,
      "outputs": [
        {
          "output_type": "execute_result",
          "data": {
            "text/plain": [
              "0.125"
            ]
          },
          "metadata": {},
          "execution_count": 16
        }
      ]
    },
    {
      "cell_type": "markdown",
      "source": [],
      "metadata": {
        "id": "B1CIPFVu3-4r"
      }
    },
    {
      "cell_type": "code",
      "source": [],
      "metadata": {
        "id": "TwiTMd1C3_YV"
      },
      "execution_count": null,
      "outputs": []
    },
    {
      "cell_type": "markdown",
      "source": [
        "Vamos a calcular la probabilidad condicional de que salgan águilas en las tres monedas dado que sabemos que cae aguila en el primer lanzamiento."
      ],
      "metadata": {
        "id": "k30OK20d4DHy"
      }
    },
    {
      "cell_type": "code",
      "source": [
        "p = len(A.intersection(E))/len(E)"
      ],
      "metadata": {
        "id": "gzerq-MD4EMk"
      },
      "execution_count": null,
      "outputs": []
    },
    {
      "cell_type": "code",
      "source": [
        "p\n"
      ],
      "metadata": {
        "colab": {
          "base_uri": "https://localhost:8080/"
        },
        "id": "Pj-Lzfs34Qi0",
        "outputId": "da59c644-a4c4-4503-be3d-6371f370c809"
      },
      "execution_count": null,
      "outputs": [
        {
          "output_type": "execute_result",
          "data": {
            "text/plain": [
              "0.25"
            ]
          },
          "metadata": {},
          "execution_count": 18
        }
      ]
    },
    {
      "cell_type": "code",
      "source": [
        "0.25 > .125"
      ],
      "metadata": {
        "colab": {
          "base_uri": "https://localhost:8080/"
        },
        "id": "3M0EPrOv4RtT",
        "outputId": "a3cd7deb-b755-436b-ad38-fc0cad57c336"
      },
      "execution_count": null,
      "outputs": [
        {
          "output_type": "execute_result",
          "data": {
            "text/plain": [
              "True"
            ]
          },
          "metadata": {},
          "execution_count": 19
        }
      ]
    },
    {
      "cell_type": "markdown",
      "source": [
        "2. Lanzar 3 dados justos"
      ],
      "metadata": {
        "id": "uJ6iZaXE4dBJ"
      }
    },
    {
      "cell_type": "code",
      "source": [
        "Dado = {1,2,3,4,5,6}"
      ],
      "metadata": {
        "id": "xf-5hIHd4fQz"
      },
      "execution_count": null,
      "outputs": []
    },
    {
      "cell_type": "code",
      "source": [
        "from IPython.core.display import display_markdown\n",
        "Omega = set(product(Dado, repeat = 3))"
      ],
      "metadata": {
        "id": "IkiHbu5L4nTb"
      },
      "execution_count": null,
      "outputs": []
    },
    {
      "cell_type": "code",
      "source": [
        "Omega"
      ],
      "metadata": {
        "colab": {
          "base_uri": "https://localhost:8080/"
        },
        "id": "qa2IGQc94y9a",
        "outputId": "68858077-cc04-42b8-c5cb-cf48534c885d"
      },
      "execution_count": null,
      "outputs": [
        {
          "output_type": "execute_result",
          "data": {
            "text/plain": [
              "{(1, 1, 1),\n",
              " (1, 1, 2),\n",
              " (1, 1, 3),\n",
              " (1, 1, 4),\n",
              " (1, 1, 5),\n",
              " (1, 1, 6),\n",
              " (1, 2, 1),\n",
              " (1, 2, 2),\n",
              " (1, 2, 3),\n",
              " (1, 2, 4),\n",
              " (1, 2, 5),\n",
              " (1, 2, 6),\n",
              " (1, 3, 1),\n",
              " (1, 3, 2),\n",
              " (1, 3, 3),\n",
              " (1, 3, 4),\n",
              " (1, 3, 5),\n",
              " (1, 3, 6),\n",
              " (1, 4, 1),\n",
              " (1, 4, 2),\n",
              " (1, 4, 3),\n",
              " (1, 4, 4),\n",
              " (1, 4, 5),\n",
              " (1, 4, 6),\n",
              " (1, 5, 1),\n",
              " (1, 5, 2),\n",
              " (1, 5, 3),\n",
              " (1, 5, 4),\n",
              " (1, 5, 5),\n",
              " (1, 5, 6),\n",
              " (1, 6, 1),\n",
              " (1, 6, 2),\n",
              " (1, 6, 3),\n",
              " (1, 6, 4),\n",
              " (1, 6, 5),\n",
              " (1, 6, 6),\n",
              " (2, 1, 1),\n",
              " (2, 1, 2),\n",
              " (2, 1, 3),\n",
              " (2, 1, 4),\n",
              " (2, 1, 5),\n",
              " (2, 1, 6),\n",
              " (2, 2, 1),\n",
              " (2, 2, 2),\n",
              " (2, 2, 3),\n",
              " (2, 2, 4),\n",
              " (2, 2, 5),\n",
              " (2, 2, 6),\n",
              " (2, 3, 1),\n",
              " (2, 3, 2),\n",
              " (2, 3, 3),\n",
              " (2, 3, 4),\n",
              " (2, 3, 5),\n",
              " (2, 3, 6),\n",
              " (2, 4, 1),\n",
              " (2, 4, 2),\n",
              " (2, 4, 3),\n",
              " (2, 4, 4),\n",
              " (2, 4, 5),\n",
              " (2, 4, 6),\n",
              " (2, 5, 1),\n",
              " (2, 5, 2),\n",
              " (2, 5, 3),\n",
              " (2, 5, 4),\n",
              " (2, 5, 5),\n",
              " (2, 5, 6),\n",
              " (2, 6, 1),\n",
              " (2, 6, 2),\n",
              " (2, 6, 3),\n",
              " (2, 6, 4),\n",
              " (2, 6, 5),\n",
              " (2, 6, 6),\n",
              " (3, 1, 1),\n",
              " (3, 1, 2),\n",
              " (3, 1, 3),\n",
              " (3, 1, 4),\n",
              " (3, 1, 5),\n",
              " (3, 1, 6),\n",
              " (3, 2, 1),\n",
              " (3, 2, 2),\n",
              " (3, 2, 3),\n",
              " (3, 2, 4),\n",
              " (3, 2, 5),\n",
              " (3, 2, 6),\n",
              " (3, 3, 1),\n",
              " (3, 3, 2),\n",
              " (3, 3, 3),\n",
              " (3, 3, 4),\n",
              " (3, 3, 5),\n",
              " (3, 3, 6),\n",
              " (3, 4, 1),\n",
              " (3, 4, 2),\n",
              " (3, 4, 3),\n",
              " (3, 4, 4),\n",
              " (3, 4, 5),\n",
              " (3, 4, 6),\n",
              " (3, 5, 1),\n",
              " (3, 5, 2),\n",
              " (3, 5, 3),\n",
              " (3, 5, 4),\n",
              " (3, 5, 5),\n",
              " (3, 5, 6),\n",
              " (3, 6, 1),\n",
              " (3, 6, 2),\n",
              " (3, 6, 3),\n",
              " (3, 6, 4),\n",
              " (3, 6, 5),\n",
              " (3, 6, 6),\n",
              " (4, 1, 1),\n",
              " (4, 1, 2),\n",
              " (4, 1, 3),\n",
              " (4, 1, 4),\n",
              " (4, 1, 5),\n",
              " (4, 1, 6),\n",
              " (4, 2, 1),\n",
              " (4, 2, 2),\n",
              " (4, 2, 3),\n",
              " (4, 2, 4),\n",
              " (4, 2, 5),\n",
              " (4, 2, 6),\n",
              " (4, 3, 1),\n",
              " (4, 3, 2),\n",
              " (4, 3, 3),\n",
              " (4, 3, 4),\n",
              " (4, 3, 5),\n",
              " (4, 3, 6),\n",
              " (4, 4, 1),\n",
              " (4, 4, 2),\n",
              " (4, 4, 3),\n",
              " (4, 4, 4),\n",
              " (4, 4, 5),\n",
              " (4, 4, 6),\n",
              " (4, 5, 1),\n",
              " (4, 5, 2),\n",
              " (4, 5, 3),\n",
              " (4, 5, 4),\n",
              " (4, 5, 5),\n",
              " (4, 5, 6),\n",
              " (4, 6, 1),\n",
              " (4, 6, 2),\n",
              " (4, 6, 3),\n",
              " (4, 6, 4),\n",
              " (4, 6, 5),\n",
              " (4, 6, 6),\n",
              " (5, 1, 1),\n",
              " (5, 1, 2),\n",
              " (5, 1, 3),\n",
              " (5, 1, 4),\n",
              " (5, 1, 5),\n",
              " (5, 1, 6),\n",
              " (5, 2, 1),\n",
              " (5, 2, 2),\n",
              " (5, 2, 3),\n",
              " (5, 2, 4),\n",
              " (5, 2, 5),\n",
              " (5, 2, 6),\n",
              " (5, 3, 1),\n",
              " (5, 3, 2),\n",
              " (5, 3, 3),\n",
              " (5, 3, 4),\n",
              " (5, 3, 5),\n",
              " (5, 3, 6),\n",
              " (5, 4, 1),\n",
              " (5, 4, 2),\n",
              " (5, 4, 3),\n",
              " (5, 4, 4),\n",
              " (5, 4, 5),\n",
              " (5, 4, 6),\n",
              " (5, 5, 1),\n",
              " (5, 5, 2),\n",
              " (5, 5, 3),\n",
              " (5, 5, 4),\n",
              " (5, 5, 5),\n",
              " (5, 5, 6),\n",
              " (5, 6, 1),\n",
              " (5, 6, 2),\n",
              " (5, 6, 3),\n",
              " (5, 6, 4),\n",
              " (5, 6, 5),\n",
              " (5, 6, 6),\n",
              " (6, 1, 1),\n",
              " (6, 1, 2),\n",
              " (6, 1, 3),\n",
              " (6, 1, 4),\n",
              " (6, 1, 5),\n",
              " (6, 1, 6),\n",
              " (6, 2, 1),\n",
              " (6, 2, 2),\n",
              " (6, 2, 3),\n",
              " (6, 2, 4),\n",
              " (6, 2, 5),\n",
              " (6, 2, 6),\n",
              " (6, 3, 1),\n",
              " (6, 3, 2),\n",
              " (6, 3, 3),\n",
              " (6, 3, 4),\n",
              " (6, 3, 5),\n",
              " (6, 3, 6),\n",
              " (6, 4, 1),\n",
              " (6, 4, 2),\n",
              " (6, 4, 3),\n",
              " (6, 4, 4),\n",
              " (6, 4, 5),\n",
              " (6, 4, 6),\n",
              " (6, 5, 1),\n",
              " (6, 5, 2),\n",
              " (6, 5, 3),\n",
              " (6, 5, 4),\n",
              " (6, 5, 5),\n",
              " (6, 5, 6),\n",
              " (6, 6, 1),\n",
              " (6, 6, 2),\n",
              " (6, 6, 3),\n",
              " (6, 6, 4),\n",
              " (6, 6, 5),\n",
              " (6, 6, 6)}"
            ]
          },
          "metadata": {},
          "execution_count": 22
        }
      ]
    },
    {
      "cell_type": "code",
      "source": [
        "len(Omega)"
      ],
      "metadata": {
        "colab": {
          "base_uri": "https://localhost:8080/"
        },
        "id": "7iTGmqdn5BFx",
        "outputId": "0f83b039-41d6-4639-caac-3e0bb52e334b"
      },
      "execution_count": null,
      "outputs": [
        {
          "output_type": "execute_result",
          "data": {
            "text/plain": [
              "216"
            ]
          },
          "metadata": {},
          "execution_count": 23
        }
      ]
    },
    {
      "cell_type": "code",
      "source": [
        "E = {omega for omega in Omega if omega[0]%2 == 0}"
      ],
      "metadata": {
        "id": "DKOUlMMZ5DKJ"
      },
      "execution_count": null,
      "outputs": []
    },
    {
      "cell_type": "code",
      "source": [
        "E"
      ],
      "metadata": {
        "colab": {
          "base_uri": "https://localhost:8080/"
        },
        "id": "pRCcqIlJ6QWF",
        "outputId": "4b1e805f-f89c-4ac8-8602-52afe2696408"
      },
      "execution_count": null,
      "outputs": [
        {
          "output_type": "execute_result",
          "data": {
            "text/plain": [
              "{(2, 1, 1),\n",
              " (2, 1, 2),\n",
              " (2, 1, 3),\n",
              " (2, 1, 4),\n",
              " (2, 1, 5),\n",
              " (2, 1, 6),\n",
              " (2, 2, 1),\n",
              " (2, 2, 2),\n",
              " (2, 2, 3),\n",
              " (2, 2, 4),\n",
              " (2, 2, 5),\n",
              " (2, 2, 6),\n",
              " (2, 3, 1),\n",
              " (2, 3, 2),\n",
              " (2, 3, 3),\n",
              " (2, 3, 4),\n",
              " (2, 3, 5),\n",
              " (2, 3, 6),\n",
              " (2, 4, 1),\n",
              " (2, 4, 2),\n",
              " (2, 4, 3),\n",
              " (2, 4, 4),\n",
              " (2, 4, 5),\n",
              " (2, 4, 6),\n",
              " (2, 5, 1),\n",
              " (2, 5, 2),\n",
              " (2, 5, 3),\n",
              " (2, 5, 4),\n",
              " (2, 5, 5),\n",
              " (2, 5, 6),\n",
              " (2, 6, 1),\n",
              " (2, 6, 2),\n",
              " (2, 6, 3),\n",
              " (2, 6, 4),\n",
              " (2, 6, 5),\n",
              " (2, 6, 6),\n",
              " (4, 1, 1),\n",
              " (4, 1, 2),\n",
              " (4, 1, 3),\n",
              " (4, 1, 4),\n",
              " (4, 1, 5),\n",
              " (4, 1, 6),\n",
              " (4, 2, 1),\n",
              " (4, 2, 2),\n",
              " (4, 2, 3),\n",
              " (4, 2, 4),\n",
              " (4, 2, 5),\n",
              " (4, 2, 6),\n",
              " (4, 3, 1),\n",
              " (4, 3, 2),\n",
              " (4, 3, 3),\n",
              " (4, 3, 4),\n",
              " (4, 3, 5),\n",
              " (4, 3, 6),\n",
              " (4, 4, 1),\n",
              " (4, 4, 2),\n",
              " (4, 4, 3),\n",
              " (4, 4, 4),\n",
              " (4, 4, 5),\n",
              " (4, 4, 6),\n",
              " (4, 5, 1),\n",
              " (4, 5, 2),\n",
              " (4, 5, 3),\n",
              " (4, 5, 4),\n",
              " (4, 5, 5),\n",
              " (4, 5, 6),\n",
              " (4, 6, 1),\n",
              " (4, 6, 2),\n",
              " (4, 6, 3),\n",
              " (4, 6, 4),\n",
              " (4, 6, 5),\n",
              " (4, 6, 6),\n",
              " (6, 1, 1),\n",
              " (6, 1, 2),\n",
              " (6, 1, 3),\n",
              " (6, 1, 4),\n",
              " (6, 1, 5),\n",
              " (6, 1, 6),\n",
              " (6, 2, 1),\n",
              " (6, 2, 2),\n",
              " (6, 2, 3),\n",
              " (6, 2, 4),\n",
              " (6, 2, 5),\n",
              " (6, 2, 6),\n",
              " (6, 3, 1),\n",
              " (6, 3, 2),\n",
              " (6, 3, 3),\n",
              " (6, 3, 4),\n",
              " (6, 3, 5),\n",
              " (6, 3, 6),\n",
              " (6, 4, 1),\n",
              " (6, 4, 2),\n",
              " (6, 4, 3),\n",
              " (6, 4, 4),\n",
              " (6, 4, 5),\n",
              " (6, 4, 6),\n",
              " (6, 5, 1),\n",
              " (6, 5, 2),\n",
              " (6, 5, 3),\n",
              " (6, 5, 4),\n",
              " (6, 5, 5),\n",
              " (6, 5, 6),\n",
              " (6, 6, 1),\n",
              " (6, 6, 2),\n",
              " (6, 6, 3),\n",
              " (6, 6, 4),\n",
              " (6, 6, 5),\n",
              " (6, 6, 6)}"
            ]
          },
          "metadata": {},
          "execution_count": 25
        }
      ]
    },
    {
      "cell_type": "code",
      "source": [
        "E = {omega for omega in Omega if omega[0]%2 == 0 and omega[1]%2 == 0 and omega[2]%2 == 0}"
      ],
      "metadata": {
        "id": "fDvL1lfC6Q-l"
      },
      "execution_count": null,
      "outputs": []
    },
    {
      "cell_type": "code",
      "source": [
        "E"
      ],
      "metadata": {
        "colab": {
          "base_uri": "https://localhost:8080/"
        },
        "id": "v5XGU5VC6g2d",
        "outputId": "f1240c77-69e2-42bb-f771-8bc57263e79e"
      },
      "execution_count": null,
      "outputs": [
        {
          "output_type": "execute_result",
          "data": {
            "text/plain": [
              "{(2, 2, 2),\n",
              " (2, 2, 4),\n",
              " (2, 2, 6),\n",
              " (2, 4, 2),\n",
              " (2, 4, 4),\n",
              " (2, 4, 6),\n",
              " (2, 6, 2),\n",
              " (2, 6, 4),\n",
              " (2, 6, 6),\n",
              " (4, 2, 2),\n",
              " (4, 2, 4),\n",
              " (4, 2, 6),\n",
              " (4, 4, 2),\n",
              " (4, 4, 4),\n",
              " (4, 4, 6),\n",
              " (4, 6, 2),\n",
              " (4, 6, 4),\n",
              " (4, 6, 6),\n",
              " (6, 2, 2),\n",
              " (6, 2, 4),\n",
              " (6, 2, 6),\n",
              " (6, 4, 2),\n",
              " (6, 4, 4),\n",
              " (6, 4, 6),\n",
              " (6, 6, 2),\n",
              " (6, 6, 4),\n",
              " (6, 6, 6)}"
            ]
          },
          "metadata": {},
          "execution_count": 27
        }
      ]
    },
    {
      "cell_type": "code",
      "source": [
        "len(E)"
      ],
      "metadata": {
        "colab": {
          "base_uri": "https://localhost:8080/"
        },
        "id": "st78MFmT6h1t",
        "outputId": "4b1ddeaf-0964-4abd-aab5-c85ab551004c"
      },
      "execution_count": null,
      "outputs": [
        {
          "output_type": "execute_result",
          "data": {
            "text/plain": [
              "27"
            ]
          },
          "metadata": {},
          "execution_count": 28
        }
      ]
    },
    {
      "cell_type": "code",
      "source": [
        "probabilidad = len(E)/len(Omega)"
      ],
      "metadata": {
        "id": "L4Wpxv8z6ki1"
      },
      "execution_count": null,
      "outputs": []
    },
    {
      "cell_type": "code",
      "source": [
        "probabilidad"
      ],
      "metadata": {
        "colab": {
          "base_uri": "https://localhost:8080/"
        },
        "id": "m57vncKi6sc9",
        "outputId": "4cf4ccf8-f650-47f7-a639-cb237be09fe3"
      },
      "execution_count": null,
      "outputs": [
        {
          "output_type": "execute_result",
          "data": {
            "text/plain": [
              "0.125"
            ]
          },
          "metadata": {},
          "execution_count": 30
        }
      ]
    },
    {
      "cell_type": "code",
      "source": [
        "E = {omega for omega in Omega if omega[0]== 6  and omega[1] == 6 and omega[2] == 6}"
      ],
      "metadata": {
        "id": "aqONIr-36uZu"
      },
      "execution_count": null,
      "outputs": []
    },
    {
      "cell_type": "code",
      "source": [
        "E"
      ],
      "metadata": {
        "colab": {
          "base_uri": "https://localhost:8080/"
        },
        "id": "E9mc-ggE7BG9",
        "outputId": "fef0223a-12ca-4928-b659-c4e587f164e6"
      },
      "execution_count": null,
      "outputs": [
        {
          "output_type": "execute_result",
          "data": {
            "text/plain": [
              "{(6, 6, 6)}"
            ]
          },
          "metadata": {},
          "execution_count": 32
        }
      ]
    },
    {
      "cell_type": "code",
      "source": [
        "1/len(Omega)"
      ],
      "metadata": {
        "id": "ddRPUudj7KOV",
        "colab": {
          "base_uri": "https://localhost:8080/"
        },
        "outputId": "bb8139ac-980c-402e-ccb5-1949b0c34d6d"
      },
      "execution_count": null,
      "outputs": [
        {
          "output_type": "execute_result",
          "data": {
            "text/plain": [
              "0.004629629629629629"
            ]
          },
          "metadata": {},
          "execution_count": 33
        }
      ]
    },
    {
      "cell_type": "code",
      "source": [],
      "metadata": {
        "id": "WcQTJQdwfNP9"
      },
      "execution_count": null,
      "outputs": []
    },
    {
      "cell_type": "code",
      "execution_count": null,
      "metadata": {
        "id": "i7YBOqE-ovAa"
      },
      "outputs": [],
      "source": []
    },
    {
      "cell_type": "markdown",
      "source": [
        "Experimento aleatorio: Se lanzan dos dados honestos.\n",
        "1.- Describir al espacio muestral.\n",
        "2.- Considere el evento S(n): la suma de las caras de los dados es n.\n",
        "3.- Calcular S(2) hasta S(12) y poner los datos en un DataFrame en Pandas.\n",
        "BERNARDO CAMARENA HERRERA"
      ],
      "metadata": {
        "id": "LuMs3Ma5ozaq"
      }
    },
    {
      "cell_type": "code",
      "source": [
        "from IPython.core.display import display_markdown\n"
      ],
      "metadata": {
        "id": "_83Sd9cSqDlu"
      },
      "execution_count": null,
      "outputs": []
    },
    {
      "cell_type": "code",
      "source": [
        "from itertools import product\n",
        "OMEGA = set(product([1,2,3,4,5,6], repeat = 2))"
      ],
      "metadata": {
        "id": "OmGvA2cHaA0v"
      },
      "execution_count": null,
      "outputs": []
    },
    {
      "cell_type": "code",
      "source": [
        "OMEGA"
      ],
      "metadata": {
        "colab": {
          "base_uri": "https://localhost:8080/"
        },
        "id": "s7r-DaHiaGA3",
        "outputId": "5f6f2fc7-beaa-4f8a-b4fe-cd8af5ee949f"
      },
      "execution_count": null,
      "outputs": [
        {
          "output_type": "execute_result",
          "data": {
            "text/plain": [
              "{(1, 1),\n",
              " (1, 2),\n",
              " (1, 3),\n",
              " (1, 4),\n",
              " (1, 5),\n",
              " (1, 6),\n",
              " (2, 1),\n",
              " (2, 2),\n",
              " (2, 3),\n",
              " (2, 4),\n",
              " (2, 5),\n",
              " (2, 6),\n",
              " (3, 1),\n",
              " (3, 2),\n",
              " (3, 3),\n",
              " (3, 4),\n",
              " (3, 5),\n",
              " (3, 6),\n",
              " (4, 1),\n",
              " (4, 2),\n",
              " (4, 3),\n",
              " (4, 4),\n",
              " (4, 5),\n",
              " (4, 6),\n",
              " (5, 1),\n",
              " (5, 2),\n",
              " (5, 3),\n",
              " (5, 4),\n",
              " (5, 5),\n",
              " (5, 6),\n",
              " (6, 1),\n",
              " (6, 2),\n",
              " (6, 3),\n",
              " (6, 4),\n",
              " (6, 5),\n",
              " (6, 6)}"
            ]
          },
          "metadata": {},
          "execution_count": 36
        }
      ]
    },
    {
      "cell_type": "code",
      "source": [
        "def Suma(n):\n",
        "  suma = {omega for omega in OMEGA if omega[0]+omega[1] == n}\n",
        "  return suma\n",
        "\n",
        "\n"
      ],
      "metadata": {
        "id": "lgoVFXmIaiP5"
      },
      "execution_count": null,
      "outputs": []
    },
    {
      "cell_type": "code",
      "source": [
        "Suma2 = Suma(2)\n",
        "Suma2"
      ],
      "metadata": {
        "colab": {
          "base_uri": "https://localhost:8080/"
        },
        "id": "5SIaFLvWbsaF",
        "outputId": "329d2cd8-fee3-41ad-bdd5-70a11a9a8255"
      },
      "execution_count": null,
      "outputs": [
        {
          "output_type": "execute_result",
          "data": {
            "text/plain": [
              "{(1, 1)}"
            ]
          },
          "metadata": {},
          "execution_count": 38
        }
      ]
    },
    {
      "cell_type": "code",
      "source": [
        "Suma2 = Suma(2)\n",
        "Suma3 = Suma(3)\n",
        "Suma4 = Suma(4)"
      ],
      "metadata": {
        "id": "4grf-E46btXV"
      },
      "execution_count": null,
      "outputs": []
    },
    {
      "cell_type": "code",
      "source": [
        "Suma5 = Suma(5)\n",
        "Suma6 = Suma(6)\n",
        "Suma7 = Suma(7)\n",
        "Suma8 =Suma(8)\n",
        "Suma9 =Suma(9)\n",
        "Suma10 =Suma(10)\n",
        "Suma11 = Suma(11)\n",
        "Suma12 = Suma(12)"
      ],
      "metadata": {
        "id": "iqUT3KcJeeIc"
      },
      "execution_count": null,
      "outputs": []
    },
    {
      "cell_type": "code",
      "source": [
        "import pandas as pd"
      ],
      "metadata": {
        "id": "N8PzJZyTfXSu"
      },
      "execution_count": null,
      "outputs": []
    },
    {
      "cell_type": "code",
      "source": [
        "Tabla = {\"Suma2\" : [Suma2], \n",
        "         \"Suma3\" : [Suma3],\n",
        "         \"Suma4\" : [Suma4],\n",
        "         \"Suma5\" : [Suma5],\n",
        "         \"Suma6\" : [Suma6],\n",
        "         \"Suma7\" : [Suma7],\n",
        "         \"Suma8\" : [Suma8],\n",
        "         \"Suma9\" : [Suma9],\n",
        "         \"Suma10\" : [Suma10],\n",
        "         \"Suma11\" : [Suma11],\n",
        "         \"Suma12\" : [Suma12],\n",
        "         }"
      ],
      "metadata": {
        "id": "n4UZ6dNbg9WJ"
      },
      "execution_count": null,
      "outputs": []
    },
    {
      "cell_type": "code",
      "source": [
        "Tabla"
      ],
      "metadata": {
        "colab": {
          "base_uri": "https://localhost:8080/"
        },
        "id": "_kGLSB2Bhox1",
        "outputId": "922d7915-34b0-49f7-dcc9-09ead38bc253"
      },
      "execution_count": null,
      "outputs": [
        {
          "output_type": "execute_result",
          "data": {
            "text/plain": [
              "{'Suma2': [{(1, 1)}],\n",
              " 'Suma3': [{(1, 2), (2, 1)}],\n",
              " 'Suma4': [{(1, 3), (2, 2), (3, 1)}],\n",
              " 'Suma5': [{(1, 4), (2, 3), (3, 2), (4, 1)}],\n",
              " 'Suma6': [{(1, 5), (2, 4), (3, 3), (4, 2), (5, 1)}],\n",
              " 'Suma7': [{(1, 6), (2, 5), (3, 4), (4, 3), (5, 2), (6, 1)}],\n",
              " 'Suma8': [{(2, 6), (3, 5), (4, 4), (5, 3), (6, 2)}],\n",
              " 'Suma9': [{(3, 6), (4, 5), (5, 4), (6, 3)}],\n",
              " 'Suma10': [{(4, 6), (5, 5), (6, 4)}],\n",
              " 'Suma11': [{(5, 6), (6, 5)}],\n",
              " 'Suma12': [{(6, 6)}]}"
            ]
          },
          "metadata": {},
          "execution_count": 43
        }
      ]
    },
    {
      "cell_type": "code",
      "source": [
        "dfTabla = pd.DataFrame(Tabla, index = [\"opciones\"])"
      ],
      "metadata": {
        "id": "-sI-WQIChp84"
      },
      "execution_count": null,
      "outputs": []
    },
    {
      "cell_type": "code",
      "source": [
        "type(dfTabla)"
      ],
      "metadata": {
        "colab": {
          "base_uri": "https://localhost:8080/"
        },
        "id": "kxB43hCvmB2D",
        "outputId": "9faf696a-2742-4819-aff2-b09087d91ba2"
      },
      "execution_count": null,
      "outputs": [
        {
          "output_type": "execute_result",
          "data": {
            "text/plain": [
              "pandas.core.frame.DataFrame"
            ]
          },
          "metadata": {},
          "execution_count": 45
        }
      ]
    },
    {
      "cell_type": "code",
      "source": [
        "dfTabla"
      ],
      "metadata": {
        "colab": {
          "base_uri": "https://localhost:8080/",
          "height": 180
        },
        "id": "AY1TRZ_XmDCg",
        "outputId": "2da839ae-f468-4501-e67a-90a159dd119d"
      },
      "execution_count": null,
      "outputs": [
        {
          "output_type": "execute_result",
          "data": {
            "text/plain": [
              "             Suma2             Suma3                     Suma4  \\\n",
              "opciones  {(1, 1)}  {(1, 2), (2, 1)}  {(1, 3), (3, 1), (2, 2)}   \n",
              "\n",
              "                                     Suma5  \\\n",
              "opciones  {(3, 2), (4, 1), (1, 4), (2, 3)}   \n",
              "\n",
              "                                             Suma6  \\\n",
              "opciones  {(5, 1), (3, 3), (1, 5), (4, 2), (2, 4)}   \n",
              "\n",
              "                                                     Suma7  \\\n",
              "opciones  {(6, 1), (1, 6), (4, 3), (3, 4), (2, 5), (5, 2)}   \n",
              "\n",
              "                                             Suma8  \\\n",
              "opciones  {(3, 5), (2, 6), (4, 4), (6, 2), (5, 3)}   \n",
              "\n",
              "                                     Suma9                    Suma10  \\\n",
              "opciones  {(6, 3), (5, 4), (4, 5), (3, 6)}  {(6, 4), (4, 6), (5, 5)}   \n",
              "\n",
              "                    Suma11    Suma12  \n",
              "opciones  {(5, 6), (6, 5)}  {(6, 6)}  "
            ],
            "text/html": [
              "\n",
              "  <div id=\"df-ac1d2280-bc5c-4609-a695-e2bb6a508365\">\n",
              "    <div class=\"colab-df-container\">\n",
              "      <div>\n",
              "<style scoped>\n",
              "    .dataframe tbody tr th:only-of-type {\n",
              "        vertical-align: middle;\n",
              "    }\n",
              "\n",
              "    .dataframe tbody tr th {\n",
              "        vertical-align: top;\n",
              "    }\n",
              "\n",
              "    .dataframe thead th {\n",
              "        text-align: right;\n",
              "    }\n",
              "</style>\n",
              "<table border=\"1\" class=\"dataframe\">\n",
              "  <thead>\n",
              "    <tr style=\"text-align: right;\">\n",
              "      <th></th>\n",
              "      <th>Suma2</th>\n",
              "      <th>Suma3</th>\n",
              "      <th>Suma4</th>\n",
              "      <th>Suma5</th>\n",
              "      <th>Suma6</th>\n",
              "      <th>Suma7</th>\n",
              "      <th>Suma8</th>\n",
              "      <th>Suma9</th>\n",
              "      <th>Suma10</th>\n",
              "      <th>Suma11</th>\n",
              "      <th>Suma12</th>\n",
              "    </tr>\n",
              "  </thead>\n",
              "  <tbody>\n",
              "    <tr>\n",
              "      <th>opciones</th>\n",
              "      <td>{(1, 1)}</td>\n",
              "      <td>{(1, 2), (2, 1)}</td>\n",
              "      <td>{(1, 3), (3, 1), (2, 2)}</td>\n",
              "      <td>{(3, 2), (4, 1), (1, 4), (2, 3)}</td>\n",
              "      <td>{(5, 1), (3, 3), (1, 5), (4, 2), (2, 4)}</td>\n",
              "      <td>{(6, 1), (1, 6), (4, 3), (3, 4), (2, 5), (5, 2)}</td>\n",
              "      <td>{(3, 5), (2, 6), (4, 4), (6, 2), (5, 3)}</td>\n",
              "      <td>{(6, 3), (5, 4), (4, 5), (3, 6)}</td>\n",
              "      <td>{(6, 4), (4, 6), (5, 5)}</td>\n",
              "      <td>{(5, 6), (6, 5)}</td>\n",
              "      <td>{(6, 6)}</td>\n",
              "    </tr>\n",
              "  </tbody>\n",
              "</table>\n",
              "</div>\n",
              "      <button class=\"colab-df-convert\" onclick=\"convertToInteractive('df-ac1d2280-bc5c-4609-a695-e2bb6a508365')\"\n",
              "              title=\"Convert this dataframe to an interactive table.\"\n",
              "              style=\"display:none;\">\n",
              "        \n",
              "  <svg xmlns=\"http://www.w3.org/2000/svg\" height=\"24px\"viewBox=\"0 0 24 24\"\n",
              "       width=\"24px\">\n",
              "    <path d=\"M0 0h24v24H0V0z\" fill=\"none\"/>\n",
              "    <path d=\"M18.56 5.44l.94 2.06.94-2.06 2.06-.94-2.06-.94-.94-2.06-.94 2.06-2.06.94zm-11 1L8.5 8.5l.94-2.06 2.06-.94-2.06-.94L8.5 2.5l-.94 2.06-2.06.94zm10 10l.94 2.06.94-2.06 2.06-.94-2.06-.94-.94-2.06-.94 2.06-2.06.94z\"/><path d=\"M17.41 7.96l-1.37-1.37c-.4-.4-.92-.59-1.43-.59-.52 0-1.04.2-1.43.59L10.3 9.45l-7.72 7.72c-.78.78-.78 2.05 0 2.83L4 21.41c.39.39.9.59 1.41.59.51 0 1.02-.2 1.41-.59l7.78-7.78 2.81-2.81c.8-.78.8-2.07 0-2.86zM5.41 20L4 18.59l7.72-7.72 1.47 1.35L5.41 20z\"/>\n",
              "  </svg>\n",
              "      </button>\n",
              "      \n",
              "  <style>\n",
              "    .colab-df-container {\n",
              "      display:flex;\n",
              "      flex-wrap:wrap;\n",
              "      gap: 12px;\n",
              "    }\n",
              "\n",
              "    .colab-df-convert {\n",
              "      background-color: #E8F0FE;\n",
              "      border: none;\n",
              "      border-radius: 50%;\n",
              "      cursor: pointer;\n",
              "      display: none;\n",
              "      fill: #1967D2;\n",
              "      height: 32px;\n",
              "      padding: 0 0 0 0;\n",
              "      width: 32px;\n",
              "    }\n",
              "\n",
              "    .colab-df-convert:hover {\n",
              "      background-color: #E2EBFA;\n",
              "      box-shadow: 0px 1px 2px rgba(60, 64, 67, 0.3), 0px 1px 3px 1px rgba(60, 64, 67, 0.15);\n",
              "      fill: #174EA6;\n",
              "    }\n",
              "\n",
              "    [theme=dark] .colab-df-convert {\n",
              "      background-color: #3B4455;\n",
              "      fill: #D2E3FC;\n",
              "    }\n",
              "\n",
              "    [theme=dark] .colab-df-convert:hover {\n",
              "      background-color: #434B5C;\n",
              "      box-shadow: 0px 1px 3px 1px rgba(0, 0, 0, 0.15);\n",
              "      filter: drop-shadow(0px 1px 2px rgba(0, 0, 0, 0.3));\n",
              "      fill: #FFFFFF;\n",
              "    }\n",
              "  </style>\n",
              "\n",
              "      <script>\n",
              "        const buttonEl =\n",
              "          document.querySelector('#df-ac1d2280-bc5c-4609-a695-e2bb6a508365 button.colab-df-convert');\n",
              "        buttonEl.style.display =\n",
              "          google.colab.kernel.accessAllowed ? 'block' : 'none';\n",
              "\n",
              "        async function convertToInteractive(key) {\n",
              "          const element = document.querySelector('#df-ac1d2280-bc5c-4609-a695-e2bb6a508365');\n",
              "          const dataTable =\n",
              "            await google.colab.kernel.invokeFunction('convertToInteractive',\n",
              "                                                     [key], {});\n",
              "          if (!dataTable) return;\n",
              "\n",
              "          const docLinkHtml = 'Like what you see? Visit the ' +\n",
              "            '<a target=\"_blank\" href=https://colab.research.google.com/notebooks/data_table.ipynb>data table notebook</a>'\n",
              "            + ' to learn more about interactive tables.';\n",
              "          element.innerHTML = '';\n",
              "          dataTable['output_type'] = 'display_data';\n",
              "          await google.colab.output.renderOutput(dataTable, element);\n",
              "          const docLink = document.createElement('div');\n",
              "          docLink.innerHTML = docLinkHtml;\n",
              "          element.appendChild(docLink);\n",
              "        }\n",
              "      </script>\n",
              "    </div>\n",
              "  </div>\n",
              "  "
            ]
          },
          "metadata": {},
          "execution_count": 46
        }
      ]
    },
    {
      "cell_type": "code",
      "source": [
        "dfTabla[\"Suma6\"]"
      ],
      "metadata": {
        "colab": {
          "base_uri": "https://localhost:8080/"
        },
        "id": "Kn4P_sXtmYoF",
        "outputId": "88975fea-8385-44be-c754-759ad13c634f"
      },
      "execution_count": null,
      "outputs": [
        {
          "output_type": "execute_result",
          "data": {
            "text/plain": [
              "opciones    {(5, 1), (3, 3), (1, 5), (4, 2), (2, 4)}\n",
              "Name: Suma6, dtype: object"
            ]
          },
          "metadata": {},
          "execution_count": 47
        }
      ]
    },
    {
      "cell_type": "code",
      "source": [],
      "metadata": {
        "id": "1LYVZRb4mwjF"
      },
      "execution_count": null,
      "outputs": []
    },
    {
      "cell_type": "markdown",
      "source": [
        "#Tarea 1\n",
        "###Experimiento aleatorio: se lanzan dos dados honestos \n",
        "1. Describir al espacio muestral.\n",
        "2. La resta sea 1\n",
        "3. Considere el evento S(n): la suma de las caras de los dados es $n$.\n",
        "4. Calcular S(2) hasta S(12) y poner los datos en un DataFrame en Pandas."
      ],
      "metadata": {
        "id": "CIH_A5qCKfgz"
      }
    },
    {
      "cell_type": "markdown",
      "source": [
        "1. Describir al espacio muestral."
      ],
      "metadata": {
        "id": "4M2YHqvkRM2-"
      }
    },
    {
      "cell_type": "code",
      "source": [
        "from itertools import product\n",
        "from IPython.core.display import display_markdown\n",
        "import pandas as pd\n"
      ],
      "metadata": {
        "id": "UX2xMoEwLR8O"
      },
      "execution_count": null,
      "outputs": []
    },
    {
      "cell_type": "code",
      "source": [
        "Omega = set(product({1, 2, 3, 4, 5, 6}, repeat = 2))\n",
        "Omega"
      ],
      "metadata": {
        "colab": {
          "base_uri": "https://localhost:8080/"
        },
        "id": "-1Hiu7tZL2dX",
        "outputId": "21526a3a-67c7-493d-fc73-df18ee053ae1"
      },
      "execution_count": null,
      "outputs": [
        {
          "output_type": "execute_result",
          "data": {
            "text/plain": [
              "{(1, 1),\n",
              " (1, 2),\n",
              " (1, 3),\n",
              " (1, 4),\n",
              " (1, 5),\n",
              " (1, 6),\n",
              " (2, 1),\n",
              " (2, 2),\n",
              " (2, 3),\n",
              " (2, 4),\n",
              " (2, 5),\n",
              " (2, 6),\n",
              " (3, 1),\n",
              " (3, 2),\n",
              " (3, 3),\n",
              " (3, 4),\n",
              " (3, 5),\n",
              " (3, 6),\n",
              " (4, 1),\n",
              " (4, 2),\n",
              " (4, 3),\n",
              " (4, 4),\n",
              " (4, 5),\n",
              " (4, 6),\n",
              " (5, 1),\n",
              " (5, 2),\n",
              " (5, 3),\n",
              " (5, 4),\n",
              " (5, 5),\n",
              " (5, 6),\n",
              " (6, 1),\n",
              " (6, 2),\n",
              " (6, 3),\n",
              " (6, 4),\n",
              " (6, 5),\n",
              " (6, 6)}"
            ]
          },
          "metadata": {},
          "execution_count": 49
        }
      ]
    },
    {
      "cell_type": "code",
      "source": [
        "len(Omega)"
      ],
      "metadata": {
        "colab": {
          "base_uri": "https://localhost:8080/"
        },
        "id": "M4163eojMVEN",
        "outputId": "34455816-b6f3-49e6-c105-84f2e6d191bd"
      },
      "execution_count": null,
      "outputs": [
        {
          "output_type": "execute_result",
          "data": {
            "text/plain": [
              "36"
            ]
          },
          "metadata": {},
          "execution_count": 50
        }
      ]
    },
    {
      "cell_type": "markdown",
      "source": [
        "Otra forma de hacerlo"
      ],
      "metadata": {
        "id": "8i1YLiM0wiWC"
      }
    },
    {
      "cell_type": "code",
      "source": [
        "S = {omega for omega in Omega if omega[0]+omega[1]==2}\n",
        "S"
      ],
      "metadata": {
        "colab": {
          "base_uri": "https://localhost:8080/"
        },
        "id": "_R6lGX_-wlWT",
        "outputId": "44ac5509-d194-4fae-ed71-4da130bb47d9"
      },
      "execution_count": null,
      "outputs": [
        {
          "output_type": "execute_result",
          "data": {
            "text/plain": [
              "{(1, 1)}"
            ]
          },
          "metadata": {},
          "execution_count": 51
        }
      ]
    },
    {
      "cell_type": "code",
      "source": [
        "#vamos a crear una función global\n",
        "def S(n):\n",
        "  S={omega for omega in Omega if omega[0]+omega[1]==n}\n",
        "  return S"
      ],
      "metadata": {
        "id": "HyssVRB1x_zK"
      },
      "execution_count": null,
      "outputs": []
    },
    {
      "cell_type": "code",
      "source": [
        "[print(S(n)) for n in range (2,13)]"
      ],
      "metadata": {
        "colab": {
          "base_uri": "https://localhost:8080/"
        },
        "id": "O1t4_UjCyZxH",
        "outputId": "9698b7e8-a201-4d44-c947-dbac56cee076"
      },
      "execution_count": null,
      "outputs": [
        {
          "output_type": "stream",
          "name": "stdout",
          "text": [
            "{(1, 1)}\n",
            "{(1, 2), (2, 1)}\n",
            "{(1, 3), (3, 1), (2, 2)}\n",
            "{(3, 2), (4, 1), (1, 4), (2, 3)}\n",
            "{(5, 1), (3, 3), (1, 5), (4, 2), (2, 4)}\n",
            "{(6, 1), (1, 6), (4, 3), (3, 4), (2, 5), (5, 2)}\n",
            "{(3, 5), (2, 6), (4, 4), (6, 2), (5, 3)}\n",
            "{(6, 3), (5, 4), (4, 5), (3, 6)}\n",
            "{(6, 4), (4, 6), (5, 5)}\n",
            "{(5, 6), (6, 5)}\n",
            "{(6, 6)}\n"
          ]
        },
        {
          "output_type": "execute_result",
          "data": {
            "text/plain": [
              "[None, None, None, None, None, None, None, None, None, None, None]"
            ]
          },
          "metadata": {},
          "execution_count": 53
        }
      ]
    },
    {
      "cell_type": "code",
      "source": [
        "#Vamos a crear una función globalque calcule la probabilidad de cada eveno \n",
        "\n",
        "def P(A):\n",
        "  p = len(A)/len(Omega)\n",
        "  return p"
      ],
      "metadata": {
        "id": "AdDClzZ1zNhY"
      },
      "execution_count": null,
      "outputs": []
    },
    {
      "cell_type": "code",
      "source": [
        "#imprimir la función \n",
        "P(S(2))"
      ],
      "metadata": {
        "colab": {
          "base_uri": "https://localhost:8080/"
        },
        "id": "FKTyd21rzbhI",
        "outputId": "76233feb-40fa-4212-b7af-550ad02c3bd6"
      },
      "execution_count": null,
      "outputs": [
        {
          "output_type": "execute_result",
          "data": {
            "text/plain": [
              "0.027777777777777776"
            ]
          },
          "metadata": {},
          "execution_count": 55
        }
      ]
    },
    {
      "cell_type": "code",
      "source": [
        "#diccionario automático\n",
        "\n",
        "dop2 = {omega[0]+omega[1] : P(S(n)) for n in range (2,13) for omega in Omega}\n",
        "dop2"
      ],
      "metadata": {
        "colab": {
          "base_uri": "https://localhost:8080/"
        },
        "id": "IapZ1tXV0jjR",
        "outputId": "0d356de4-be9e-40b4-84b7-a235d0cf65a8"
      },
      "execution_count": null,
      "outputs": [
        {
          "output_type": "execute_result",
          "data": {
            "text/plain": [
              "{4: 0.027777777777777776,\n",
              " 12: 0.027777777777777776,\n",
              " 11: 0.027777777777777776,\n",
              " 3: 0.027777777777777776,\n",
              " 8: 0.027777777777777776,\n",
              " 7: 0.027777777777777776,\n",
              " 6: 0.027777777777777776,\n",
              " 10: 0.027777777777777776,\n",
              " 9: 0.027777777777777776,\n",
              " 5: 0.027777777777777776,\n",
              " 2: 0.027777777777777776}"
            ]
          },
          "metadata": {},
          "execution_count": 56
        }
      ]
    },
    {
      "cell_type": "code",
      "source": [
        "index = [\"probabilidad\"]\n",
        "dop2df = pd.DataFrame(dop2, index = index)\n",
        "dop2df"
      ],
      "metadata": {
        "colab": {
          "base_uri": "https://localhost:8080/",
          "height": 101
        },
        "id": "-kwZuQ2q2jfm",
        "outputId": "8032d577-fafe-4899-c143-23f690da9ea5"
      },
      "execution_count": null,
      "outputs": [
        {
          "output_type": "execute_result",
          "data": {
            "text/plain": [
              "                    4         12        11        3         8         7   \\\n",
              "probabilidad  0.027778  0.027778  0.027778  0.027778  0.027778  0.027778   \n",
              "\n",
              "                    6         10        9         5         2   \n",
              "probabilidad  0.027778  0.027778  0.027778  0.027778  0.027778  "
            ],
            "text/html": [
              "\n",
              "  <div id=\"df-ae37d734-8d9d-492b-ac9d-d80ebdf913ad\">\n",
              "    <div class=\"colab-df-container\">\n",
              "      <div>\n",
              "<style scoped>\n",
              "    .dataframe tbody tr th:only-of-type {\n",
              "        vertical-align: middle;\n",
              "    }\n",
              "\n",
              "    .dataframe tbody tr th {\n",
              "        vertical-align: top;\n",
              "    }\n",
              "\n",
              "    .dataframe thead th {\n",
              "        text-align: right;\n",
              "    }\n",
              "</style>\n",
              "<table border=\"1\" class=\"dataframe\">\n",
              "  <thead>\n",
              "    <tr style=\"text-align: right;\">\n",
              "      <th></th>\n",
              "      <th>4</th>\n",
              "      <th>12</th>\n",
              "      <th>11</th>\n",
              "      <th>3</th>\n",
              "      <th>8</th>\n",
              "      <th>7</th>\n",
              "      <th>6</th>\n",
              "      <th>10</th>\n",
              "      <th>9</th>\n",
              "      <th>5</th>\n",
              "      <th>2</th>\n",
              "    </tr>\n",
              "  </thead>\n",
              "  <tbody>\n",
              "    <tr>\n",
              "      <th>probabilidad</th>\n",
              "      <td>0.027778</td>\n",
              "      <td>0.027778</td>\n",
              "      <td>0.027778</td>\n",
              "      <td>0.027778</td>\n",
              "      <td>0.027778</td>\n",
              "      <td>0.027778</td>\n",
              "      <td>0.027778</td>\n",
              "      <td>0.027778</td>\n",
              "      <td>0.027778</td>\n",
              "      <td>0.027778</td>\n",
              "      <td>0.027778</td>\n",
              "    </tr>\n",
              "  </tbody>\n",
              "</table>\n",
              "</div>\n",
              "      <button class=\"colab-df-convert\" onclick=\"convertToInteractive('df-ae37d734-8d9d-492b-ac9d-d80ebdf913ad')\"\n",
              "              title=\"Convert this dataframe to an interactive table.\"\n",
              "              style=\"display:none;\">\n",
              "        \n",
              "  <svg xmlns=\"http://www.w3.org/2000/svg\" height=\"24px\"viewBox=\"0 0 24 24\"\n",
              "       width=\"24px\">\n",
              "    <path d=\"M0 0h24v24H0V0z\" fill=\"none\"/>\n",
              "    <path d=\"M18.56 5.44l.94 2.06.94-2.06 2.06-.94-2.06-.94-.94-2.06-.94 2.06-2.06.94zm-11 1L8.5 8.5l.94-2.06 2.06-.94-2.06-.94L8.5 2.5l-.94 2.06-2.06.94zm10 10l.94 2.06.94-2.06 2.06-.94-2.06-.94-.94-2.06-.94 2.06-2.06.94z\"/><path d=\"M17.41 7.96l-1.37-1.37c-.4-.4-.92-.59-1.43-.59-.52 0-1.04.2-1.43.59L10.3 9.45l-7.72 7.72c-.78.78-.78 2.05 0 2.83L4 21.41c.39.39.9.59 1.41.59.51 0 1.02-.2 1.41-.59l7.78-7.78 2.81-2.81c.8-.78.8-2.07 0-2.86zM5.41 20L4 18.59l7.72-7.72 1.47 1.35L5.41 20z\"/>\n",
              "  </svg>\n",
              "      </button>\n",
              "      \n",
              "  <style>\n",
              "    .colab-df-container {\n",
              "      display:flex;\n",
              "      flex-wrap:wrap;\n",
              "      gap: 12px;\n",
              "    }\n",
              "\n",
              "    .colab-df-convert {\n",
              "      background-color: #E8F0FE;\n",
              "      border: none;\n",
              "      border-radius: 50%;\n",
              "      cursor: pointer;\n",
              "      display: none;\n",
              "      fill: #1967D2;\n",
              "      height: 32px;\n",
              "      padding: 0 0 0 0;\n",
              "      width: 32px;\n",
              "    }\n",
              "\n",
              "    .colab-df-convert:hover {\n",
              "      background-color: #E2EBFA;\n",
              "      box-shadow: 0px 1px 2px rgba(60, 64, 67, 0.3), 0px 1px 3px 1px rgba(60, 64, 67, 0.15);\n",
              "      fill: #174EA6;\n",
              "    }\n",
              "\n",
              "    [theme=dark] .colab-df-convert {\n",
              "      background-color: #3B4455;\n",
              "      fill: #D2E3FC;\n",
              "    }\n",
              "\n",
              "    [theme=dark] .colab-df-convert:hover {\n",
              "      background-color: #434B5C;\n",
              "      box-shadow: 0px 1px 3px 1px rgba(0, 0, 0, 0.15);\n",
              "      filter: drop-shadow(0px 1px 2px rgba(0, 0, 0, 0.3));\n",
              "      fill: #FFFFFF;\n",
              "    }\n",
              "  </style>\n",
              "\n",
              "      <script>\n",
              "        const buttonEl =\n",
              "          document.querySelector('#df-ae37d734-8d9d-492b-ac9d-d80ebdf913ad button.colab-df-convert');\n",
              "        buttonEl.style.display =\n",
              "          google.colab.kernel.accessAllowed ? 'block' : 'none';\n",
              "\n",
              "        async function convertToInteractive(key) {\n",
              "          const element = document.querySelector('#df-ae37d734-8d9d-492b-ac9d-d80ebdf913ad');\n",
              "          const dataTable =\n",
              "            await google.colab.kernel.invokeFunction('convertToInteractive',\n",
              "                                                     [key], {});\n",
              "          if (!dataTable) return;\n",
              "\n",
              "          const docLinkHtml = 'Like what you see? Visit the ' +\n",
              "            '<a target=\"_blank\" href=https://colab.research.google.com/notebooks/data_table.ipynb>data table notebook</a>'\n",
              "            + ' to learn more about interactive tables.';\n",
              "          element.innerHTML = '';\n",
              "          dataTable['output_type'] = 'display_data';\n",
              "          await google.colab.output.renderOutput(dataTable, element);\n",
              "          const docLink = document.createElement('div');\n",
              "          docLink.innerHTML = docLinkHtml;\n",
              "          element.appendChild(docLink);\n",
              "        }\n",
              "      </script>\n",
              "    </div>\n",
              "  </div>\n",
              "  "
            ]
          },
          "metadata": {},
          "execution_count": 57
        }
      ]
    },
    {
      "cell_type": "code",
      "source": [
        "#otro diccionario automatico \n",
        "S = {(omega[0], omega[1]): omega[0]+omega[1] for omega in Omega}\n",
        "S"
      ],
      "metadata": {
        "colab": {
          "base_uri": "https://localhost:8080/"
        },
        "id": "i-qcqmB54RY1",
        "outputId": "6d0a016c-be42-4233-8624-bc368ae7b403"
      },
      "execution_count": null,
      "outputs": [
        {
          "output_type": "execute_result",
          "data": {
            "text/plain": [
              "{(1, 3): 4,\n",
              " (6, 6): 12,\n",
              " (5, 6): 11,\n",
              " (2, 1): 3,\n",
              " (6, 2): 8,\n",
              " (1, 6): 7,\n",
              " (5, 1): 6,\n",
              " (2, 5): 7,\n",
              " (1, 2): 3,\n",
              " (3, 3): 6,\n",
              " (5, 5): 10,\n",
              " (4, 4): 8,\n",
              " (6, 3): 9,\n",
              " (1, 5): 6,\n",
              " (3, 6): 9,\n",
              " (2, 2): 4,\n",
              " (4, 1): 5,\n",
              " (1, 1): 2,\n",
              " (6, 4): 10,\n",
              " (3, 2): 5,\n",
              " (2, 6): 8,\n",
              " (5, 4): 9,\n",
              " (4, 5): 9,\n",
              " (5, 2): 7,\n",
              " (1, 4): 5,\n",
              " (2, 3): 5,\n",
              " (4, 2): 6,\n",
              " (6, 5): 11,\n",
              " (3, 5): 8,\n",
              " (5, 3): 8,\n",
              " (4, 6): 10,\n",
              " (6, 1): 7,\n",
              " (3, 1): 4,\n",
              " (4, 3): 7,\n",
              " (3, 4): 7,\n",
              " (2, 4): 6}"
            ]
          },
          "metadata": {},
          "execution_count": 58
        }
      ]
    },
    {
      "cell_type": "code",
      "source": [
        "#explicación de crear un diccionario automatico \n",
        "d ={\"Emilia\": \"concha\", \"Rocio\": \"rosa\"}\n",
        "d"
      ],
      "metadata": {
        "colab": {
          "base_uri": "https://localhost:8080/"
        },
        "id": "dVORl5HD6F0t",
        "outputId": "208c6ca1-9879-4fc7-a346-13e88e6a4c23"
      },
      "execution_count": null,
      "outputs": [
        {
          "output_type": "execute_result",
          "data": {
            "text/plain": [
              "{'Emilia': 'concha', 'Rocio': 'rosa'}"
            ]
          },
          "metadata": {},
          "execution_count": 59
        }
      ]
    },
    {
      "cell_type": "code",
      "source": [
        "#ejemplo\n",
        "d.keys()"
      ],
      "metadata": {
        "colab": {
          "base_uri": "https://localhost:8080/"
        },
        "id": "AMCor1wi6P35",
        "outputId": "9bdb8753-d350-4acb-fadd-056ec6b3bf48"
      },
      "execution_count": null,
      "outputs": [
        {
          "output_type": "execute_result",
          "data": {
            "text/plain": [
              "dict_keys(['Emilia', 'Rocio'])"
            ]
          },
          "metadata": {},
          "execution_count": 60
        }
      ]
    },
    {
      "cell_type": "code",
      "source": [
        "#ejemplo\n",
        "d.values()"
      ],
      "metadata": {
        "colab": {
          "base_uri": "https://localhost:8080/"
        },
        "id": "lzfGomOk6Slk",
        "outputId": "412ddd1b-fd33-4460-f348-8daf2488307c"
      },
      "execution_count": null,
      "outputs": [
        {
          "output_type": "execute_result",
          "data": {
            "text/plain": [
              "dict_values(['concha', 'rosa'])"
            ]
          },
          "metadata": {},
          "execution_count": 61
        }
      ]
    },
    {
      "cell_type": "code",
      "source": [
        "#ejemplo\n",
        "d.items()"
      ],
      "metadata": {
        "colab": {
          "base_uri": "https://localhost:8080/"
        },
        "id": "oNw7hNaz6Vkj",
        "outputId": "3c5582a1-3f7b-4c31-d700-d29582323a61"
      },
      "execution_count": null,
      "outputs": [
        {
          "output_type": "execute_result",
          "data": {
            "text/plain": [
              "dict_items([('Emilia', 'concha'), ('Rocio', 'rosa')])"
            ]
          },
          "metadata": {},
          "execution_count": 62
        }
      ]
    },
    {
      "cell_type": "code",
      "source": [
        "S.items()"
      ],
      "metadata": {
        "colab": {
          "base_uri": "https://localhost:8080/"
        },
        "id": "OvUx3jDi69uq",
        "outputId": "fd1e34e5-ddfd-4126-c8f8-b27c941af424"
      },
      "execution_count": null,
      "outputs": [
        {
          "output_type": "execute_result",
          "data": {
            "text/plain": [
              "dict_items([((1, 3), 4), ((6, 6), 12), ((5, 6), 11), ((2, 1), 3), ((6, 2), 8), ((1, 6), 7), ((5, 1), 6), ((2, 5), 7), ((1, 2), 3), ((3, 3), 6), ((5, 5), 10), ((4, 4), 8), ((6, 3), 9), ((1, 5), 6), ((3, 6), 9), ((2, 2), 4), ((4, 1), 5), ((1, 1), 2), ((6, 4), 10), ((3, 2), 5), ((2, 6), 8), ((5, 4), 9), ((4, 5), 9), ((5, 2), 7), ((1, 4), 5), ((2, 3), 5), ((4, 2), 6), ((6, 5), 11), ((3, 5), 8), ((5, 3), 8), ((4, 6), 10), ((6, 1), 7), ((3, 1), 4), ((4, 3), 7), ((3, 4), 7), ((2, 4), 6)])"
            ]
          },
          "metadata": {},
          "execution_count": 63
        }
      ]
    },
    {
      "cell_type": "code",
      "source": [
        "#nuevo \n",
        "from collections import defaultdict \n",
        "dS = defaultdict(set)\n",
        "for i, j in S.items():\n",
        "  dS[j].add(i) #vamos a ir añadiendo datos"
      ],
      "metadata": {
        "id": "rTsmqOsl5BYW"
      },
      "execution_count": null,
      "outputs": []
    },
    {
      "cell_type": "code",
      "source": [
        "dS"
      ],
      "metadata": {
        "colab": {
          "base_uri": "https://localhost:8080/"
        },
        "id": "agffHjML7Ub_",
        "outputId": "b399d951-a7dc-49ff-c9e3-5c37c4e6d639"
      },
      "execution_count": null,
      "outputs": [
        {
          "output_type": "execute_result",
          "data": {
            "text/plain": [
              "defaultdict(set,\n",
              "            {4: {(1, 3), (2, 2), (3, 1)},\n",
              "             12: {(6, 6)},\n",
              "             11: {(5, 6), (6, 5)},\n",
              "             3: {(1, 2), (2, 1)},\n",
              "             8: {(2, 6), (3, 5), (4, 4), (5, 3), (6, 2)},\n",
              "             7: {(1, 6), (2, 5), (3, 4), (4, 3), (5, 2), (6, 1)},\n",
              "             6: {(1, 5), (2, 4), (3, 3), (4, 2), (5, 1)},\n",
              "             10: {(4, 6), (5, 5), (6, 4)},\n",
              "             9: {(3, 6), (4, 5), (5, 4), (6, 3)},\n",
              "             5: {(1, 4), (2, 3), (3, 2), (4, 1)},\n",
              "             2: {(1, 1)}})"
            ]
          },
          "metadata": {},
          "execution_count": 65
        }
      ]
    },
    {
      "cell_type": "code",
      "source": [
        "Densidad_S = {i : P(A) for i, A in dS.items() }\n",
        "Densidad_S"
      ],
      "metadata": {
        "colab": {
          "base_uri": "https://localhost:8080/"
        },
        "id": "iVthv-B67iHI",
        "outputId": "8aa33bf1-125a-4e3f-d162-9074d0c3a08a"
      },
      "execution_count": null,
      "outputs": [
        {
          "output_type": "execute_result",
          "data": {
            "text/plain": [
              "{4: 0.08333333333333333,\n",
              " 12: 0.027777777777777776,\n",
              " 11: 0.05555555555555555,\n",
              " 3: 0.05555555555555555,\n",
              " 8: 0.1388888888888889,\n",
              " 7: 0.16666666666666666,\n",
              " 6: 0.1388888888888889,\n",
              " 10: 0.08333333333333333,\n",
              " 9: 0.1111111111111111,\n",
              " 5: 0.1111111111111111,\n",
              " 2: 0.027777777777777776}"
            ]
          },
          "metadata": {},
          "execution_count": 66
        }
      ]
    },
    {
      "cell_type": "code",
      "source": [
        "dfD = pd.Series(Densidad_S) #casi un data frame, Series = casi DataFrame\n",
        "dfD"
      ],
      "metadata": {
        "colab": {
          "base_uri": "https://localhost:8080/"
        },
        "id": "wfDToJ1I86hK",
        "outputId": "642a54cf-c3a4-49f0-a3bc-e56a04482fe5"
      },
      "execution_count": null,
      "outputs": [
        {
          "output_type": "execute_result",
          "data": {
            "text/plain": [
              "4     0.083333\n",
              "12    0.027778\n",
              "11    0.055556\n",
              "3     0.055556\n",
              "8     0.138889\n",
              "7     0.166667\n",
              "6     0.138889\n",
              "10    0.083333\n",
              "9     0.111111\n",
              "5     0.111111\n",
              "2     0.027778\n",
              "dtype: float64"
            ]
          },
          "metadata": {},
          "execution_count": 67
        }
      ]
    },
    {
      "cell_type": "markdown",
      "source": [
        "2. La resta sea 1"
      ],
      "metadata": {
        "id": "xqG8E9PrcMNT"
      }
    },
    {
      "cell_type": "code",
      "source": [
        "def R(n):\n",
        "  Rn = [(i, j) for i in range (1, 7) for j in range (1,7) if i-j == 1]\n",
        "  return Rn"
      ],
      "metadata": {
        "id": "PnenSlD_curg"
      },
      "execution_count": null,
      "outputs": []
    },
    {
      "cell_type": "code",
      "source": [
        "R(1)"
      ],
      "metadata": {
        "colab": {
          "base_uri": "https://localhost:8080/"
        },
        "id": "UEM4caoVded1",
        "outputId": "9b14347e-54ee-4a6b-e797-f0cdd2b33cae"
      },
      "execution_count": null,
      "outputs": [
        {
          "output_type": "execute_result",
          "data": {
            "text/plain": [
              "[(2, 1), (3, 2), (4, 3), (5, 4), (6, 5)]"
            ]
          },
          "metadata": {},
          "execution_count": 69
        }
      ]
    },
    {
      "cell_type": "markdown",
      "source": [
        "3. Considere el evento S(n): la suma de las caras de los dados es n."
      ],
      "metadata": {
        "id": "2OHGau7sRT-0"
      }
    },
    {
      "cell_type": "markdown",
      "source": [
        "Sn = {(i, j) ∈ Ω: i + j = n}"
      ],
      "metadata": {
        "id": "TRwqdRyeP6v0"
      }
    },
    {
      "cell_type": "code",
      "source": [
        "def S(n): \n",
        "  Sn = [(i,j) for i in range (1, 7) for j in range (1, 7) if i+j == n]\n",
        "  return Sn"
      ],
      "metadata": {
        "id": "y066UZYmQUla"
      },
      "execution_count": null,
      "outputs": []
    },
    {
      "cell_type": "markdown",
      "source": [
        "4. Calcular S(2) hasta S(12) y poner los datos en un DataFrame en Pandas."
      ],
      "metadata": {
        "id": "gnrp3FvORaBP"
      }
    },
    {
      "cell_type": "code",
      "source": [
        "suma2 = S(2)\n",
        "suma2"
      ],
      "metadata": {
        "colab": {
          "base_uri": "https://localhost:8080/"
        },
        "id": "zajvIUW_RApj",
        "outputId": "13c591d3-6034-4be9-ad60-66d249729d5d"
      },
      "execution_count": null,
      "outputs": [
        {
          "output_type": "execute_result",
          "data": {
            "text/plain": [
              "[(1, 1)]"
            ]
          },
          "metadata": {},
          "execution_count": 71
        }
      ]
    },
    {
      "cell_type": "code",
      "source": [
        "suma3 = S(3)\n",
        "suma3"
      ],
      "metadata": {
        "colab": {
          "base_uri": "https://localhost:8080/"
        },
        "id": "Mi-EhaCyRdve",
        "outputId": "00a393c9-1bd9-4123-b2b3-1940bc59c962"
      },
      "execution_count": null,
      "outputs": [
        {
          "output_type": "execute_result",
          "data": {
            "text/plain": [
              "[(1, 2), (2, 1)]"
            ]
          },
          "metadata": {},
          "execution_count": 72
        }
      ]
    },
    {
      "cell_type": "code",
      "source": [
        "suma4 = S(4)\n",
        "suma4"
      ],
      "metadata": {
        "colab": {
          "base_uri": "https://localhost:8080/"
        },
        "id": "EhpBj5ouRHMz",
        "outputId": "152fb738-294a-4996-dbfb-cd8151ee1ddd"
      },
      "execution_count": null,
      "outputs": [
        {
          "output_type": "execute_result",
          "data": {
            "text/plain": [
              "[(1, 3), (2, 2), (3, 1)]"
            ]
          },
          "metadata": {},
          "execution_count": 73
        }
      ]
    },
    {
      "cell_type": "code",
      "source": [
        "suma5 = S(5)\n",
        "suma5"
      ],
      "metadata": {
        "colab": {
          "base_uri": "https://localhost:8080/"
        },
        "id": "D_XLBiOgRqa5",
        "outputId": "f29c573e-7160-45bd-bc73-d14b35183bd1"
      },
      "execution_count": null,
      "outputs": [
        {
          "output_type": "execute_result",
          "data": {
            "text/plain": [
              "[(1, 4), (2, 3), (3, 2), (4, 1)]"
            ]
          },
          "metadata": {},
          "execution_count": 74
        }
      ]
    },
    {
      "cell_type": "code",
      "source": [
        "suma6 = S(6)\n",
        "suma6"
      ],
      "metadata": {
        "colab": {
          "base_uri": "https://localhost:8080/"
        },
        "id": "-SxRgCHERtFI",
        "outputId": "0e540efe-2b7a-410c-8dd6-c021b8e29c7c"
      },
      "execution_count": null,
      "outputs": [
        {
          "output_type": "execute_result",
          "data": {
            "text/plain": [
              "[(1, 5), (2, 4), (3, 3), (4, 2), (5, 1)]"
            ]
          },
          "metadata": {},
          "execution_count": 75
        }
      ]
    },
    {
      "cell_type": "code",
      "source": [
        "suma7 = S(7)\n",
        "suma7"
      ],
      "metadata": {
        "colab": {
          "base_uri": "https://localhost:8080/"
        },
        "id": "fpiBJQi0Rumu",
        "outputId": "29f8a43b-3b52-4625-c958-a901a524f12c"
      },
      "execution_count": null,
      "outputs": [
        {
          "output_type": "execute_result",
          "data": {
            "text/plain": [
              "[(1, 6), (2, 5), (3, 4), (4, 3), (5, 2), (6, 1)]"
            ]
          },
          "metadata": {},
          "execution_count": 76
        }
      ]
    },
    {
      "cell_type": "code",
      "source": [
        "suma8 = S(8)\n",
        "suma8"
      ],
      "metadata": {
        "colab": {
          "base_uri": "https://localhost:8080/"
        },
        "id": "RDlDg5KKRwYg",
        "outputId": "a29ecfe2-39a7-4865-e272-aada19b81edb"
      },
      "execution_count": null,
      "outputs": [
        {
          "output_type": "execute_result",
          "data": {
            "text/plain": [
              "[(2, 6), (3, 5), (4, 4), (5, 3), (6, 2)]"
            ]
          },
          "metadata": {},
          "execution_count": 77
        }
      ]
    },
    {
      "cell_type": "code",
      "source": [
        "suma9 = S(9)\n",
        "suma9"
      ],
      "metadata": {
        "colab": {
          "base_uri": "https://localhost:8080/"
        },
        "id": "tCOoDobHRyIZ",
        "outputId": "a6a7843b-cb03-4bd8-9a8f-49b29288145b"
      },
      "execution_count": null,
      "outputs": [
        {
          "output_type": "execute_result",
          "data": {
            "text/plain": [
              "[(3, 6), (4, 5), (5, 4), (6, 3)]"
            ]
          },
          "metadata": {},
          "execution_count": 78
        }
      ]
    },
    {
      "cell_type": "code",
      "source": [
        "suma10 = S(10)\n",
        "suma10"
      ],
      "metadata": {
        "colab": {
          "base_uri": "https://localhost:8080/"
        },
        "id": "jV3v3hh5RzxZ",
        "outputId": "cbb5a92b-36cb-4cc4-d2a1-06dbfae98722"
      },
      "execution_count": null,
      "outputs": [
        {
          "output_type": "execute_result",
          "data": {
            "text/plain": [
              "[(4, 6), (5, 5), (6, 4)]"
            ]
          },
          "metadata": {},
          "execution_count": 79
        }
      ]
    },
    {
      "cell_type": "code",
      "source": [
        "suma11 = S(11)\n",
        "suma11"
      ],
      "metadata": {
        "colab": {
          "base_uri": "https://localhost:8080/"
        },
        "id": "S56F2I5IR1hW",
        "outputId": "f5ef57b3-923f-4633-f095-bdf68e71c141"
      },
      "execution_count": null,
      "outputs": [
        {
          "output_type": "execute_result",
          "data": {
            "text/plain": [
              "[(5, 6), (6, 5)]"
            ]
          },
          "metadata": {},
          "execution_count": 80
        }
      ]
    },
    {
      "cell_type": "code",
      "source": [
        "suma12 = S(12)\n",
        "suma12"
      ],
      "metadata": {
        "colab": {
          "base_uri": "https://localhost:8080/"
        },
        "id": "vDiSmZzSR3Gd",
        "outputId": "1686ea1f-64f5-406a-e95d-35a218ff415a"
      },
      "execution_count": null,
      "outputs": [
        {
          "output_type": "execute_result",
          "data": {
            "text/plain": [
              "[(6, 6)]"
            ]
          },
          "metadata": {},
          "execution_count": 81
        }
      ]
    },
    {
      "cell_type": "code",
      "source": [
        "import pandas as pd"
      ],
      "metadata": {
        "id": "rj-Nhm3uZ1Vq"
      },
      "execution_count": null,
      "outputs": []
    },
    {
      "cell_type": "code",
      "source": [
        "dados ={\"S(2)\": [suma2],\n",
        "        \"S(3)\": [suma3],\n",
        "        \"S(4)\": [suma4],\n",
        "        \"S(5)\": [suma5],\n",
        "        \"S(5)\": [suma5],\n",
        "        \"S(6)\": [suma6],\n",
        "        \"S(7)\": [suma7],\n",
        "        \"S(8)\": [suma8],\n",
        "        \"S(9)\": [suma9],\n",
        "        \"S(10)\": [suma10],\n",
        "        \"S(11)\": [suma11],\n",
        "        \"S(12)\": [suma12]}"
      ],
      "metadata": {
        "id": "BCB6Lz07CHLq"
      },
      "execution_count": null,
      "outputs": []
    },
    {
      "cell_type": "code",
      "source": [
        "dados"
      ],
      "metadata": {
        "colab": {
          "base_uri": "https://localhost:8080/"
        },
        "id": "zInq4I9dZw6V",
        "outputId": "f1121662-6260-4406-a557-548ea805342b"
      },
      "execution_count": null,
      "outputs": [
        {
          "output_type": "execute_result",
          "data": {
            "text/plain": [
              "{'S(2)': [[(1, 1)]],\n",
              " 'S(3)': [[(1, 2), (2, 1)]],\n",
              " 'S(4)': [[(1, 3), (2, 2), (3, 1)]],\n",
              " 'S(5)': [[(1, 4), (2, 3), (3, 2), (4, 1)]],\n",
              " 'S(6)': [[(1, 5), (2, 4), (3, 3), (4, 2), (5, 1)]],\n",
              " 'S(7)': [[(1, 6), (2, 5), (3, 4), (4, 3), (5, 2), (6, 1)]],\n",
              " 'S(8)': [[(2, 6), (3, 5), (4, 4), (5, 3), (6, 2)]],\n",
              " 'S(9)': [[(3, 6), (4, 5), (5, 4), (6, 3)]],\n",
              " 'S(10)': [[(4, 6), (5, 5), (6, 4)]],\n",
              " 'S(11)': [[(5, 6), (6, 5)]],\n",
              " 'S(12)': [[(6, 6)]]}"
            ]
          },
          "metadata": {},
          "execution_count": 84
        }
      ]
    },
    {
      "cell_type": "code",
      "source": [
        "dfDados = pd.DataFrame(dados, index= [\"sumas\"])\n",
        "dfDados"
      ],
      "metadata": {
        "colab": {
          "base_uri": "https://localhost:8080/",
          "height": 163
        },
        "id": "mtlZkntz8DO9",
        "outputId": "b04ac901-233d-42c4-e058-d65e3cfee190"
      },
      "execution_count": null,
      "outputs": [
        {
          "output_type": "execute_result",
          "data": {
            "text/plain": [
              "           S(2)              S(3)                      S(4)  \\\n",
              "sumas  [(1, 1)]  [(1, 2), (2, 1)]  [(1, 3), (2, 2), (3, 1)]   \n",
              "\n",
              "                                   S(5)  \\\n",
              "sumas  [(1, 4), (2, 3), (3, 2), (4, 1)]   \n",
              "\n",
              "                                           S(6)  \\\n",
              "sumas  [(1, 5), (2, 4), (3, 3), (4, 2), (5, 1)]   \n",
              "\n",
              "                                                   S(7)  \\\n",
              "sumas  [(1, 6), (2, 5), (3, 4), (4, 3), (5, 2), (6, 1)]   \n",
              "\n",
              "                                           S(8)  \\\n",
              "sumas  [(2, 6), (3, 5), (4, 4), (5, 3), (6, 2)]   \n",
              "\n",
              "                                   S(9)                     S(10)  \\\n",
              "sumas  [(3, 6), (4, 5), (5, 4), (6, 3)]  [(4, 6), (5, 5), (6, 4)]   \n",
              "\n",
              "                  S(11)     S(12)  \n",
              "sumas  [(5, 6), (6, 5)]  [(6, 6)]  "
            ],
            "text/html": [
              "\n",
              "  <div id=\"df-62b9a7b9-7aba-4609-921b-c538fc02d96b\">\n",
              "    <div class=\"colab-df-container\">\n",
              "      <div>\n",
              "<style scoped>\n",
              "    .dataframe tbody tr th:only-of-type {\n",
              "        vertical-align: middle;\n",
              "    }\n",
              "\n",
              "    .dataframe tbody tr th {\n",
              "        vertical-align: top;\n",
              "    }\n",
              "\n",
              "    .dataframe thead th {\n",
              "        text-align: right;\n",
              "    }\n",
              "</style>\n",
              "<table border=\"1\" class=\"dataframe\">\n",
              "  <thead>\n",
              "    <tr style=\"text-align: right;\">\n",
              "      <th></th>\n",
              "      <th>S(2)</th>\n",
              "      <th>S(3)</th>\n",
              "      <th>S(4)</th>\n",
              "      <th>S(5)</th>\n",
              "      <th>S(6)</th>\n",
              "      <th>S(7)</th>\n",
              "      <th>S(8)</th>\n",
              "      <th>S(9)</th>\n",
              "      <th>S(10)</th>\n",
              "      <th>S(11)</th>\n",
              "      <th>S(12)</th>\n",
              "    </tr>\n",
              "  </thead>\n",
              "  <tbody>\n",
              "    <tr>\n",
              "      <th>sumas</th>\n",
              "      <td>[(1, 1)]</td>\n",
              "      <td>[(1, 2), (2, 1)]</td>\n",
              "      <td>[(1, 3), (2, 2), (3, 1)]</td>\n",
              "      <td>[(1, 4), (2, 3), (3, 2), (4, 1)]</td>\n",
              "      <td>[(1, 5), (2, 4), (3, 3), (4, 2), (5, 1)]</td>\n",
              "      <td>[(1, 6), (2, 5), (3, 4), (4, 3), (5, 2), (6, 1)]</td>\n",
              "      <td>[(2, 6), (3, 5), (4, 4), (5, 3), (6, 2)]</td>\n",
              "      <td>[(3, 6), (4, 5), (5, 4), (6, 3)]</td>\n",
              "      <td>[(4, 6), (5, 5), (6, 4)]</td>\n",
              "      <td>[(5, 6), (6, 5)]</td>\n",
              "      <td>[(6, 6)]</td>\n",
              "    </tr>\n",
              "  </tbody>\n",
              "</table>\n",
              "</div>\n",
              "      <button class=\"colab-df-convert\" onclick=\"convertToInteractive('df-62b9a7b9-7aba-4609-921b-c538fc02d96b')\"\n",
              "              title=\"Convert this dataframe to an interactive table.\"\n",
              "              style=\"display:none;\">\n",
              "        \n",
              "  <svg xmlns=\"http://www.w3.org/2000/svg\" height=\"24px\"viewBox=\"0 0 24 24\"\n",
              "       width=\"24px\">\n",
              "    <path d=\"M0 0h24v24H0V0z\" fill=\"none\"/>\n",
              "    <path d=\"M18.56 5.44l.94 2.06.94-2.06 2.06-.94-2.06-.94-.94-2.06-.94 2.06-2.06.94zm-11 1L8.5 8.5l.94-2.06 2.06-.94-2.06-.94L8.5 2.5l-.94 2.06-2.06.94zm10 10l.94 2.06.94-2.06 2.06-.94-2.06-.94-.94-2.06-.94 2.06-2.06.94z\"/><path d=\"M17.41 7.96l-1.37-1.37c-.4-.4-.92-.59-1.43-.59-.52 0-1.04.2-1.43.59L10.3 9.45l-7.72 7.72c-.78.78-.78 2.05 0 2.83L4 21.41c.39.39.9.59 1.41.59.51 0 1.02-.2 1.41-.59l7.78-7.78 2.81-2.81c.8-.78.8-2.07 0-2.86zM5.41 20L4 18.59l7.72-7.72 1.47 1.35L5.41 20z\"/>\n",
              "  </svg>\n",
              "      </button>\n",
              "      \n",
              "  <style>\n",
              "    .colab-df-container {\n",
              "      display:flex;\n",
              "      flex-wrap:wrap;\n",
              "      gap: 12px;\n",
              "    }\n",
              "\n",
              "    .colab-df-convert {\n",
              "      background-color: #E8F0FE;\n",
              "      border: none;\n",
              "      border-radius: 50%;\n",
              "      cursor: pointer;\n",
              "      display: none;\n",
              "      fill: #1967D2;\n",
              "      height: 32px;\n",
              "      padding: 0 0 0 0;\n",
              "      width: 32px;\n",
              "    }\n",
              "\n",
              "    .colab-df-convert:hover {\n",
              "      background-color: #E2EBFA;\n",
              "      box-shadow: 0px 1px 2px rgba(60, 64, 67, 0.3), 0px 1px 3px 1px rgba(60, 64, 67, 0.15);\n",
              "      fill: #174EA6;\n",
              "    }\n",
              "\n",
              "    [theme=dark] .colab-df-convert {\n",
              "      background-color: #3B4455;\n",
              "      fill: #D2E3FC;\n",
              "    }\n",
              "\n",
              "    [theme=dark] .colab-df-convert:hover {\n",
              "      background-color: #434B5C;\n",
              "      box-shadow: 0px 1px 3px 1px rgba(0, 0, 0, 0.15);\n",
              "      filter: drop-shadow(0px 1px 2px rgba(0, 0, 0, 0.3));\n",
              "      fill: #FFFFFF;\n",
              "    }\n",
              "  </style>\n",
              "\n",
              "      <script>\n",
              "        const buttonEl =\n",
              "          document.querySelector('#df-62b9a7b9-7aba-4609-921b-c538fc02d96b button.colab-df-convert');\n",
              "        buttonEl.style.display =\n",
              "          google.colab.kernel.accessAllowed ? 'block' : 'none';\n",
              "\n",
              "        async function convertToInteractive(key) {\n",
              "          const element = document.querySelector('#df-62b9a7b9-7aba-4609-921b-c538fc02d96b');\n",
              "          const dataTable =\n",
              "            await google.colab.kernel.invokeFunction('convertToInteractive',\n",
              "                                                     [key], {});\n",
              "          if (!dataTable) return;\n",
              "\n",
              "          const docLinkHtml = 'Like what you see? Visit the ' +\n",
              "            '<a target=\"_blank\" href=https://colab.research.google.com/notebooks/data_table.ipynb>data table notebook</a>'\n",
              "            + ' to learn more about interactive tables.';\n",
              "          element.innerHTML = '';\n",
              "          dataTable['output_type'] = 'display_data';\n",
              "          await google.colab.output.renderOutput(dataTable, element);\n",
              "          const docLink = document.createElement('div');\n",
              "          docLink.innerHTML = docLinkHtml;\n",
              "          element.appendChild(docLink);\n",
              "        }\n",
              "      </script>\n",
              "    </div>\n",
              "  </div>\n",
              "  "
            ]
          },
          "metadata": {},
          "execution_count": 85
        }
      ]
    },
    {
      "cell_type": "code",
      "execution_count": null,
      "metadata": {
        "id": "mxmTid_ifNTw"
      },
      "outputs": [],
      "source": []
    },
    {
      "cell_type": "markdown",
      "source": [
        "estadistica descriptivas. Base de datos y diccionarios. diagramasd de caja e histogramas.\n"
      ],
      "metadata": {
        "id": "a8rADfVNffqX"
      }
    },
    {
      "cell_type": "code",
      "source": [],
      "metadata": {
        "id": "hdUO0faYfme5"
      },
      "execution_count": null,
      "outputs": []
    },
    {
      "cell_type": "code",
      "source": [
        "alumnos = {\"Berni\": [20,1.88, 3, \"piscis\"],\n",
        "           \"Andy\": [18,1.70,1, \"Escorpio\" ],\n",
        "           \"Des\": [21, 1.83, 1, \"acuario\"]}"
      ],
      "metadata": {
        "id": "vU-LlVCufnMW"
      },
      "execution_count": null,
      "outputs": []
    },
    {
      "cell_type": "code",
      "source": [
        "type(alumnos)"
      ],
      "metadata": {
        "colab": {
          "base_uri": "https://localhost:8080/"
        },
        "id": "VKCtY0rQgKKZ",
        "outputId": "92473851-a416-434a-d07b-9ebb3f42f351"
      },
      "execution_count": null,
      "outputs": [
        {
          "output_type": "execute_result",
          "data": {
            "text/plain": [
              "dict"
            ]
          },
          "metadata": {},
          "execution_count": 87
        }
      ]
    },
    {
      "cell_type": "code",
      "source": [
        "alumnos[\"Berni\"]"
      ],
      "metadata": {
        "colab": {
          "base_uri": "https://localhost:8080/"
        },
        "id": "YXCZKd7_gMhf",
        "outputId": "12b33cf0-f470-4641-cb32-3ff95829dcb6"
      },
      "execution_count": null,
      "outputs": [
        {
          "output_type": "execute_result",
          "data": {
            "text/plain": [
              "[20, 1.88, 3, 'piscis']"
            ]
          },
          "metadata": {},
          "execution_count": 88
        }
      ]
    },
    {
      "cell_type": "code",
      "source": [
        "import pandas as pd\n",
        "\n",
        "index = [\"Edad\", \"Altura\", \"Hermanos\", \"Signo\"]"
      ],
      "metadata": {
        "id": "jErn51R9gQCf"
      },
      "execution_count": null,
      "outputs": []
    },
    {
      "cell_type": "code",
      "source": [
        "dfalumnos = pd.DataFrame(alumnos, index= index)"
      ],
      "metadata": {
        "id": "wLGgbRHJgUjH"
      },
      "execution_count": null,
      "outputs": []
    },
    {
      "cell_type": "code",
      "source": [
        "dfalumnos"
      ],
      "metadata": {
        "colab": {
          "base_uri": "https://localhost:8080/",
          "height": 196
        },
        "id": "U9JdhPtig0aN",
        "outputId": "63beaac2-fe9b-43ba-ec93-95d6c6551c81"
      },
      "execution_count": null,
      "outputs": [
        {
          "output_type": "execute_result",
          "data": {
            "text/plain": [
              "           Berni      Andy      Des\n",
              "Edad          20        18       21\n",
              "Altura      1.88       1.7     1.83\n",
              "Hermanos       3         1        1\n",
              "Signo     piscis  Escorpio  acuario"
            ],
            "text/html": [
              "\n",
              "  <div id=\"df-4bbdb6fc-6029-454c-bc57-ad27498ab7f3\">\n",
              "    <div class=\"colab-df-container\">\n",
              "      <div>\n",
              "<style scoped>\n",
              "    .dataframe tbody tr th:only-of-type {\n",
              "        vertical-align: middle;\n",
              "    }\n",
              "\n",
              "    .dataframe tbody tr th {\n",
              "        vertical-align: top;\n",
              "    }\n",
              "\n",
              "    .dataframe thead th {\n",
              "        text-align: right;\n",
              "    }\n",
              "</style>\n",
              "<table border=\"1\" class=\"dataframe\">\n",
              "  <thead>\n",
              "    <tr style=\"text-align: right;\">\n",
              "      <th></th>\n",
              "      <th>Berni</th>\n",
              "      <th>Andy</th>\n",
              "      <th>Des</th>\n",
              "    </tr>\n",
              "  </thead>\n",
              "  <tbody>\n",
              "    <tr>\n",
              "      <th>Edad</th>\n",
              "      <td>20</td>\n",
              "      <td>18</td>\n",
              "      <td>21</td>\n",
              "    </tr>\n",
              "    <tr>\n",
              "      <th>Altura</th>\n",
              "      <td>1.88</td>\n",
              "      <td>1.7</td>\n",
              "      <td>1.83</td>\n",
              "    </tr>\n",
              "    <tr>\n",
              "      <th>Hermanos</th>\n",
              "      <td>3</td>\n",
              "      <td>1</td>\n",
              "      <td>1</td>\n",
              "    </tr>\n",
              "    <tr>\n",
              "      <th>Signo</th>\n",
              "      <td>piscis</td>\n",
              "      <td>Escorpio</td>\n",
              "      <td>acuario</td>\n",
              "    </tr>\n",
              "  </tbody>\n",
              "</table>\n",
              "</div>\n",
              "      <button class=\"colab-df-convert\" onclick=\"convertToInteractive('df-4bbdb6fc-6029-454c-bc57-ad27498ab7f3')\"\n",
              "              title=\"Convert this dataframe to an interactive table.\"\n",
              "              style=\"display:none;\">\n",
              "        \n",
              "  <svg xmlns=\"http://www.w3.org/2000/svg\" height=\"24px\"viewBox=\"0 0 24 24\"\n",
              "       width=\"24px\">\n",
              "    <path d=\"M0 0h24v24H0V0z\" fill=\"none\"/>\n",
              "    <path d=\"M18.56 5.44l.94 2.06.94-2.06 2.06-.94-2.06-.94-.94-2.06-.94 2.06-2.06.94zm-11 1L8.5 8.5l.94-2.06 2.06-.94-2.06-.94L8.5 2.5l-.94 2.06-2.06.94zm10 10l.94 2.06.94-2.06 2.06-.94-2.06-.94-.94-2.06-.94 2.06-2.06.94z\"/><path d=\"M17.41 7.96l-1.37-1.37c-.4-.4-.92-.59-1.43-.59-.52 0-1.04.2-1.43.59L10.3 9.45l-7.72 7.72c-.78.78-.78 2.05 0 2.83L4 21.41c.39.39.9.59 1.41.59.51 0 1.02-.2 1.41-.59l7.78-7.78 2.81-2.81c.8-.78.8-2.07 0-2.86zM5.41 20L4 18.59l7.72-7.72 1.47 1.35L5.41 20z\"/>\n",
              "  </svg>\n",
              "      </button>\n",
              "      \n",
              "  <style>\n",
              "    .colab-df-container {\n",
              "      display:flex;\n",
              "      flex-wrap:wrap;\n",
              "      gap: 12px;\n",
              "    }\n",
              "\n",
              "    .colab-df-convert {\n",
              "      background-color: #E8F0FE;\n",
              "      border: none;\n",
              "      border-radius: 50%;\n",
              "      cursor: pointer;\n",
              "      display: none;\n",
              "      fill: #1967D2;\n",
              "      height: 32px;\n",
              "      padding: 0 0 0 0;\n",
              "      width: 32px;\n",
              "    }\n",
              "\n",
              "    .colab-df-convert:hover {\n",
              "      background-color: #E2EBFA;\n",
              "      box-shadow: 0px 1px 2px rgba(60, 64, 67, 0.3), 0px 1px 3px 1px rgba(60, 64, 67, 0.15);\n",
              "      fill: #174EA6;\n",
              "    }\n",
              "\n",
              "    [theme=dark] .colab-df-convert {\n",
              "      background-color: #3B4455;\n",
              "      fill: #D2E3FC;\n",
              "    }\n",
              "\n",
              "    [theme=dark] .colab-df-convert:hover {\n",
              "      background-color: #434B5C;\n",
              "      box-shadow: 0px 1px 3px 1px rgba(0, 0, 0, 0.15);\n",
              "      filter: drop-shadow(0px 1px 2px rgba(0, 0, 0, 0.3));\n",
              "      fill: #FFFFFF;\n",
              "    }\n",
              "  </style>\n",
              "\n",
              "      <script>\n",
              "        const buttonEl =\n",
              "          document.querySelector('#df-4bbdb6fc-6029-454c-bc57-ad27498ab7f3 button.colab-df-convert');\n",
              "        buttonEl.style.display =\n",
              "          google.colab.kernel.accessAllowed ? 'block' : 'none';\n",
              "\n",
              "        async function convertToInteractive(key) {\n",
              "          const element = document.querySelector('#df-4bbdb6fc-6029-454c-bc57-ad27498ab7f3');\n",
              "          const dataTable =\n",
              "            await google.colab.kernel.invokeFunction('convertToInteractive',\n",
              "                                                     [key], {});\n",
              "          if (!dataTable) return;\n",
              "\n",
              "          const docLinkHtml = 'Like what you see? Visit the ' +\n",
              "            '<a target=\"_blank\" href=https://colab.research.google.com/notebooks/data_table.ipynb>data table notebook</a>'\n",
              "            + ' to learn more about interactive tables.';\n",
              "          element.innerHTML = '';\n",
              "          dataTable['output_type'] = 'display_data';\n",
              "          await google.colab.output.renderOutput(dataTable, element);\n",
              "          const docLink = document.createElement('div');\n",
              "          docLink.innerHTML = docLinkHtml;\n",
              "          element.appendChild(docLink);\n",
              "        }\n",
              "      </script>\n",
              "    </div>\n",
              "  </div>\n",
              "  "
            ]
          },
          "metadata": {},
          "execution_count": 91
        }
      ]
    },
    {
      "cell_type": "code",
      "source": [
        "dfalumnos['Berni']"
      ],
      "metadata": {
        "colab": {
          "base_uri": "https://localhost:8080/"
        },
        "id": "xZi15G3Sg5K9",
        "outputId": "9968bb01-0659-45dd-89d8-1163cbeaf18c"
      },
      "execution_count": null,
      "outputs": [
        {
          "output_type": "execute_result",
          "data": {
            "text/plain": [
              "Edad            20\n",
              "Altura        1.88\n",
              "Hermanos         3\n",
              "Signo       piscis\n",
              "Name: Berni, dtype: object"
            ]
          },
          "metadata": {},
          "execution_count": 92
        }
      ]
    },
    {
      "cell_type": "code",
      "source": [
        "dfalumnos.iloc[0]"
      ],
      "metadata": {
        "colab": {
          "base_uri": "https://localhost:8080/"
        },
        "id": "T-jU03xVjAC5",
        "outputId": "5e2a890b-9aa3-4f96-e0f1-605e50b76470"
      },
      "execution_count": null,
      "outputs": [
        {
          "output_type": "execute_result",
          "data": {
            "text/plain": [
              "Berni    20\n",
              "Andy     18\n",
              "Des      21\n",
              "Name: Edad, dtype: object"
            ]
          },
          "metadata": {},
          "execution_count": 93
        }
      ]
    },
    {
      "cell_type": "code",
      "source": [
        "dfalumnos.iloc[0].min()"
      ],
      "metadata": {
        "colab": {
          "base_uri": "https://localhost:8080/"
        },
        "id": "tiRaYIMmjp3i",
        "outputId": "2205bd74-ba41-462d-e76d-648a05fd1dda"
      },
      "execution_count": null,
      "outputs": [
        {
          "output_type": "execute_result",
          "data": {
            "text/plain": [
              "18"
            ]
          },
          "metadata": {},
          "execution_count": 94
        }
      ]
    },
    {
      "cell_type": "code",
      "source": [
        "dfalumnos.iloc[0].mean()"
      ],
      "metadata": {
        "colab": {
          "base_uri": "https://localhost:8080/"
        },
        "id": "Ppiwhp9nkXSY",
        "outputId": "ab568a66-9b18-495e-e860-79e804f2e361"
      },
      "execution_count": null,
      "outputs": [
        {
          "output_type": "execute_result",
          "data": {
            "text/plain": [
              "19.666666666666668"
            ]
          },
          "metadata": {},
          "execution_count": 95
        }
      ]
    },
    {
      "cell_type": "code",
      "source": [
        "dfalumnos.iloc[1].mean()"
      ],
      "metadata": {
        "colab": {
          "base_uri": "https://localhost:8080/"
        },
        "id": "YCqH47d-kkDG",
        "outputId": "337030f4-dba8-431b-c53e-44c36f6734cf"
      },
      "execution_count": null,
      "outputs": [
        {
          "output_type": "execute_result",
          "data": {
            "text/plain": [
              "1.8033333333333335"
            ]
          },
          "metadata": {},
          "execution_count": 96
        }
      ]
    },
    {
      "cell_type": "code",
      "source": [
        "dfalumnos.describe()"
      ],
      "metadata": {
        "colab": {
          "base_uri": "https://localhost:8080/",
          "height": 196
        },
        "id": "IcIRhudhk8o2",
        "outputId": "8b42ea8f-1867-405a-b000-8e51a4767249"
      },
      "execution_count": null,
      "outputs": [
        {
          "output_type": "execute_result",
          "data": {
            "text/plain": [
              "        Berni  Andy  Des\n",
              "count       4     4    4\n",
              "unique      4     4    4\n",
              "top        20    18   21\n",
              "freq        1     1    1"
            ],
            "text/html": [
              "\n",
              "  <div id=\"df-20192a77-9de3-423f-aef7-670e43ab8f85\">\n",
              "    <div class=\"colab-df-container\">\n",
              "      <div>\n",
              "<style scoped>\n",
              "    .dataframe tbody tr th:only-of-type {\n",
              "        vertical-align: middle;\n",
              "    }\n",
              "\n",
              "    .dataframe tbody tr th {\n",
              "        vertical-align: top;\n",
              "    }\n",
              "\n",
              "    .dataframe thead th {\n",
              "        text-align: right;\n",
              "    }\n",
              "</style>\n",
              "<table border=\"1\" class=\"dataframe\">\n",
              "  <thead>\n",
              "    <tr style=\"text-align: right;\">\n",
              "      <th></th>\n",
              "      <th>Berni</th>\n",
              "      <th>Andy</th>\n",
              "      <th>Des</th>\n",
              "    </tr>\n",
              "  </thead>\n",
              "  <tbody>\n",
              "    <tr>\n",
              "      <th>count</th>\n",
              "      <td>4</td>\n",
              "      <td>4</td>\n",
              "      <td>4</td>\n",
              "    </tr>\n",
              "    <tr>\n",
              "      <th>unique</th>\n",
              "      <td>4</td>\n",
              "      <td>4</td>\n",
              "      <td>4</td>\n",
              "    </tr>\n",
              "    <tr>\n",
              "      <th>top</th>\n",
              "      <td>20</td>\n",
              "      <td>18</td>\n",
              "      <td>21</td>\n",
              "    </tr>\n",
              "    <tr>\n",
              "      <th>freq</th>\n",
              "      <td>1</td>\n",
              "      <td>1</td>\n",
              "      <td>1</td>\n",
              "    </tr>\n",
              "  </tbody>\n",
              "</table>\n",
              "</div>\n",
              "      <button class=\"colab-df-convert\" onclick=\"convertToInteractive('df-20192a77-9de3-423f-aef7-670e43ab8f85')\"\n",
              "              title=\"Convert this dataframe to an interactive table.\"\n",
              "              style=\"display:none;\">\n",
              "        \n",
              "  <svg xmlns=\"http://www.w3.org/2000/svg\" height=\"24px\"viewBox=\"0 0 24 24\"\n",
              "       width=\"24px\">\n",
              "    <path d=\"M0 0h24v24H0V0z\" fill=\"none\"/>\n",
              "    <path d=\"M18.56 5.44l.94 2.06.94-2.06 2.06-.94-2.06-.94-.94-2.06-.94 2.06-2.06.94zm-11 1L8.5 8.5l.94-2.06 2.06-.94-2.06-.94L8.5 2.5l-.94 2.06-2.06.94zm10 10l.94 2.06.94-2.06 2.06-.94-2.06-.94-.94-2.06-.94 2.06-2.06.94z\"/><path d=\"M17.41 7.96l-1.37-1.37c-.4-.4-.92-.59-1.43-.59-.52 0-1.04.2-1.43.59L10.3 9.45l-7.72 7.72c-.78.78-.78 2.05 0 2.83L4 21.41c.39.39.9.59 1.41.59.51 0 1.02-.2 1.41-.59l7.78-7.78 2.81-2.81c.8-.78.8-2.07 0-2.86zM5.41 20L4 18.59l7.72-7.72 1.47 1.35L5.41 20z\"/>\n",
              "  </svg>\n",
              "      </button>\n",
              "      \n",
              "  <style>\n",
              "    .colab-df-container {\n",
              "      display:flex;\n",
              "      flex-wrap:wrap;\n",
              "      gap: 12px;\n",
              "    }\n",
              "\n",
              "    .colab-df-convert {\n",
              "      background-color: #E8F0FE;\n",
              "      border: none;\n",
              "      border-radius: 50%;\n",
              "      cursor: pointer;\n",
              "      display: none;\n",
              "      fill: #1967D2;\n",
              "      height: 32px;\n",
              "      padding: 0 0 0 0;\n",
              "      width: 32px;\n",
              "    }\n",
              "\n",
              "    .colab-df-convert:hover {\n",
              "      background-color: #E2EBFA;\n",
              "      box-shadow: 0px 1px 2px rgba(60, 64, 67, 0.3), 0px 1px 3px 1px rgba(60, 64, 67, 0.15);\n",
              "      fill: #174EA6;\n",
              "    }\n",
              "\n",
              "    [theme=dark] .colab-df-convert {\n",
              "      background-color: #3B4455;\n",
              "      fill: #D2E3FC;\n",
              "    }\n",
              "\n",
              "    [theme=dark] .colab-df-convert:hover {\n",
              "      background-color: #434B5C;\n",
              "      box-shadow: 0px 1px 3px 1px rgba(0, 0, 0, 0.15);\n",
              "      filter: drop-shadow(0px 1px 2px rgba(0, 0, 0, 0.3));\n",
              "      fill: #FFFFFF;\n",
              "    }\n",
              "  </style>\n",
              "\n",
              "      <script>\n",
              "        const buttonEl =\n",
              "          document.querySelector('#df-20192a77-9de3-423f-aef7-670e43ab8f85 button.colab-df-convert');\n",
              "        buttonEl.style.display =\n",
              "          google.colab.kernel.accessAllowed ? 'block' : 'none';\n",
              "\n",
              "        async function convertToInteractive(key) {\n",
              "          const element = document.querySelector('#df-20192a77-9de3-423f-aef7-670e43ab8f85');\n",
              "          const dataTable =\n",
              "            await google.colab.kernel.invokeFunction('convertToInteractive',\n",
              "                                                     [key], {});\n",
              "          if (!dataTable) return;\n",
              "\n",
              "          const docLinkHtml = 'Like what you see? Visit the ' +\n",
              "            '<a target=\"_blank\" href=https://colab.research.google.com/notebooks/data_table.ipynb>data table notebook</a>'\n",
              "            + ' to learn more about interactive tables.';\n",
              "          element.innerHTML = '';\n",
              "          dataTable['output_type'] = 'display_data';\n",
              "          await google.colab.output.renderOutput(dataTable, element);\n",
              "          const docLink = document.createElement('div');\n",
              "          docLink.innerHTML = docLinkHtml;\n",
              "          element.appendChild(docLink);\n",
              "        }\n",
              "      </script>\n",
              "    </div>\n",
              "  </div>\n",
              "  "
            ]
          },
          "metadata": {},
          "execution_count": 97
        }
      ]
    },
    {
      "cell_type": "code",
      "source": [
        "dfalumnos.iloc[0:3]"
      ],
      "metadata": {
        "colab": {
          "base_uri": "https://localhost:8080/",
          "height": 164
        },
        "id": "dRd8AEJnlK0d",
        "outputId": "917e4b4a-94af-4732-8e2c-123a73dc93c9"
      },
      "execution_count": null,
      "outputs": [
        {
          "output_type": "execute_result",
          "data": {
            "text/plain": [
              "         Berni Andy   Des\n",
              "Edad        20   18    21\n",
              "Altura    1.88  1.7  1.83\n",
              "Hermanos     3    1     1"
            ],
            "text/html": [
              "\n",
              "  <div id=\"df-b0c32a6d-fa6a-45e7-8c05-32c4e7f87e74\">\n",
              "    <div class=\"colab-df-container\">\n",
              "      <div>\n",
              "<style scoped>\n",
              "    .dataframe tbody tr th:only-of-type {\n",
              "        vertical-align: middle;\n",
              "    }\n",
              "\n",
              "    .dataframe tbody tr th {\n",
              "        vertical-align: top;\n",
              "    }\n",
              "\n",
              "    .dataframe thead th {\n",
              "        text-align: right;\n",
              "    }\n",
              "</style>\n",
              "<table border=\"1\" class=\"dataframe\">\n",
              "  <thead>\n",
              "    <tr style=\"text-align: right;\">\n",
              "      <th></th>\n",
              "      <th>Berni</th>\n",
              "      <th>Andy</th>\n",
              "      <th>Des</th>\n",
              "    </tr>\n",
              "  </thead>\n",
              "  <tbody>\n",
              "    <tr>\n",
              "      <th>Edad</th>\n",
              "      <td>20</td>\n",
              "      <td>18</td>\n",
              "      <td>21</td>\n",
              "    </tr>\n",
              "    <tr>\n",
              "      <th>Altura</th>\n",
              "      <td>1.88</td>\n",
              "      <td>1.7</td>\n",
              "      <td>1.83</td>\n",
              "    </tr>\n",
              "    <tr>\n",
              "      <th>Hermanos</th>\n",
              "      <td>3</td>\n",
              "      <td>1</td>\n",
              "      <td>1</td>\n",
              "    </tr>\n",
              "  </tbody>\n",
              "</table>\n",
              "</div>\n",
              "      <button class=\"colab-df-convert\" onclick=\"convertToInteractive('df-b0c32a6d-fa6a-45e7-8c05-32c4e7f87e74')\"\n",
              "              title=\"Convert this dataframe to an interactive table.\"\n",
              "              style=\"display:none;\">\n",
              "        \n",
              "  <svg xmlns=\"http://www.w3.org/2000/svg\" height=\"24px\"viewBox=\"0 0 24 24\"\n",
              "       width=\"24px\">\n",
              "    <path d=\"M0 0h24v24H0V0z\" fill=\"none\"/>\n",
              "    <path d=\"M18.56 5.44l.94 2.06.94-2.06 2.06-.94-2.06-.94-.94-2.06-.94 2.06-2.06.94zm-11 1L8.5 8.5l.94-2.06 2.06-.94-2.06-.94L8.5 2.5l-.94 2.06-2.06.94zm10 10l.94 2.06.94-2.06 2.06-.94-2.06-.94-.94-2.06-.94 2.06-2.06.94z\"/><path d=\"M17.41 7.96l-1.37-1.37c-.4-.4-.92-.59-1.43-.59-.52 0-1.04.2-1.43.59L10.3 9.45l-7.72 7.72c-.78.78-.78 2.05 0 2.83L4 21.41c.39.39.9.59 1.41.59.51 0 1.02-.2 1.41-.59l7.78-7.78 2.81-2.81c.8-.78.8-2.07 0-2.86zM5.41 20L4 18.59l7.72-7.72 1.47 1.35L5.41 20z\"/>\n",
              "  </svg>\n",
              "      </button>\n",
              "      \n",
              "  <style>\n",
              "    .colab-df-container {\n",
              "      display:flex;\n",
              "      flex-wrap:wrap;\n",
              "      gap: 12px;\n",
              "    }\n",
              "\n",
              "    .colab-df-convert {\n",
              "      background-color: #E8F0FE;\n",
              "      border: none;\n",
              "      border-radius: 50%;\n",
              "      cursor: pointer;\n",
              "      display: none;\n",
              "      fill: #1967D2;\n",
              "      height: 32px;\n",
              "      padding: 0 0 0 0;\n",
              "      width: 32px;\n",
              "    }\n",
              "\n",
              "    .colab-df-convert:hover {\n",
              "      background-color: #E2EBFA;\n",
              "      box-shadow: 0px 1px 2px rgba(60, 64, 67, 0.3), 0px 1px 3px 1px rgba(60, 64, 67, 0.15);\n",
              "      fill: #174EA6;\n",
              "    }\n",
              "\n",
              "    [theme=dark] .colab-df-convert {\n",
              "      background-color: #3B4455;\n",
              "      fill: #D2E3FC;\n",
              "    }\n",
              "\n",
              "    [theme=dark] .colab-df-convert:hover {\n",
              "      background-color: #434B5C;\n",
              "      box-shadow: 0px 1px 3px 1px rgba(0, 0, 0, 0.15);\n",
              "      filter: drop-shadow(0px 1px 2px rgba(0, 0, 0, 0.3));\n",
              "      fill: #FFFFFF;\n",
              "    }\n",
              "  </style>\n",
              "\n",
              "      <script>\n",
              "        const buttonEl =\n",
              "          document.querySelector('#df-b0c32a6d-fa6a-45e7-8c05-32c4e7f87e74 button.colab-df-convert');\n",
              "        buttonEl.style.display =\n",
              "          google.colab.kernel.accessAllowed ? 'block' : 'none';\n",
              "\n",
              "        async function convertToInteractive(key) {\n",
              "          const element = document.querySelector('#df-b0c32a6d-fa6a-45e7-8c05-32c4e7f87e74');\n",
              "          const dataTable =\n",
              "            await google.colab.kernel.invokeFunction('convertToInteractive',\n",
              "                                                     [key], {});\n",
              "          if (!dataTable) return;\n",
              "\n",
              "          const docLinkHtml = 'Like what you see? Visit the ' +\n",
              "            '<a target=\"_blank\" href=https://colab.research.google.com/notebooks/data_table.ipynb>data table notebook</a>'\n",
              "            + ' to learn more about interactive tables.';\n",
              "          element.innerHTML = '';\n",
              "          dataTable['output_type'] = 'display_data';\n",
              "          await google.colab.output.renderOutput(dataTable, element);\n",
              "          const docLink = document.createElement('div');\n",
              "          docLink.innerHTML = docLinkHtml;\n",
              "          element.appendChild(docLink);\n",
              "        }\n",
              "      </script>\n",
              "    </div>\n",
              "  </div>\n",
              "  "
            ]
          },
          "metadata": {},
          "execution_count": 98
        }
      ]
    },
    {
      "cell_type": "code",
      "source": [
        "alumnosdatos = dfalumnos.iloc[0:3]"
      ],
      "metadata": {
        "id": "eBPL8hPsmGSb"
      },
      "execution_count": null,
      "outputs": []
    },
    {
      "cell_type": "code",
      "source": [
        "alumnosdatos"
      ],
      "metadata": {
        "colab": {
          "base_uri": "https://localhost:8080/",
          "height": 164
        },
        "id": "tG1HB8Ihm7vh",
        "outputId": "c386a776-773c-48e7-9a31-1c264d6e55ef"
      },
      "execution_count": null,
      "outputs": [
        {
          "output_type": "execute_result",
          "data": {
            "text/plain": [
              "         Berni Andy   Des\n",
              "Edad        20   18    21\n",
              "Altura    1.88  1.7  1.83\n",
              "Hermanos     3    1     1"
            ],
            "text/html": [
              "\n",
              "  <div id=\"df-0123c372-450e-4c51-aa23-3fd2dd544379\">\n",
              "    <div class=\"colab-df-container\">\n",
              "      <div>\n",
              "<style scoped>\n",
              "    .dataframe tbody tr th:only-of-type {\n",
              "        vertical-align: middle;\n",
              "    }\n",
              "\n",
              "    .dataframe tbody tr th {\n",
              "        vertical-align: top;\n",
              "    }\n",
              "\n",
              "    .dataframe thead th {\n",
              "        text-align: right;\n",
              "    }\n",
              "</style>\n",
              "<table border=\"1\" class=\"dataframe\">\n",
              "  <thead>\n",
              "    <tr style=\"text-align: right;\">\n",
              "      <th></th>\n",
              "      <th>Berni</th>\n",
              "      <th>Andy</th>\n",
              "      <th>Des</th>\n",
              "    </tr>\n",
              "  </thead>\n",
              "  <tbody>\n",
              "    <tr>\n",
              "      <th>Edad</th>\n",
              "      <td>20</td>\n",
              "      <td>18</td>\n",
              "      <td>21</td>\n",
              "    </tr>\n",
              "    <tr>\n",
              "      <th>Altura</th>\n",
              "      <td>1.88</td>\n",
              "      <td>1.7</td>\n",
              "      <td>1.83</td>\n",
              "    </tr>\n",
              "    <tr>\n",
              "      <th>Hermanos</th>\n",
              "      <td>3</td>\n",
              "      <td>1</td>\n",
              "      <td>1</td>\n",
              "    </tr>\n",
              "  </tbody>\n",
              "</table>\n",
              "</div>\n",
              "      <button class=\"colab-df-convert\" onclick=\"convertToInteractive('df-0123c372-450e-4c51-aa23-3fd2dd544379')\"\n",
              "              title=\"Convert this dataframe to an interactive table.\"\n",
              "              style=\"display:none;\">\n",
              "        \n",
              "  <svg xmlns=\"http://www.w3.org/2000/svg\" height=\"24px\"viewBox=\"0 0 24 24\"\n",
              "       width=\"24px\">\n",
              "    <path d=\"M0 0h24v24H0V0z\" fill=\"none\"/>\n",
              "    <path d=\"M18.56 5.44l.94 2.06.94-2.06 2.06-.94-2.06-.94-.94-2.06-.94 2.06-2.06.94zm-11 1L8.5 8.5l.94-2.06 2.06-.94-2.06-.94L8.5 2.5l-.94 2.06-2.06.94zm10 10l.94 2.06.94-2.06 2.06-.94-2.06-.94-.94-2.06-.94 2.06-2.06.94z\"/><path d=\"M17.41 7.96l-1.37-1.37c-.4-.4-.92-.59-1.43-.59-.52 0-1.04.2-1.43.59L10.3 9.45l-7.72 7.72c-.78.78-.78 2.05 0 2.83L4 21.41c.39.39.9.59 1.41.59.51 0 1.02-.2 1.41-.59l7.78-7.78 2.81-2.81c.8-.78.8-2.07 0-2.86zM5.41 20L4 18.59l7.72-7.72 1.47 1.35L5.41 20z\"/>\n",
              "  </svg>\n",
              "      </button>\n",
              "      \n",
              "  <style>\n",
              "    .colab-df-container {\n",
              "      display:flex;\n",
              "      flex-wrap:wrap;\n",
              "      gap: 12px;\n",
              "    }\n",
              "\n",
              "    .colab-df-convert {\n",
              "      background-color: #E8F0FE;\n",
              "      border: none;\n",
              "      border-radius: 50%;\n",
              "      cursor: pointer;\n",
              "      display: none;\n",
              "      fill: #1967D2;\n",
              "      height: 32px;\n",
              "      padding: 0 0 0 0;\n",
              "      width: 32px;\n",
              "    }\n",
              "\n",
              "    .colab-df-convert:hover {\n",
              "      background-color: #E2EBFA;\n",
              "      box-shadow: 0px 1px 2px rgba(60, 64, 67, 0.3), 0px 1px 3px 1px rgba(60, 64, 67, 0.15);\n",
              "      fill: #174EA6;\n",
              "    }\n",
              "\n",
              "    [theme=dark] .colab-df-convert {\n",
              "      background-color: #3B4455;\n",
              "      fill: #D2E3FC;\n",
              "    }\n",
              "\n",
              "    [theme=dark] .colab-df-convert:hover {\n",
              "      background-color: #434B5C;\n",
              "      box-shadow: 0px 1px 3px 1px rgba(0, 0, 0, 0.15);\n",
              "      filter: drop-shadow(0px 1px 2px rgba(0, 0, 0, 0.3));\n",
              "      fill: #FFFFFF;\n",
              "    }\n",
              "  </style>\n",
              "\n",
              "      <script>\n",
              "        const buttonEl =\n",
              "          document.querySelector('#df-0123c372-450e-4c51-aa23-3fd2dd544379 button.colab-df-convert');\n",
              "        buttonEl.style.display =\n",
              "          google.colab.kernel.accessAllowed ? 'block' : 'none';\n",
              "\n",
              "        async function convertToInteractive(key) {\n",
              "          const element = document.querySelector('#df-0123c372-450e-4c51-aa23-3fd2dd544379');\n",
              "          const dataTable =\n",
              "            await google.colab.kernel.invokeFunction('convertToInteractive',\n",
              "                                                     [key], {});\n",
              "          if (!dataTable) return;\n",
              "\n",
              "          const docLinkHtml = 'Like what you see? Visit the ' +\n",
              "            '<a target=\"_blank\" href=https://colab.research.google.com/notebooks/data_table.ipynb>data table notebook</a>'\n",
              "            + ' to learn more about interactive tables.';\n",
              "          element.innerHTML = '';\n",
              "          dataTable['output_type'] = 'display_data';\n",
              "          await google.colab.output.renderOutput(dataTable, element);\n",
              "          const docLink = document.createElement('div');\n",
              "          docLink.innerHTML = docLinkHtml;\n",
              "          element.appendChild(docLink);\n",
              "        }\n",
              "      </script>\n",
              "    </div>\n",
              "  </div>\n",
              "  "
            ]
          },
          "metadata": {},
          "execution_count": 100
        }
      ]
    },
    {
      "cell_type": "code",
      "source": [
        "alumnosdatos.describe()"
      ],
      "metadata": {
        "colab": {
          "base_uri": "https://localhost:8080/",
          "height": 196
        },
        "id": "2tRmX58sm-YR",
        "outputId": "a79280c3-332e-4ea2-a40f-ed2ce0e2f363"
      },
      "execution_count": null,
      "outputs": [
        {
          "output_type": "execute_result",
          "data": {
            "text/plain": [
              "        Berni  Andy   Des\n",
              "count     3.0   3.0   3.0\n",
              "unique    3.0   3.0   3.0\n",
              "top      20.0  18.0  21.0\n",
              "freq      1.0   1.0   1.0"
            ],
            "text/html": [
              "\n",
              "  <div id=\"df-b9ee9eaf-ce31-49dc-9697-e6e17787c3df\">\n",
              "    <div class=\"colab-df-container\">\n",
              "      <div>\n",
              "<style scoped>\n",
              "    .dataframe tbody tr th:only-of-type {\n",
              "        vertical-align: middle;\n",
              "    }\n",
              "\n",
              "    .dataframe tbody tr th {\n",
              "        vertical-align: top;\n",
              "    }\n",
              "\n",
              "    .dataframe thead th {\n",
              "        text-align: right;\n",
              "    }\n",
              "</style>\n",
              "<table border=\"1\" class=\"dataframe\">\n",
              "  <thead>\n",
              "    <tr style=\"text-align: right;\">\n",
              "      <th></th>\n",
              "      <th>Berni</th>\n",
              "      <th>Andy</th>\n",
              "      <th>Des</th>\n",
              "    </tr>\n",
              "  </thead>\n",
              "  <tbody>\n",
              "    <tr>\n",
              "      <th>count</th>\n",
              "      <td>3.0</td>\n",
              "      <td>3.0</td>\n",
              "      <td>3.0</td>\n",
              "    </tr>\n",
              "    <tr>\n",
              "      <th>unique</th>\n",
              "      <td>3.0</td>\n",
              "      <td>3.0</td>\n",
              "      <td>3.0</td>\n",
              "    </tr>\n",
              "    <tr>\n",
              "      <th>top</th>\n",
              "      <td>20.0</td>\n",
              "      <td>18.0</td>\n",
              "      <td>21.0</td>\n",
              "    </tr>\n",
              "    <tr>\n",
              "      <th>freq</th>\n",
              "      <td>1.0</td>\n",
              "      <td>1.0</td>\n",
              "      <td>1.0</td>\n",
              "    </tr>\n",
              "  </tbody>\n",
              "</table>\n",
              "</div>\n",
              "      <button class=\"colab-df-convert\" onclick=\"convertToInteractive('df-b9ee9eaf-ce31-49dc-9697-e6e17787c3df')\"\n",
              "              title=\"Convert this dataframe to an interactive table.\"\n",
              "              style=\"display:none;\">\n",
              "        \n",
              "  <svg xmlns=\"http://www.w3.org/2000/svg\" height=\"24px\"viewBox=\"0 0 24 24\"\n",
              "       width=\"24px\">\n",
              "    <path d=\"M0 0h24v24H0V0z\" fill=\"none\"/>\n",
              "    <path d=\"M18.56 5.44l.94 2.06.94-2.06 2.06-.94-2.06-.94-.94-2.06-.94 2.06-2.06.94zm-11 1L8.5 8.5l.94-2.06 2.06-.94-2.06-.94L8.5 2.5l-.94 2.06-2.06.94zm10 10l.94 2.06.94-2.06 2.06-.94-2.06-.94-.94-2.06-.94 2.06-2.06.94z\"/><path d=\"M17.41 7.96l-1.37-1.37c-.4-.4-.92-.59-1.43-.59-.52 0-1.04.2-1.43.59L10.3 9.45l-7.72 7.72c-.78.78-.78 2.05 0 2.83L4 21.41c.39.39.9.59 1.41.59.51 0 1.02-.2 1.41-.59l7.78-7.78 2.81-2.81c.8-.78.8-2.07 0-2.86zM5.41 20L4 18.59l7.72-7.72 1.47 1.35L5.41 20z\"/>\n",
              "  </svg>\n",
              "      </button>\n",
              "      \n",
              "  <style>\n",
              "    .colab-df-container {\n",
              "      display:flex;\n",
              "      flex-wrap:wrap;\n",
              "      gap: 12px;\n",
              "    }\n",
              "\n",
              "    .colab-df-convert {\n",
              "      background-color: #E8F0FE;\n",
              "      border: none;\n",
              "      border-radius: 50%;\n",
              "      cursor: pointer;\n",
              "      display: none;\n",
              "      fill: #1967D2;\n",
              "      height: 32px;\n",
              "      padding: 0 0 0 0;\n",
              "      width: 32px;\n",
              "    }\n",
              "\n",
              "    .colab-df-convert:hover {\n",
              "      background-color: #E2EBFA;\n",
              "      box-shadow: 0px 1px 2px rgba(60, 64, 67, 0.3), 0px 1px 3px 1px rgba(60, 64, 67, 0.15);\n",
              "      fill: #174EA6;\n",
              "    }\n",
              "\n",
              "    [theme=dark] .colab-df-convert {\n",
              "      background-color: #3B4455;\n",
              "      fill: #D2E3FC;\n",
              "    }\n",
              "\n",
              "    [theme=dark] .colab-df-convert:hover {\n",
              "      background-color: #434B5C;\n",
              "      box-shadow: 0px 1px 3px 1px rgba(0, 0, 0, 0.15);\n",
              "      filter: drop-shadow(0px 1px 2px rgba(0, 0, 0, 0.3));\n",
              "      fill: #FFFFFF;\n",
              "    }\n",
              "  </style>\n",
              "\n",
              "      <script>\n",
              "        const buttonEl =\n",
              "          document.querySelector('#df-b9ee9eaf-ce31-49dc-9697-e6e17787c3df button.colab-df-convert');\n",
              "        buttonEl.style.display =\n",
              "          google.colab.kernel.accessAllowed ? 'block' : 'none';\n",
              "\n",
              "        async function convertToInteractive(key) {\n",
              "          const element = document.querySelector('#df-b9ee9eaf-ce31-49dc-9697-e6e17787c3df');\n",
              "          const dataTable =\n",
              "            await google.colab.kernel.invokeFunction('convertToInteractive',\n",
              "                                                     [key], {});\n",
              "          if (!dataTable) return;\n",
              "\n",
              "          const docLinkHtml = 'Like what you see? Visit the ' +\n",
              "            '<a target=\"_blank\" href=https://colab.research.google.com/notebooks/data_table.ipynb>data table notebook</a>'\n",
              "            + ' to learn more about interactive tables.';\n",
              "          element.innerHTML = '';\n",
              "          dataTable['output_type'] = 'display_data';\n",
              "          await google.colab.output.renderOutput(dataTable, element);\n",
              "          const docLink = document.createElement('div');\n",
              "          docLink.innerHTML = docLinkHtml;\n",
              "          element.appendChild(docLink);\n",
              "        }\n",
              "      </script>\n",
              "    </div>\n",
              "  </div>\n",
              "  "
            ]
          },
          "metadata": {},
          "execution_count": 101
        }
      ]
    },
    {
      "cell_type": "code",
      "source": [
        "dfalumnos.T[\"Edad\"]"
      ],
      "metadata": {
        "colab": {
          "base_uri": "https://localhost:8080/"
        },
        "id": "CQD63qejnA_I",
        "outputId": "c77d30f9-89ce-4a79-8a66-294e3d7b4541"
      },
      "execution_count": null,
      "outputs": [
        {
          "output_type": "execute_result",
          "data": {
            "text/plain": [
              "Berni    20\n",
              "Andy     18\n",
              "Des      21\n",
              "Name: Edad, dtype: object"
            ]
          },
          "metadata": {},
          "execution_count": 102
        }
      ]
    },
    {
      "cell_type": "code",
      "source": [],
      "metadata": {
        "id": "8xfchKGHoO10"
      },
      "execution_count": null,
      "outputs": []
    },
    {
      "cell_type": "code",
      "execution_count": null,
      "metadata": {
        "id": "9ejpN2jzyxOn"
      },
      "outputs": [],
      "source": [
        "import numpy as np"
      ]
    },
    {
      "cell_type": "code",
      "source": [
        "np.random.random()\n"
      ],
      "metadata": {
        "colab": {
          "base_uri": "https://localhost:8080/"
        },
        "id": "I1WYplkSy5q1",
        "outputId": "91097d3a-1528-4b5f-e47e-14493c8a07b5"
      },
      "execution_count": null,
      "outputs": [
        {
          "output_type": "execute_result",
          "data": {
            "text/plain": [
              "0.644402177512114"
            ]
          },
          "metadata": {},
          "execution_count": 104
        }
      ]
    },
    {
      "cell_type": "code",
      "source": [
        "np.random.randint(11)"
      ],
      "metadata": {
        "colab": {
          "base_uri": "https://localhost:8080/"
        },
        "id": "a6iO1Ymxzce7",
        "outputId": "53243735-10cc-436c-8c98-b2e0104838d8"
      },
      "execution_count": null,
      "outputs": [
        {
          "output_type": "execute_result",
          "data": {
            "text/plain": [
              "2"
            ]
          },
          "metadata": {},
          "execution_count": 105
        }
      ]
    },
    {
      "cell_type": "code",
      "source": [
        "enterosAleatorios = [ ]\n",
        "\n",
        "for x in range(1,11):\n",
        "  number= np.random.randint(11)\n",
        "  enterosAleatorios.append(number)\n",
        "\n",
        "\n",
        "enterosAleatorios"
      ],
      "metadata": {
        "colab": {
          "base_uri": "https://localhost:8080/"
        },
        "id": "5zWUaqorz_pC",
        "outputId": "f78276dc-3ea5-4ff6-b145-92944cb27cc0"
      },
      "execution_count": null,
      "outputs": [
        {
          "output_type": "execute_result",
          "data": {
            "text/plain": [
              "[6, 5, 7, 4, 1, 10, 7, 7, 5, 10]"
            ]
          },
          "metadata": {},
          "execution_count": 106
        }
      ]
    },
    {
      "cell_type": "code",
      "source": [
        "L1 = [1,2,3,4,5]\n",
        "L2 = [9,8,7,6,5]\n",
        "L1+L2"
      ],
      "metadata": {
        "colab": {
          "base_uri": "https://localhost:8080/"
        },
        "id": "urnTbHb53q_C",
        "outputId": "3d8252c5-6c76-4e72-ed4a-b86ef8dee5f3"
      },
      "execution_count": null,
      "outputs": [
        {
          "output_type": "execute_result",
          "data": {
            "text/plain": [
              "[1, 2, 3, 4, 5, 9, 8, 7, 6, 5]"
            ]
          },
          "metadata": {},
          "execution_count": 107
        }
      ]
    },
    {
      "cell_type": "code",
      "source": [
        "L1 = np.array([1,2,3,4,5])\n",
        "L2 = np.array([9,8,7,6,5])\n",
        "L1+L2"
      ],
      "metadata": {
        "colab": {
          "base_uri": "https://localhost:8080/"
        },
        "id": "oAFG9pzd1G_w",
        "outputId": "404d4dd4-8ef4-4827-cf1b-2ad35817e0f2"
      },
      "execution_count": null,
      "outputs": [
        {
          "output_type": "execute_result",
          "data": {
            "text/plain": [
              "array([10, 10, 10, 10, 10])"
            ]
          },
          "metadata": {},
          "execution_count": 108
        }
      ]
    },
    {
      "cell_type": "code",
      "source": [
        "len(enterosAleatorios)"
      ],
      "metadata": {
        "colab": {
          "base_uri": "https://localhost:8080/"
        },
        "id": "2im02N3J3o1E",
        "outputId": "099ccc48-a5c1-423e-8c28-48a57160a39c"
      },
      "execution_count": null,
      "outputs": [
        {
          "output_type": "execute_result",
          "data": {
            "text/plain": [
              "10"
            ]
          },
          "metadata": {},
          "execution_count": 109
        }
      ]
    },
    {
      "cell_type": "code",
      "source": [
        "enterosAleatoriosArreglo = np.array(enterosAleatorios)\n",
        "enterosAleatoriosArreglo"
      ],
      "metadata": {
        "colab": {
          "base_uri": "https://localhost:8080/"
        },
        "id": "VkC0k2Cb4HHi",
        "outputId": "e6b577b9-cbaa-4211-e5ad-0b786eda6f05"
      },
      "execution_count": null,
      "outputs": [
        {
          "output_type": "execute_result",
          "data": {
            "text/plain": [
              "array([ 6,  5,  7,  4,  1, 10,  7,  7,  5, 10])"
            ]
          },
          "metadata": {},
          "execution_count": 110
        }
      ]
    },
    {
      "cell_type": "code",
      "source": [
        "enterosAleatorios"
      ],
      "metadata": {
        "colab": {
          "base_uri": "https://localhost:8080/"
        },
        "id": "LhTVLoc24Nca",
        "outputId": "00cdd03c-5e7b-4ff7-d53f-40c7440e96f6"
      },
      "execution_count": null,
      "outputs": [
        {
          "output_type": "execute_result",
          "data": {
            "text/plain": [
              "[6, 5, 7, 4, 1, 10, 7, 7, 5, 10]"
            ]
          },
          "metadata": {},
          "execution_count": 111
        }
      ]
    },
    {
      "cell_type": "code",
      "source": [
        "# CREAMOS UNA MATRIZ DEL ARREGLO ANTERIOR\n",
        "\n",
        "matriz1 = enterosAleatoriosArreglo.reshape(5,2)\n",
        "matriz1"
      ],
      "metadata": {
        "colab": {
          "base_uri": "https://localhost:8080/"
        },
        "id": "VdT9Qz5R4dMx",
        "outputId": "4450b2bd-0857-4e32-e4c8-7742e8ab8f28"
      },
      "execution_count": null,
      "outputs": [
        {
          "output_type": "execute_result",
          "data": {
            "text/plain": [
              "array([[ 6,  5],\n",
              "       [ 7,  4],\n",
              "       [ 1, 10],\n",
              "       [ 7,  7],\n",
              "       [ 5, 10]])"
            ]
          },
          "metadata": {},
          "execution_count": 112
        }
      ]
    },
    {
      "cell_type": "code",
      "source": [
        "# CREAR UNA MATRIZ CUADRADA DE TAMAÑO 4X4 CUYOS ELEMENTOS SE ELIGAN AL AZAR ENTRE 1 Y 20\n",
        "\n",
        "lista = []\n",
        "for x in range(1,17):\n",
        "  i = np.random.randint(1,21)\n",
        "  lista.append(i)\n",
        "listaArray = np.array(lista)\n",
        "matriz4por4 = listaArray.reshape(4,4)\n",
        "matriz4por4 \n"
      ],
      "metadata": {
        "colab": {
          "base_uri": "https://localhost:8080/"
        },
        "id": "oHbBdxdP4rW-",
        "outputId": "e530b09e-cbd9-4c0e-cafd-92a5f0de902c"
      },
      "execution_count": null,
      "outputs": [
        {
          "output_type": "execute_result",
          "data": {
            "text/plain": [
              "array([[10,  7,  4,  7],\n",
              "       [ 6, 19,  8,  2],\n",
              "       [19,  3,  3,  6],\n",
              "       [ 9,  4, 18, 17]])"
            ]
          },
          "metadata": {},
          "execution_count": 113
        }
      ]
    },
    {
      "cell_type": "code",
      "source": [
        "np.linalg.det(matriz4por4)"
      ],
      "metadata": {
        "colab": {
          "base_uri": "https://localhost:8080/"
        },
        "id": "pfB8KCzT5VJS",
        "outputId": "432260e7-5e7b-4ecd-fa24-9c03c0cdcbe1"
      },
      "execution_count": null,
      "outputs": [
        {
          "output_type": "execute_result",
          "data": {
            "text/plain": [
              "18880.99999999999"
            ]
          },
          "metadata": {},
          "execution_count": 114
        }
      ]
    },
    {
      "cell_type": "code",
      "source": [
        "np.linalg.inv(matriz4por4)"
      ],
      "metadata": {
        "colab": {
          "base_uri": "https://localhost:8080/"
        },
        "id": "Qzcd6K6G7hIo",
        "outputId": "305e3e9d-bbd4-467f-c470-c303a612ef24"
      },
      "execution_count": null,
      "outputs": [
        {
          "output_type": "execute_result",
          "data": {
            "text/plain": [
              "array([[-0.06435041,  0.01128118,  0.08527091, -0.00492559],\n",
              "       [ 0.09872358,  0.02960648, -0.04851438, -0.02701128],\n",
              "       [-0.25692495,  0.06726339,  0.08119273,  0.06922303],\n",
              "       [ 0.28287697, -0.08415868, -0.11969705, -0.00550818]])"
            ]
          },
          "metadata": {},
          "execution_count": 115
        }
      ]
    },
    {
      "cell_type": "code",
      "source": [
        "lista = []\n",
        "for x in range(1,17):\n",
        "  i = np.random.randint(1,21)\n",
        "  lista.append(i)\n",
        "listaArray = np.array(lista)\n",
        "matriz3 = listaArray.reshape(2,8)\n",
        "matriz3 "
      ],
      "metadata": {
        "colab": {
          "base_uri": "https://localhost:8080/"
        },
        "id": "XW8-fWd07pkY",
        "outputId": "05038c21-b2bf-472d-cbe0-85fce497beb7"
      },
      "execution_count": null,
      "outputs": [
        {
          "output_type": "execute_result",
          "data": {
            "text/plain": [
              "array([[ 9, 13,  2,  5,  5, 19, 12, 10],\n",
              "       [19, 17, 14, 12, 11,  7,  2, 18]])"
            ]
          },
          "metadata": {},
          "execution_count": 116
        }
      ]
    },
    {
      "cell_type": "code",
      "source": [
        "np.matmul(matriz1, matriz3)"
      ],
      "metadata": {
        "colab": {
          "base_uri": "https://localhost:8080/"
        },
        "id": "17Ut8RUD8OP2",
        "outputId": "10b1a4bf-1570-45fb-a266-99ef77eecf80"
      },
      "execution_count": null,
      "outputs": [
        {
          "output_type": "execute_result",
          "data": {
            "text/plain": [
              "array([[149, 163,  82,  90,  85, 149,  82, 150],\n",
              "       [139, 159,  70,  83,  79, 161,  92, 142],\n",
              "       [199, 183, 142, 125, 115,  89,  32, 190],\n",
              "       [196, 210, 112, 119, 112, 182,  98, 196],\n",
              "       [235, 235, 150, 145, 135, 165,  80, 230]])"
            ]
          },
          "metadata": {},
          "execution_count": 117
        }
      ]
    },
    {
      "cell_type": "code",
      "source": [
        "# VAMOS A CREAR UNA MATRIZ CUYOS ELEMENTOS REGISTREN EL RESULTADO DE VOLADOS. 5 monedas justas\n",
        "import pandas as pd\n",
        "df50 = pd.DataFrame()\n",
        "\n",
        "for i in range(1,11):\n",
        "  volados = np.random.binomial(10,0.8, 10)\n",
        "  columna = f\"muestra {i}\"\n",
        "  df50[columna]=volados\n",
        "\n",
        "df50"
      ],
      "metadata": {
        "colab": {
          "base_uri": "https://localhost:8080/",
          "height": 386
        },
        "id": "mbKOMZDI8fzr",
        "outputId": "7857f14b-1a09-49b5-990d-460e7c94c8c1"
      },
      "execution_count": null,
      "outputs": [
        {
          "output_type": "execute_result",
          "data": {
            "text/plain": [
              "   muestra 1  muestra 2  muestra 3  muestra 4  muestra 5  muestra 6  \\\n",
              "0         10          9          9          8          8          6   \n",
              "1          6          8          8          8          6          8   \n",
              "2          9         10          7          9          4          9   \n",
              "3          9          7          6          9          9          8   \n",
              "4          7          7          6          8          9          4   \n",
              "5          7          8          7          9          7          9   \n",
              "6          9         10          8         10          9          8   \n",
              "7          7         10          7          7          8          7   \n",
              "8          9          7          8          5          6          9   \n",
              "9          9          8          6          8         10         10   \n",
              "\n",
              "   muestra 7  muestra 8  muestra 9  muestra 10  \n",
              "0          8          9          8           9  \n",
              "1          9         10          7           7  \n",
              "2          9          7          7           9  \n",
              "3          8          9          7           8  \n",
              "4          8         10          7           9  \n",
              "5          9          8         10           9  \n",
              "6          7          9          9           8  \n",
              "7          9          8          7           8  \n",
              "8          7          5          7          10  \n",
              "9          9          8         10           6  "
            ],
            "text/html": [
              "\n",
              "  <div id=\"df-9c5a0bc4-3653-486d-93f7-793c7e0a2c71\">\n",
              "    <div class=\"colab-df-container\">\n",
              "      <div>\n",
              "<style scoped>\n",
              "    .dataframe tbody tr th:only-of-type {\n",
              "        vertical-align: middle;\n",
              "    }\n",
              "\n",
              "    .dataframe tbody tr th {\n",
              "        vertical-align: top;\n",
              "    }\n",
              "\n",
              "    .dataframe thead th {\n",
              "        text-align: right;\n",
              "    }\n",
              "</style>\n",
              "<table border=\"1\" class=\"dataframe\">\n",
              "  <thead>\n",
              "    <tr style=\"text-align: right;\">\n",
              "      <th></th>\n",
              "      <th>muestra 1</th>\n",
              "      <th>muestra 2</th>\n",
              "      <th>muestra 3</th>\n",
              "      <th>muestra 4</th>\n",
              "      <th>muestra 5</th>\n",
              "      <th>muestra 6</th>\n",
              "      <th>muestra 7</th>\n",
              "      <th>muestra 8</th>\n",
              "      <th>muestra 9</th>\n",
              "      <th>muestra 10</th>\n",
              "    </tr>\n",
              "  </thead>\n",
              "  <tbody>\n",
              "    <tr>\n",
              "      <th>0</th>\n",
              "      <td>10</td>\n",
              "      <td>9</td>\n",
              "      <td>9</td>\n",
              "      <td>8</td>\n",
              "      <td>8</td>\n",
              "      <td>6</td>\n",
              "      <td>8</td>\n",
              "      <td>9</td>\n",
              "      <td>8</td>\n",
              "      <td>9</td>\n",
              "    </tr>\n",
              "    <tr>\n",
              "      <th>1</th>\n",
              "      <td>6</td>\n",
              "      <td>8</td>\n",
              "      <td>8</td>\n",
              "      <td>8</td>\n",
              "      <td>6</td>\n",
              "      <td>8</td>\n",
              "      <td>9</td>\n",
              "      <td>10</td>\n",
              "      <td>7</td>\n",
              "      <td>7</td>\n",
              "    </tr>\n",
              "    <tr>\n",
              "      <th>2</th>\n",
              "      <td>9</td>\n",
              "      <td>10</td>\n",
              "      <td>7</td>\n",
              "      <td>9</td>\n",
              "      <td>4</td>\n",
              "      <td>9</td>\n",
              "      <td>9</td>\n",
              "      <td>7</td>\n",
              "      <td>7</td>\n",
              "      <td>9</td>\n",
              "    </tr>\n",
              "    <tr>\n",
              "      <th>3</th>\n",
              "      <td>9</td>\n",
              "      <td>7</td>\n",
              "      <td>6</td>\n",
              "      <td>9</td>\n",
              "      <td>9</td>\n",
              "      <td>8</td>\n",
              "      <td>8</td>\n",
              "      <td>9</td>\n",
              "      <td>7</td>\n",
              "      <td>8</td>\n",
              "    </tr>\n",
              "    <tr>\n",
              "      <th>4</th>\n",
              "      <td>7</td>\n",
              "      <td>7</td>\n",
              "      <td>6</td>\n",
              "      <td>8</td>\n",
              "      <td>9</td>\n",
              "      <td>4</td>\n",
              "      <td>8</td>\n",
              "      <td>10</td>\n",
              "      <td>7</td>\n",
              "      <td>9</td>\n",
              "    </tr>\n",
              "    <tr>\n",
              "      <th>5</th>\n",
              "      <td>7</td>\n",
              "      <td>8</td>\n",
              "      <td>7</td>\n",
              "      <td>9</td>\n",
              "      <td>7</td>\n",
              "      <td>9</td>\n",
              "      <td>9</td>\n",
              "      <td>8</td>\n",
              "      <td>10</td>\n",
              "      <td>9</td>\n",
              "    </tr>\n",
              "    <tr>\n",
              "      <th>6</th>\n",
              "      <td>9</td>\n",
              "      <td>10</td>\n",
              "      <td>8</td>\n",
              "      <td>10</td>\n",
              "      <td>9</td>\n",
              "      <td>8</td>\n",
              "      <td>7</td>\n",
              "      <td>9</td>\n",
              "      <td>9</td>\n",
              "      <td>8</td>\n",
              "    </tr>\n",
              "    <tr>\n",
              "      <th>7</th>\n",
              "      <td>7</td>\n",
              "      <td>10</td>\n",
              "      <td>7</td>\n",
              "      <td>7</td>\n",
              "      <td>8</td>\n",
              "      <td>7</td>\n",
              "      <td>9</td>\n",
              "      <td>8</td>\n",
              "      <td>7</td>\n",
              "      <td>8</td>\n",
              "    </tr>\n",
              "    <tr>\n",
              "      <th>8</th>\n",
              "      <td>9</td>\n",
              "      <td>7</td>\n",
              "      <td>8</td>\n",
              "      <td>5</td>\n",
              "      <td>6</td>\n",
              "      <td>9</td>\n",
              "      <td>7</td>\n",
              "      <td>5</td>\n",
              "      <td>7</td>\n",
              "      <td>10</td>\n",
              "    </tr>\n",
              "    <tr>\n",
              "      <th>9</th>\n",
              "      <td>9</td>\n",
              "      <td>8</td>\n",
              "      <td>6</td>\n",
              "      <td>8</td>\n",
              "      <td>10</td>\n",
              "      <td>10</td>\n",
              "      <td>9</td>\n",
              "      <td>8</td>\n",
              "      <td>10</td>\n",
              "      <td>6</td>\n",
              "    </tr>\n",
              "  </tbody>\n",
              "</table>\n",
              "</div>\n",
              "      <button class=\"colab-df-convert\" onclick=\"convertToInteractive('df-9c5a0bc4-3653-486d-93f7-793c7e0a2c71')\"\n",
              "              title=\"Convert this dataframe to an interactive table.\"\n",
              "              style=\"display:none;\">\n",
              "        \n",
              "  <svg xmlns=\"http://www.w3.org/2000/svg\" height=\"24px\"viewBox=\"0 0 24 24\"\n",
              "       width=\"24px\">\n",
              "    <path d=\"M0 0h24v24H0V0z\" fill=\"none\"/>\n",
              "    <path d=\"M18.56 5.44l.94 2.06.94-2.06 2.06-.94-2.06-.94-.94-2.06-.94 2.06-2.06.94zm-11 1L8.5 8.5l.94-2.06 2.06-.94-2.06-.94L8.5 2.5l-.94 2.06-2.06.94zm10 10l.94 2.06.94-2.06 2.06-.94-2.06-.94-.94-2.06-.94 2.06-2.06.94z\"/><path d=\"M17.41 7.96l-1.37-1.37c-.4-.4-.92-.59-1.43-.59-.52 0-1.04.2-1.43.59L10.3 9.45l-7.72 7.72c-.78.78-.78 2.05 0 2.83L4 21.41c.39.39.9.59 1.41.59.51 0 1.02-.2 1.41-.59l7.78-7.78 2.81-2.81c.8-.78.8-2.07 0-2.86zM5.41 20L4 18.59l7.72-7.72 1.47 1.35L5.41 20z\"/>\n",
              "  </svg>\n",
              "      </button>\n",
              "      \n",
              "  <style>\n",
              "    .colab-df-container {\n",
              "      display:flex;\n",
              "      flex-wrap:wrap;\n",
              "      gap: 12px;\n",
              "    }\n",
              "\n",
              "    .colab-df-convert {\n",
              "      background-color: #E8F0FE;\n",
              "      border: none;\n",
              "      border-radius: 50%;\n",
              "      cursor: pointer;\n",
              "      display: none;\n",
              "      fill: #1967D2;\n",
              "      height: 32px;\n",
              "      padding: 0 0 0 0;\n",
              "      width: 32px;\n",
              "    }\n",
              "\n",
              "    .colab-df-convert:hover {\n",
              "      background-color: #E2EBFA;\n",
              "      box-shadow: 0px 1px 2px rgba(60, 64, 67, 0.3), 0px 1px 3px 1px rgba(60, 64, 67, 0.15);\n",
              "      fill: #174EA6;\n",
              "    }\n",
              "\n",
              "    [theme=dark] .colab-df-convert {\n",
              "      background-color: #3B4455;\n",
              "      fill: #D2E3FC;\n",
              "    }\n",
              "\n",
              "    [theme=dark] .colab-df-convert:hover {\n",
              "      background-color: #434B5C;\n",
              "      box-shadow: 0px 1px 3px 1px rgba(0, 0, 0, 0.15);\n",
              "      filter: drop-shadow(0px 1px 2px rgba(0, 0, 0, 0.3));\n",
              "      fill: #FFFFFF;\n",
              "    }\n",
              "  </style>\n",
              "\n",
              "      <script>\n",
              "        const buttonEl =\n",
              "          document.querySelector('#df-9c5a0bc4-3653-486d-93f7-793c7e0a2c71 button.colab-df-convert');\n",
              "        buttonEl.style.display =\n",
              "          google.colab.kernel.accessAllowed ? 'block' : 'none';\n",
              "\n",
              "        async function convertToInteractive(key) {\n",
              "          const element = document.querySelector('#df-9c5a0bc4-3653-486d-93f7-793c7e0a2c71');\n",
              "          const dataTable =\n",
              "            await google.colab.kernel.invokeFunction('convertToInteractive',\n",
              "                                                     [key], {});\n",
              "          if (!dataTable) return;\n",
              "\n",
              "          const docLinkHtml = 'Like what you see? Visit the ' +\n",
              "            '<a target=\"_blank\" href=https://colab.research.google.com/notebooks/data_table.ipynb>data table notebook</a>'\n",
              "            + ' to learn more about interactive tables.';\n",
              "          element.innerHTML = '';\n",
              "          dataTable['output_type'] = 'display_data';\n",
              "          await google.colab.output.renderOutput(dataTable, element);\n",
              "          const docLink = document.createElement('div');\n",
              "          docLink.innerHTML = docLinkHtml;\n",
              "          element.appendChild(docLink);\n",
              "        }\n",
              "      </script>\n",
              "    </div>\n",
              "  </div>\n",
              "  "
            ]
          },
          "metadata": {},
          "execution_count": 118
        }
      ]
    },
    {
      "cell_type": "code",
      "source": [
        "df50medias = pd.DataFrame(df50.mean(), columns = [\"muestra de medias\"])\n",
        "df50medias\n"
      ],
      "metadata": {
        "id": "f19Sq5mjAr2e",
        "colab": {
          "base_uri": "https://localhost:8080/",
          "height": 386
        },
        "outputId": "403d038e-329c-415a-82e8-fcc5c8ccb619"
      },
      "execution_count": null,
      "outputs": [
        {
          "output_type": "execute_result",
          "data": {
            "text/plain": [
              "            muestra de medias\n",
              "muestra 1                 8.2\n",
              "muestra 2                 8.4\n",
              "muestra 3                 7.2\n",
              "muestra 4                 8.1\n",
              "muestra 5                 7.6\n",
              "muestra 6                 7.8\n",
              "muestra 7                 8.3\n",
              "muestra 8                 8.3\n",
              "muestra 9                 7.9\n",
              "muestra 10                8.3"
            ],
            "text/html": [
              "\n",
              "  <div id=\"df-165fed22-192c-4147-af55-bee929bf0eae\">\n",
              "    <div class=\"colab-df-container\">\n",
              "      <div>\n",
              "<style scoped>\n",
              "    .dataframe tbody tr th:only-of-type {\n",
              "        vertical-align: middle;\n",
              "    }\n",
              "\n",
              "    .dataframe tbody tr th {\n",
              "        vertical-align: top;\n",
              "    }\n",
              "\n",
              "    .dataframe thead th {\n",
              "        text-align: right;\n",
              "    }\n",
              "</style>\n",
              "<table border=\"1\" class=\"dataframe\">\n",
              "  <thead>\n",
              "    <tr style=\"text-align: right;\">\n",
              "      <th></th>\n",
              "      <th>muestra de medias</th>\n",
              "    </tr>\n",
              "  </thead>\n",
              "  <tbody>\n",
              "    <tr>\n",
              "      <th>muestra 1</th>\n",
              "      <td>8.2</td>\n",
              "    </tr>\n",
              "    <tr>\n",
              "      <th>muestra 2</th>\n",
              "      <td>8.4</td>\n",
              "    </tr>\n",
              "    <tr>\n",
              "      <th>muestra 3</th>\n",
              "      <td>7.2</td>\n",
              "    </tr>\n",
              "    <tr>\n",
              "      <th>muestra 4</th>\n",
              "      <td>8.1</td>\n",
              "    </tr>\n",
              "    <tr>\n",
              "      <th>muestra 5</th>\n",
              "      <td>7.6</td>\n",
              "    </tr>\n",
              "    <tr>\n",
              "      <th>muestra 6</th>\n",
              "      <td>7.8</td>\n",
              "    </tr>\n",
              "    <tr>\n",
              "      <th>muestra 7</th>\n",
              "      <td>8.3</td>\n",
              "    </tr>\n",
              "    <tr>\n",
              "      <th>muestra 8</th>\n",
              "      <td>8.3</td>\n",
              "    </tr>\n",
              "    <tr>\n",
              "      <th>muestra 9</th>\n",
              "      <td>7.9</td>\n",
              "    </tr>\n",
              "    <tr>\n",
              "      <th>muestra 10</th>\n",
              "      <td>8.3</td>\n",
              "    </tr>\n",
              "  </tbody>\n",
              "</table>\n",
              "</div>\n",
              "      <button class=\"colab-df-convert\" onclick=\"convertToInteractive('df-165fed22-192c-4147-af55-bee929bf0eae')\"\n",
              "              title=\"Convert this dataframe to an interactive table.\"\n",
              "              style=\"display:none;\">\n",
              "        \n",
              "  <svg xmlns=\"http://www.w3.org/2000/svg\" height=\"24px\"viewBox=\"0 0 24 24\"\n",
              "       width=\"24px\">\n",
              "    <path d=\"M0 0h24v24H0V0z\" fill=\"none\"/>\n",
              "    <path d=\"M18.56 5.44l.94 2.06.94-2.06 2.06-.94-2.06-.94-.94-2.06-.94 2.06-2.06.94zm-11 1L8.5 8.5l.94-2.06 2.06-.94-2.06-.94L8.5 2.5l-.94 2.06-2.06.94zm10 10l.94 2.06.94-2.06 2.06-.94-2.06-.94-.94-2.06-.94 2.06-2.06.94z\"/><path d=\"M17.41 7.96l-1.37-1.37c-.4-.4-.92-.59-1.43-.59-.52 0-1.04.2-1.43.59L10.3 9.45l-7.72 7.72c-.78.78-.78 2.05 0 2.83L4 21.41c.39.39.9.59 1.41.59.51 0 1.02-.2 1.41-.59l7.78-7.78 2.81-2.81c.8-.78.8-2.07 0-2.86zM5.41 20L4 18.59l7.72-7.72 1.47 1.35L5.41 20z\"/>\n",
              "  </svg>\n",
              "      </button>\n",
              "      \n",
              "  <style>\n",
              "    .colab-df-container {\n",
              "      display:flex;\n",
              "      flex-wrap:wrap;\n",
              "      gap: 12px;\n",
              "    }\n",
              "\n",
              "    .colab-df-convert {\n",
              "      background-color: #E8F0FE;\n",
              "      border: none;\n",
              "      border-radius: 50%;\n",
              "      cursor: pointer;\n",
              "      display: none;\n",
              "      fill: #1967D2;\n",
              "      height: 32px;\n",
              "      padding: 0 0 0 0;\n",
              "      width: 32px;\n",
              "    }\n",
              "\n",
              "    .colab-df-convert:hover {\n",
              "      background-color: #E2EBFA;\n",
              "      box-shadow: 0px 1px 2px rgba(60, 64, 67, 0.3), 0px 1px 3px 1px rgba(60, 64, 67, 0.15);\n",
              "      fill: #174EA6;\n",
              "    }\n",
              "\n",
              "    [theme=dark] .colab-df-convert {\n",
              "      background-color: #3B4455;\n",
              "      fill: #D2E3FC;\n",
              "    }\n",
              "\n",
              "    [theme=dark] .colab-df-convert:hover {\n",
              "      background-color: #434B5C;\n",
              "      box-shadow: 0px 1px 3px 1px rgba(0, 0, 0, 0.15);\n",
              "      filter: drop-shadow(0px 1px 2px rgba(0, 0, 0, 0.3));\n",
              "      fill: #FFFFFF;\n",
              "    }\n",
              "  </style>\n",
              "\n",
              "      <script>\n",
              "        const buttonEl =\n",
              "          document.querySelector('#df-165fed22-192c-4147-af55-bee929bf0eae button.colab-df-convert');\n",
              "        buttonEl.style.display =\n",
              "          google.colab.kernel.accessAllowed ? 'block' : 'none';\n",
              "\n",
              "        async function convertToInteractive(key) {\n",
              "          const element = document.querySelector('#df-165fed22-192c-4147-af55-bee929bf0eae');\n",
              "          const dataTable =\n",
              "            await google.colab.kernel.invokeFunction('convertToInteractive',\n",
              "                                                     [key], {});\n",
              "          if (!dataTable) return;\n",
              "\n",
              "          const docLinkHtml = 'Like what you see? Visit the ' +\n",
              "            '<a target=\"_blank\" href=https://colab.research.google.com/notebooks/data_table.ipynb>data table notebook</a>'\n",
              "            + ' to learn more about interactive tables.';\n",
              "          element.innerHTML = '';\n",
              "          dataTable['output_type'] = 'display_data';\n",
              "          await google.colab.output.renderOutput(dataTable, element);\n",
              "          const docLink = document.createElement('div');\n",
              "          docLink.innerHTML = docLinkHtml;\n",
              "          element.appendChild(docLink);\n",
              "        }\n",
              "      </script>\n",
              "    </div>\n",
              "  </div>\n",
              "  "
            ]
          },
          "metadata": {},
          "execution_count": 119
        }
      ]
    },
    {
      "cell_type": "code",
      "source": [
        "#para hacer hiostogramas\n",
        "import seaborn as sns"
      ],
      "metadata": {
        "id": "CppTM3v2kT5A"
      },
      "execution_count": null,
      "outputs": []
    },
    {
      "cell_type": "code",
      "source": [
        "sns.distplot(df50medias)"
      ],
      "metadata": {
        "colab": {
          "base_uri": "https://localhost:8080/",
          "height": 338
        },
        "id": "c_tHCU2plPS9",
        "outputId": "0f9d39b3-7ac8-4d2c-c892-45d0ba0946c4"
      },
      "execution_count": null,
      "outputs": [
        {
          "output_type": "stream",
          "name": "stderr",
          "text": [
            "/usr/local/lib/python3.7/dist-packages/seaborn/distributions.py:2619: FutureWarning: `distplot` is a deprecated function and will be removed in a future version. Please adapt your code to use either `displot` (a figure-level function with similar flexibility) or `histplot` (an axes-level function for histograms).\n",
            "  warnings.warn(msg, FutureWarning)\n"
          ]
        },
        {
          "output_type": "execute_result",
          "data": {
            "text/plain": [
              "<matplotlib.axes._subplots.AxesSubplot at 0x7f60bd956890>"
            ]
          },
          "metadata": {},
          "execution_count": 121
        },
        {
          "output_type": "display_data",
          "data": {
            "text/plain": [
              "<Figure size 432x288 with 1 Axes>"
            ],
            "image/png": "[encoded data removed]"
          },
          "metadata": {
            "needs_background": "light"
          }
        }
      ]
    },
    {
      "cell_type": "code",
      "source": [],
      "metadata": {
        "id": "DC86T5tOllX1"
      },
      "execution_count": null,
      "outputs": []
    },
    {
      "cell_type": "markdown",
      "metadata": {
        "id": "YPQkPrRE4mIr"
      },
      "source": [
        "1. Lanzas una moneda justa (es decir, la probabilidad de obtener cara es $0.5$ ) tres veces. Suponga que todas las secuencias de resultados de lanzamiento de moneda, de longitud 3, son igualmente probables. Determine la probabilidad de cada uno de los siguientes eventos:\n",
        "\n",
        "    a. $\\{HHH\\}$ $3$ caras.\n",
        "    \n",
        "    b. $\\{HTH\\}$ cara, águila, cara.\n",
        "    \n",
        "    c. Cualquier sucesión con dos caras y un águila (en cualquier orden).\n",
        "    \n",
        "    d. Cualquier sucesión en donde el número de caras sea mayor o igual al número de      águilas."
      ]
    },
    {
      "cell_type": "code",
      "execution_count": null,
      "metadata": {
        "colab": {
          "base_uri": "https://localhost:8080/"
        },
        "id": "G4xnyr7p4mI5",
        "outputId": "7163bab6-a19f-4e72-9a3a-6f82e8131fb7"
      },
      "outputs": [
        {
          "output_type": "stream",
          "name": "stdout",
          "text": [
            "0.125\n",
            "0.125\n",
            "0.375\n",
            "0.5\n"
          ]
        }
      ],
      "source": [
        "from itertools import product\n",
        "from IPython.core.display import display_markdown\n",
        "import pandas as pd\n",
        "Universo = set(product({\"A\", \"S\"}, repeat = 3))\n",
        "Universo\n",
        "tresA = {omega for omega in Universo if omega[0] == \"A\" and omega[1]==\"A\" and omega[2] == \"A\"}\n",
        "tresA\n",
        "a = len(tresA)/len(Universo)\n",
        "incisob = {omega for omega in Universo if omega[0] == \"A\" and omega[1]==\"S\" and omega[2] == \"A\"}\n",
        "b = len(incisob)/len(Universo)\n",
        "incisoc = {omega for omega in Universo if omega.count(\"S\") == 2 and omega.count(\"A\") == 1}\n",
        "c = len(incisoc)/len(Universo)\n",
        "incisod = {omega for omega in Universo if omega.count(\"S\") >= omega.count(\"A\")}\n",
        "d = len(incisod)/len(Universo)\n",
        "print(a)\n",
        "print(b)\n",
        "print(c)\n",
        "print(d)\n"
      ]
    },
    {
      "cell_type": "markdown",
      "metadata": {
        "id": "E11CKMkR4mI_"
      },
      "source": [
        "2. En el ejercicio anterior, calcula las probabilidades dado que sabes que cayó una cara en el primer lanzamiento."
      ]
    },
    {
      "cell_type": "code",
      "execution_count": null,
      "metadata": {
        "id": "2jh4oXpA4mJA",
        "colab": {
          "base_uri": "https://localhost:8080/"
        },
        "outputId": "15fecd91-cfee-45cb-d699-a9e43b8dd51f"
      },
      "outputs": [
        {
          "output_type": "execute_result",
          "data": {
            "text/plain": [
              "0.5"
            ]
          },
          "metadata": {},
          "execution_count": 123
        }
      ],
      "source": [
        "# Aquí va tu código\n",
        "respuesta = {omega for omega in Universo if omega[0] == \"S\"}\n",
        "r = len(respuesta)/len(Universo)\n",
        "r\n"
      ]
    },
    {
      "cell_type": "markdown",
      "metadata": {
        "id": "7jbAJL8W4mJB"
      },
      "source": [
        "3. Alicia y Samuel eligen al azar un número real entre cero y uno. Suponemos que el par de números se elige sobre el cuadrado unitario, de modo que la probabilidad de un evento es igual a su área. Definimos los siguientes eventos:\n",
        "\n",
        "    A: la magnitud de la diferencia de los dos números es mayor que $1/3$.\n",
        "\n",
        "    B: Al menos uno de los números es mayor que $1/4$.\n",
        "\n",
        "    C: LA suma de los dos números es $1$.\n",
        "\n",
        "    D: El número de Alicia es mayor que $1/4$\n",
        "\n",
        "Calcula la probabilidad de cada evento."
      ]
    },
    {
      "cell_type": "code",
      "execution_count": null,
      "metadata": {
        "id": "EYy7rJ0E4mJD",
        "colab": {
          "base_uri": "https://localhost:8080/"
        },
        "outputId": "af0b2e22-6b96-42be-cf0c-d0bcf313b1d9"
      },
      "outputs": [
        {
          "output_type": "stream",
          "name": "stdout",
          "text": [
            "Respuesta a: 0.448\n",
            "Respuesta b: 0.953\n",
            "Respuesta c: 0.0\n",
            "Respuesta d: 0.747\n"
          ]
        }
      ],
      "source": [
        "# Aquí va tu código \n",
        "import numpy as np\n",
        "np.random.random(2)\n",
        "conteo = 0\n",
        "loops = 1000\n",
        "\n",
        "for x in range(1,loops):\n",
        "  Alicia = np.random.random()\n",
        "  Samuel = np.random.random()\n",
        "  if abs(Alicia-Samuel) > (1/3):\n",
        "    conteo = conteo + 1\n",
        "\n",
        "a= conteo / loops\n",
        "\n",
        "conteo2 = 0\n",
        "\n",
        "for x in range(1,loops):\n",
        "  Alicia = np.random.random()\n",
        "  Samuel = np.random.random()\n",
        "  if Alicia > 0.25 or Samuel > 0.25:\n",
        "    conteo2 = conteo2 + 1\n",
        "\n",
        "\n",
        "\n",
        "b= conteo2 / loops\n",
        "b\n",
        "\n",
        "conteo3 = 0\n",
        "\n",
        "for x in range(1,loops):\n",
        "  Alicia = np.random.random()\n",
        "  Samuel = np.random.random()\n",
        "  if Alicia + Samuel == 1:\n",
        "    conteo3 = conteo3 + 1\n",
        "\n",
        "c = conteo3/loops\n",
        "\n",
        "conteo4 = 0\n",
        "\n",
        "for x in range(1,loops):\n",
        "  Alicia = np.random.random()\n",
        "  Samuel = np.random.random()\n",
        "  if Alicia > (1/4):\n",
        "    conteo4 = conteo4 + 1\n",
        "\n",
        "d = conteo4/loops\n",
        "\n",
        "print(\"Respuesta a: \" + str(a))\n",
        "print(\"Respuesta b: \" + str(b))\n",
        "print(\"Respuesta c: \" + str(c))\n",
        "print(\"Respuesta d: \" + str(d))\n",
        "\n",
        "\n"
      ]
    },
    {
      "cell_type": "code",
      "source": [
        "# codigo calse\n",
        "\n",
        "from itertools import product\n",
        "\n",
        "!pip install python-intervals==1.4.0\n",
        "\n",
        "import intervals as I\n",
        "\n",
        "U = set(product())"
      ],
      "metadata": {
        "colab": {
          "base_uri": "https://localhost:8080/"
        },
        "id": "058aq_wxt3ln",
        "outputId": "e2c0436c-1747-43c8-8a30-0d71abb1d00d"
      },
      "execution_count": null,
      "outputs": [
        {
          "output_type": "stream",
          "name": "stdout",
          "text": [
            "Looking in indexes: https://pypi.org/simple, https://us-python.pkg.dev/colab-wheels/public/simple/\n",
            "Collecting python-intervals==1.4.0\n",
            "  Downloading python_intervals-1.4.0-py2.py3-none-any.whl (10 kB)\n",
            "Installing collected packages: python-intervals\n",
            "Successfully installed python-intervals-1.4.0\n"
          ]
        }
      ]
    },
    {
      "cell_type": "markdown",
      "metadata": {
        "id": "gKZ0iRSv4mJE"
      },
      "source": [
        "4. Simula una sucesión de $5$ volados simultáneos (1 muestreo) con monedas honestas que consista de 100 observaciones. Registra tus datos en un DataFrame de Pandas. "
      ]
    },
    {
      "cell_type": "code",
      "execution_count": null,
      "metadata": {
        "id": "zIdC1mkf4mJG",
        "colab": {
          "base_uri": "https://localhost:8080/",
          "height": 319
        },
        "outputId": "c81f32e6-5598-4b4b-c713-5ea3c5dd7c49"
      },
      "outputs": [
        {
          "output_type": "execute_result",
          "data": {
            "text/plain": [
              "   muestra 1  muestra 2  muestra 3  muestra 4  muestra 5  muestra 6  \\\n",
              "0          0          1          1          1          1          0   \n",
              "1          1          1          1          0          0          1   \n",
              "2          1          1          0          1          0          1   \n",
              "3          1          0          0          0          1          0   \n",
              "4          0          0          1          1          0          1   \n",
              "\n",
              "   muestra 7  muestra 8  muestra 9  muestra 10  ...  muestra 91  muestra 92  \\\n",
              "0          1          1          1           1  ...           1           0   \n",
              "1          0          1          0           1  ...           0           0   \n",
              "2          0          1          0           0  ...           1           0   \n",
              "3          1          0          1           0  ...           0           1   \n",
              "4          1          1          1           0  ...           0           0   \n",
              "\n",
              "   muestra 93  muestra 94  muestra 95  muestra 96  muestra 97  muestra 98  \\\n",
              "0           0           0           1           0           0           1   \n",
              "1           0           1           1           1           1           1   \n",
              "2           1           1           1           1           1           1   \n",
              "3           1           0           0           0           0           1   \n",
              "4           0           1           1           1           0           0   \n",
              "\n",
              "   muestra 99  muestra 100  \n",
              "0           1            1  \n",
              "1           1            0  \n",
              "2           0            0  \n",
              "3           1            0  \n",
              "4           1            0  \n",
              "\n",
              "[5 rows x 100 columns]"
            ],
            "text/html": [
              "\n",
              "  <div id=\"df-22429a8b-ea35-4c7b-b13f-23faea24c678\">\n",
              "    <div class=\"colab-df-container\">\n",
              "      <div>\n",
              "<style scoped>\n",
              "    .dataframe tbody tr th:only-of-type {\n",
              "        vertical-align: middle;\n",
              "    }\n",
              "\n",
              "    .dataframe tbody tr th {\n",
              "        vertical-align: top;\n",
              "    }\n",
              "\n",
              "    .dataframe thead th {\n",
              "        text-align: right;\n",
              "    }\n",
              "</style>\n",
              "<table border=\"1\" class=\"dataframe\">\n",
              "  <thead>\n",
              "    <tr style=\"text-align: right;\">\n",
              "      <th></th>\n",
              "      <th>muestra 1</th>\n",
              "      <th>muestra 2</th>\n",
              "      <th>muestra 3</th>\n",
              "      <th>muestra 4</th>\n",
              "      <th>muestra 5</th>\n",
              "      <th>muestra 6</th>\n",
              "      <th>muestra 7</th>\n",
              "      <th>muestra 8</th>\n",
              "      <th>muestra 9</th>\n",
              "      <th>muestra 10</th>\n",
              "      <th>...</th>\n",
              "      <th>muestra 91</th>\n",
              "      <th>muestra 92</th>\n",
              "      <th>muestra 93</th>\n",
              "      <th>muestra 94</th>\n",
              "      <th>muestra 95</th>\n",
              "      <th>muestra 96</th>\n",
              "      <th>muestra 97</th>\n",
              "      <th>muestra 98</th>\n",
              "      <th>muestra 99</th>\n",
              "      <th>muestra 100</th>\n",
              "    </tr>\n",
              "  </thead>\n",
              "  <tbody>\n",
              "    <tr>\n",
              "      <th>0</th>\n",
              "      <td>0</td>\n",
              "      <td>1</td>\n",
              "      <td>1</td>\n",
              "      <td>1</td>\n",
              "      <td>1</td>\n",
              "      <td>0</td>\n",
              "      <td>1</td>\n",
              "      <td>1</td>\n",
              "      <td>1</td>\n",
              "      <td>1</td>\n",
              "      <td>...</td>\n",
              "      <td>1</td>\n",
              "      <td>0</td>\n",
              "      <td>0</td>\n",
              "      <td>0</td>\n",
              "      <td>1</td>\n",
              "      <td>0</td>\n",
              "      <td>0</td>\n",
              "      <td>1</td>\n",
              "      <td>1</td>\n",
              "      <td>1</td>\n",
              "    </tr>\n",
              "    <tr>\n",
              "      <th>1</th>\n",
              "      <td>1</td>\n",
              "      <td>1</td>\n",
              "      <td>1</td>\n",
              "      <td>0</td>\n",
              "      <td>0</td>\n",
              "      <td>1</td>\n",
              "      <td>0</td>\n",
              "      <td>1</td>\n",
              "      <td>0</td>\n",
              "      <td>1</td>\n",
              "      <td>...</td>\n",
              "      <td>0</td>\n",
              "      <td>0</td>\n",
              "      <td>0</td>\n",
              "      <td>1</td>\n",
              "      <td>1</td>\n",
              "      <td>1</td>\n",
              "      <td>1</td>\n",
              "      <td>1</td>\n",
              "      <td>1</td>\n",
              "      <td>0</td>\n",
              "    </tr>\n",
              "    <tr>\n",
              "      <th>2</th>\n",
              "      <td>1</td>\n",
              "      <td>1</td>\n",
              "      <td>0</td>\n",
              "      <td>1</td>\n",
              "      <td>0</td>\n",
              "      <td>1</td>\n",
              "      <td>0</td>\n",
              "      <td>1</td>\n",
              "      <td>0</td>\n",
              "      <td>0</td>\n",
              "      <td>...</td>\n",
              "      <td>1</td>\n",
              "      <td>0</td>\n",
              "      <td>1</td>\n",
              "      <td>1</td>\n",
              "      <td>1</td>\n",
              "      <td>1</td>\n",
              "      <td>1</td>\n",
              "      <td>1</td>\n",
              "      <td>0</td>\n",
              "      <td>0</td>\n",
              "    </tr>\n",
              "    <tr>\n",
              "      <th>3</th>\n",
              "      <td>1</td>\n",
              "      <td>0</td>\n",
              "      <td>0</td>\n",
              "      <td>0</td>\n",
              "      <td>1</td>\n",
              "      <td>0</td>\n",
              "      <td>1</td>\n",
              "      <td>0</td>\n",
              "      <td>1</td>\n",
              "      <td>0</td>\n",
              "      <td>...</td>\n",
              "      <td>0</td>\n",
              "      <td>1</td>\n",
              "      <td>1</td>\n",
              "      <td>0</td>\n",
              "      <td>0</td>\n",
              "      <td>0</td>\n",
              "      <td>0</td>\n",
              "      <td>1</td>\n",
              "      <td>1</td>\n",
              "      <td>0</td>\n",
              "    </tr>\n",
              "    <tr>\n",
              "      <th>4</th>\n",
              "      <td>0</td>\n",
              "      <td>0</td>\n",
              "      <td>1</td>\n",
              "      <td>1</td>\n",
              "      <td>0</td>\n",
              "      <td>1</td>\n",
              "      <td>1</td>\n",
              "      <td>1</td>\n",
              "      <td>1</td>\n",
              "      <td>0</td>\n",
              "      <td>...</td>\n",
              "      <td>0</td>\n",
              "      <td>0</td>\n",
              "      <td>0</td>\n",
              "      <td>1</td>\n",
              "      <td>1</td>\n",
              "      <td>1</td>\n",
              "      <td>0</td>\n",
              "      <td>0</td>\n",
              "      <td>1</td>\n",
              "      <td>0</td>\n",
              "    </tr>\n",
              "  </tbody>\n",
              "</table>\n",
              "<p>5 rows × 100 columns</p>\n",
              "</div>\n",
              "      <button class=\"colab-df-convert\" onclick=\"convertToInteractive('df-22429a8b-ea35-4c7b-b13f-23faea24c678')\"\n",
              "              title=\"Convert this dataframe to an interactive table.\"\n",
              "              style=\"display:none;\">\n",
              "        \n",
              "  <svg xmlns=\"http://www.w3.org/2000/svg\" height=\"24px\"viewBox=\"0 0 24 24\"\n",
              "       width=\"24px\">\n",
              "    <path d=\"M0 0h24v24H0V0z\" fill=\"none\"/>\n",
              "    <path d=\"M18.56 5.44l.94 2.06.94-2.06 2.06-.94-2.06-.94-.94-2.06-.94 2.06-2.06.94zm-11 1L8.5 8.5l.94-2.06 2.06-.94-2.06-.94L8.5 2.5l-.94 2.06-2.06.94zm10 10l.94 2.06.94-2.06 2.06-.94-2.06-.94-.94-2.06-.94 2.06-2.06.94z\"/><path d=\"M17.41 7.96l-1.37-1.37c-.4-.4-.92-.59-1.43-.59-.52 0-1.04.2-1.43.59L10.3 9.45l-7.72 7.72c-.78.78-.78 2.05 0 2.83L4 21.41c.39.39.9.59 1.41.59.51 0 1.02-.2 1.41-.59l7.78-7.78 2.81-2.81c.8-.78.8-2.07 0-2.86zM5.41 20L4 18.59l7.72-7.72 1.47 1.35L5.41 20z\"/>\n",
              "  </svg>\n",
              "      </button>\n",
              "      \n",
              "  <style>\n",
              "    .colab-df-container {\n",
              "      display:flex;\n",
              "      flex-wrap:wrap;\n",
              "      gap: 12px;\n",
              "    }\n",
              "\n",
              "    .colab-df-convert {\n",
              "      background-color: #E8F0FE;\n",
              "      border: none;\n",
              "      border-radius: 50%;\n",
              "      cursor: pointer;\n",
              "      display: none;\n",
              "      fill: #1967D2;\n",
              "      height: 32px;\n",
              "      padding: 0 0 0 0;\n",
              "      width: 32px;\n",
              "    }\n",
              "\n",
              "    .colab-df-convert:hover {\n",
              "      background-color: #E2EBFA;\n",
              "      box-shadow: 0px 1px 2px rgba(60, 64, 67, 0.3), 0px 1px 3px 1px rgba(60, 64, 67, 0.15);\n",
              "      fill: #174EA6;\n",
              "    }\n",
              "\n",
              "    [theme=dark] .colab-df-convert {\n",
              "      background-color: #3B4455;\n",
              "      fill: #D2E3FC;\n",
              "    }\n",
              "\n",
              "    [theme=dark] .colab-df-convert:hover {\n",
              "      background-color: #434B5C;\n",
              "      box-shadow: 0px 1px 3px 1px rgba(0, 0, 0, 0.15);\n",
              "      filter: drop-shadow(0px 1px 2px rgba(0, 0, 0, 0.3));\n",
              "      fill: #FFFFFF;\n",
              "    }\n",
              "  </style>\n",
              "\n",
              "      <script>\n",
              "        const buttonEl =\n",
              "          document.querySelector('#df-22429a8b-ea35-4c7b-b13f-23faea24c678 button.colab-df-convert');\n",
              "        buttonEl.style.display =\n",
              "          google.colab.kernel.accessAllowed ? 'block' : 'none';\n",
              "\n",
              "        async function convertToInteractive(key) {\n",
              "          const element = document.querySelector('#df-22429a8b-ea35-4c7b-b13f-23faea24c678');\n",
              "          const dataTable =\n",
              "            await google.colab.kernel.invokeFunction('convertToInteractive',\n",
              "                                                     [key], {});\n",
              "          if (!dataTable) return;\n",
              "\n",
              "          const docLinkHtml = 'Like what you see? Visit the ' +\n",
              "            '<a target=\"_blank\" href=https://colab.research.google.com/notebooks/data_table.ipynb>data table notebook</a>'\n",
              "            + ' to learn more about interactive tables.';\n",
              "          element.innerHTML = '';\n",
              "          dataTable['output_type'] = 'display_data';\n",
              "          await google.colab.output.renderOutput(dataTable, element);\n",
              "          const docLink = document.createElement('div');\n",
              "          docLink.innerHTML = docLinkHtml;\n",
              "          element.appendChild(docLink);\n",
              "        }\n",
              "      </script>\n",
              "    </div>\n",
              "  </div>\n",
              "  "
            ]
          },
          "metadata": {},
          "execution_count": 126
        }
      ],
      "source": [
        "# Aquí va tu código\n",
        "import numpy as np\n",
        "import pandas as pd\n",
        "df = pd.DataFrame()\n",
        "\n",
        "for i in range(1,101):\n",
        "  volados = np.random.binomial(1,0.5, 5)\n",
        "  columna = f\"muestra {i}\"\n",
        "  df[columna]=volados\n",
        "\n",
        "df"
      ]
    },
    {
      "cell_type": "code",
      "source": [],
      "metadata": {
        "id": "Owhd1bJv_NcC"
      },
      "execution_count": null,
      "outputs": []
    },
    {
      "cell_type": "code",
      "execution_count": null,
      "metadata": {
        "id": "WRqvzp8ydJx7"
      },
      "outputs": [],
      "source": [
        "\n"
      ]
    },
    {
      "cell_type": "markdown",
      "source": [
        "1. − Lanzas una moneda justa tres veces:\n",
        "¿Cuál es la probabilidad de que observes exactamente una cara?\n",
        "Dado que has observado al menos una cara, ¿cuál es la probabilidad de que observes al menos dos caras?\n"
      ],
      "metadata": {
        "id": "6WtPDvBidMdy"
      }
    },
    {
      "cell_type": "code",
      "source": [
        "from IPython.core.display import display_markdown\n",
        "from itertools import product\n",
        "import pandas as pd"
      ],
      "metadata": {
        "id": "g2_9XL3zdPV9"
      },
      "execution_count": null,
      "outputs": []
    },
    {
      "cell_type": "code",
      "source": [
        "UNIVERSO = set(product([\"Aguila\", \"Sol\"], repeat = 3))"
      ],
      "metadata": {
        "id": "Bqmk3P34dhG-"
      },
      "execution_count": null,
      "outputs": []
    },
    {
      "cell_type": "code",
      "source": [
        "UNIVERSO"
      ],
      "metadata": {
        "colab": {
          "base_uri": "https://localhost:8080/"
        },
        "id": "7IMQ-L6ydtTx",
        "outputId": "8f255d08-382c-4fa9-87c8-b02f594b028a"
      },
      "execution_count": null,
      "outputs": [
        {
          "output_type": "execute_result",
          "data": {
            "text/plain": [
              "{('Aguila', 'Aguila', 'Aguila'),\n",
              " ('Aguila', 'Aguila', 'Sol'),\n",
              " ('Aguila', 'Sol', 'Aguila'),\n",
              " ('Aguila', 'Sol', 'Sol'),\n",
              " ('Sol', 'Aguila', 'Aguila'),\n",
              " ('Sol', 'Aguila', 'Sol'),\n",
              " ('Sol', 'Sol', 'Aguila'),\n",
              " ('Sol', 'Sol', 'Sol')}"
            ]
          },
          "metadata": {},
          "execution_count": 129
        }
      ]
    },
    {
      "cell_type": "code",
      "source": [
        "SoloUnaCara = {x for x in UNIVERSO if x.count(\"Aguila\") ==1}\n",
        "SoloUnaCara"
      ],
      "metadata": {
        "colab": {
          "base_uri": "https://localhost:8080/"
        },
        "id": "zqxoXzF6rS-1",
        "outputId": "9c2a5235-a10b-43f5-922c-270f3dbcd4b5"
      },
      "execution_count": null,
      "outputs": [
        {
          "output_type": "execute_result",
          "data": {
            "text/plain": [
              "{('Aguila', 'Sol', 'Sol'), ('Sol', 'Aguila', 'Sol'), ('Sol', 'Sol', 'Aguila')}"
            ]
          },
          "metadata": {},
          "execution_count": 130
        }
      ]
    },
    {
      "cell_type": "code",
      "source": [
        "len(SoloUnaCara)/len(UNIVERSO)"
      ],
      "metadata": {
        "colab": {
          "base_uri": "https://localhost:8080/"
        },
        "id": "k4qAEVSur616",
        "outputId": "dc8a3269-5f24-40c7-b996-50bda0bb47bb"
      },
      "execution_count": null,
      "outputs": [
        {
          "output_type": "execute_result",
          "data": {
            "text/plain": [
              "0.375"
            ]
          },
          "metadata": {},
          "execution_count": 131
        }
      ]
    },
    {
      "cell_type": "markdown",
      "source": [
        "37.5% PARA VER SOLO UNA CARA"
      ],
      "metadata": {
        "id": "9D-7KOF8sC_u"
      }
    },
    {
      "cell_type": "code",
      "source": [
        "AlmenosDosCaras = {x for x in UNIVERSO if x.count(\"Aguila\")>=2}\n",
        "len(AlmenosDosCaras)/len(UNIVERSO)"
      ],
      "metadata": {
        "colab": {
          "base_uri": "https://localhost:8080/"
        },
        "id": "NTC4oiXosGmN",
        "outputId": "e5da59a8-5a8e-431f-bf27-849957180a27"
      },
      "execution_count": null,
      "outputs": [
        {
          "output_type": "execute_result",
          "data": {
            "text/plain": [
              "0.5"
            ]
          },
          "metadata": {},
          "execution_count": 132
        }
      ]
    },
    {
      "cell_type": "markdown",
      "source": [
        "50% DE QUE SALGAN MINIMO DOS CARAS"
      ],
      "metadata": {
        "id": "8EE9oermsVJq"
      }
    },
    {
      "cell_type": "markdown",
      "source": [
        "2. − Para tres eventos A, B and C, sabemos que\n",
        "A y C son independientes,\n",
        "B y C son independientes,\n",
        "A y B are disjuntos,\n",
        "P(A ∪ C) = 2/3, P(B ∪ C) = 3/4, P(A ∪ B ∪ C) = 11/12.\n",
        "Encuentra P(A), P(B), and P(C).\n"
      ],
      "metadata": {
        "id": "RX45Elj1mS3i"
      }
    },
    {
      "cell_type": "code",
      "source": [
        "def probCond(A, B):\n",
        "  return len(A, B)/len(B)"
      ],
      "metadata": {
        "id": "zkSQEcnwmTS6"
      },
      "execution_count": null,
      "outputs": []
    },
    {
      "cell_type": "code",
      "source": [],
      "metadata": {
        "id": "CNrER-ZNoweI"
      },
      "execution_count": null,
      "outputs": []
    },
    {
      "cell_type": "markdown",
      "source": [],
      "metadata": {
        "id": "UfaCo2RQfYa4"
      }
    },
    {
      "cell_type": "code",
      "source": [],
      "metadata": {
        "id": "0EBSKy0qm3lL"
      },
      "execution_count": null,
      "outputs": []
    },
    {
      "cell_type": "markdown",
      "source": [
        "3. En la CDMX llueve la tercera parte de los días. Dado que llueve, habrá mucho tráfico con una probabilidad de 1/2, y dado que no\n",
        "llueve, habrá mucho tráfico con una probabilidad de 1/4. Si llueve y hay mucho tráfico, llego tarde al trabajo con una probabilidad de 1/2.\n",
        "Por otro lado, la probabilidad de llegar tarde se reduce a 1/8 si no llueve y no hay mucho tráfico. En otras situaciones (lluvia y sin tráfico,\n",
        "sin lluvia y tráfico) la probabilidad de llegar tarde es de 0, 25. Elige un día al azar.\n",
        "¿Cuál es la probabilidad de que no llueva y haya mucho tráfico y no llegue tarde?\n",
        "¿Cuál es la probabilidad de que llegue tarde?\n",
        "Dado que llegué tarde al trabajo, ¿cuál es la probabilidad de que lloviera ese día?"
      ],
      "metadata": {
        "id": "NQtElVBnvHkV"
      }
    },
    {
      "cell_type": "code",
      "source": [],
      "metadata": {
        "id": "6hGoO-I-vMNe"
      },
      "execution_count": null,
      "outputs": []
    },
    {
      "cell_type": "markdown",
      "source": [
        "Si no llueve, hay mucho trafico y llegas bien la probabilidad es de 15% prociento. y la probabilidad de que no llueva ese día es del 67% porciento.\n"
      ],
      "metadata": {
        "id": "ZiDK4E_KnLcF"
      }
    },
    {
      "cell_type": "markdown",
      "source": [
        "4. 4. − En cierto pueblo, 30% de la gente son conservadores; 50% socialistas; y 20% liberales. En esta localidad en las últimas elecciones\n",
        "votaron el 65% de los conservadores, el 82% de los socialistas y el 50% de los liberales. Se selecciona al azar una persona del pueblo y\n",
        "afirma que votó en las últimas elecciones. ¿Cuál es la probabilidad de que sea socialista?"
      ],
      "metadata": {
        "id": "3TcI8EdFxC2Y"
      }
    },
    {
      "cell_type": "code",
      "source": [],
      "metadata": {
        "id": "ifh0mZUPxD-A"
      },
      "execution_count": null,
      "outputs": []
    },
    {
      "cell_type": "markdown",
      "source": [
        "41%\n"
      ],
      "metadata": {
        "id": "1Q1JvC8Rnqi1"
      }
    },
    {
      "cell_type": "code",
      "source": [],
      "metadata": {
        "id": "72ma4L0YnrUO"
      },
      "execution_count": null,
      "outputs": []
    }
  ]
}